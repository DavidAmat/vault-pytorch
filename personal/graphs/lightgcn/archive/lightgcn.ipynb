{
 "cells": [
  {
   "cell_type": "markdown",
   "id": "bc1ca1e7-14b5-496e-bb2a-fbeb71c5999e",
   "metadata": {},
   "source": [
    "# LightGCN Book-Crossing implementation"
   ]
  },
  {
   "cell_type": "code",
   "execution_count": 54,
   "id": "e3c63021-92a2-4579-8c1d-89d37c1b688d",
   "metadata": {},
   "outputs": [],
   "source": [
    "from os.path import join as jp\n",
    "import pandas as pd\n",
    "import torch\n",
    "from sklearn.model_selection import train_test_split\n",
    "from model import LightGCN\n",
    "from torch import optim\n",
    "import tqdm\n",
    "from utils import bpr_loss"
   ]
  },
  {
   "cell_type": "code",
   "execution_count": 1,
   "id": "90c62a31-befc-4cfc-91b5-79e47e493ee7",
   "metadata": {},
   "outputs": [
    {
     "name": "stderr",
     "output_type": "stream",
     "text": [
      "/Users/davidamat/anaconda3/envs/vault_pytorch_lightgcn/lib/python3.9/site-packages/tqdm/auto.py:21: TqdmWarning: IProgress not found. Please update jupyter and ipywidgets. See https://ipywidgets.readthedocs.io/en/stable/user_install.html\n",
      "  from .autonotebook import tqdm as notebook_tqdm\n"
     ]
    }
   ],
   "source": [
    "import torch"
   ]
  },
  {
   "cell_type": "code",
   "execution_count": 2,
   "id": "d213f176-9e82-4699-9173-b858f91c7f2d",
   "metadata": {},
   "outputs": [
    {
     "data": {
      "text/plain": [
       "'1.13.1'"
      ]
     },
     "execution_count": 2,
     "metadata": {},
     "output_type": "execute_result"
    }
   ],
   "source": [
    "torch.__version__"
   ]
  },
  {
   "cell_type": "markdown",
   "id": "71540418-cb69-40c7-930a-52f21c41ae6f",
   "metadata": {},
   "source": [
    "## Downloading the data"
   ]
  },
  {
   "cell_type": "markdown",
   "id": "adda3725-46e9-460f-b7e2-c4b8dc2c85a9",
   "metadata": {},
   "source": [
    "- From Kaggle: https://www.kaggle.com/datasets/somnambwl/bookcrossing-dataset/\n",
    "- Destination path: /Users/davidamat/Documents/david/learning/graph/data"
   ]
  },
  {
   "cell_type": "code",
   "execution_count": 2,
   "id": "b580e34b-f3b4-43e1-99d7-0d9f78c67a5e",
   "metadata": {},
   "outputs": [],
   "source": [
    "path_data = \"/Users/davidamat/Documents/david/learning/graph/data/book-crossing/\""
   ]
  },
  {
   "cell_type": "code",
   "execution_count": 3,
   "id": "ec013f70-f9e8-41db-b754-fb3e8f76c2b8",
   "metadata": {},
   "outputs": [
    {
     "name": "stderr",
     "output_type": "stream",
     "text": [
      "/var/folders/q8/0tr_xyt14xjgdbrbsqcbtpcc0000gn/T/ipykernel_32645/3612776475.py:7: DtypeWarning: Columns (0) have mixed types. Specify dtype option on import or set low_memory=False.\n",
      "  users = pd.read_csv(path_users, sep=';', encoding='latin-1')\n"
     ]
    }
   ],
   "source": [
    "path_ratings = jp(path_data, 'Ratings.csv')\n",
    "path_users = jp(path_data, 'Users.csv')\n",
    "path_books = jp(path_data, 'Books.csv')\n",
    "\n",
    "\n",
    "ratings = pd.read_csv(path_ratings, sep=';', encoding='latin-1')\n",
    "users = pd.read_csv(path_users, sep=';', encoding='latin-1')\n",
    "books = pd.read_csv(path_books, sep=';', encoding='latin-1', on_bad_lines=\"skip\")"
   ]
  },
  {
   "cell_type": "markdown",
   "id": "d5869b1b-bc6a-4dc5-914f-a889f7525f34",
   "metadata": {},
   "source": [
    "## Preprocessing the Book-Crossing dataset\n"
   ]
  },
  {
   "cell_type": "code",
   "execution_count": 4,
   "id": "5a28a8df-5ab7-468d-b377-2b6cae010867",
   "metadata": {},
   "outputs": [
    {
     "name": "stdout",
     "output_type": "stream",
     "text": [
      "Users: 19557\n",
      "Items: 56913\n",
      "Total Users and Items: 76470\n"
     ]
    }
   ],
   "source": [
    "# Identifiers\n",
    "books_ids = books['ISBN'].unique()\n",
    "user_ids = users['User-ID'].unique()\n",
    "\n",
    "# Ratings as df\n",
    "df = ratings.copy()\n",
    "\n",
    "# Mask only ratings of books and users that appear on the master tables of each one\n",
    "mask_books_ids = df['ISBN'].isin(books_ids)\n",
    "mask_users_ids = df['User-ID'].isin(user_ids)\n",
    "df = df.loc[mask_books_ids & mask_users_ids]\n",
    "\n",
    "# Keep the 100k highest ratings\n",
    "df = df[df['Rating'] >= 8].iloc[:100000]\n",
    "\n",
    "# Create mappings\n",
    "user_mapping = {userid: i for i, userid in enumerate(df['User-ID'].unique())}\n",
    "item_mapping = {isbn: i for i, isbn in enumerate(df['ISBN'].unique())}\n",
    "\n",
    "# Count users and items\n",
    "num_users = len(user_mapping)\n",
    "num_items = len(item_mapping)\n",
    "num_total = num_users + num_items\n",
    "\n",
    "# Construct the IDS columns\n",
    "df_ids = df.copy()\n",
    "df_ids[\"u_id\"] = df_ids[\"User-ID\"].map(user_mapping)\n",
    "df_ids[\"b_id\"] = df_ids[\"ISBN\"].map(item_mapping)\n",
    "\n",
    "print(\"Users:\", num_users)\n",
    "print(\"Items:\", num_items)\n",
    "print(\"Total Users and Items:\", num_total)"
   ]
  },
  {
   "cell_type": "code",
   "execution_count": 5,
   "id": "01c102de-ec19-482f-8677-586e7a87d45f",
   "metadata": {},
   "outputs": [
    {
     "data": {
      "text/html": [
       "<div>\n",
       "<style scoped>\n",
       "    .dataframe tbody tr th:only-of-type {\n",
       "        vertical-align: middle;\n",
       "    }\n",
       "\n",
       "    .dataframe tbody tr th {\n",
       "        vertical-align: top;\n",
       "    }\n",
       "\n",
       "    .dataframe thead th {\n",
       "        text-align: right;\n",
       "    }\n",
       "</style>\n",
       "<table border=\"1\" class=\"dataframe\">\n",
       "  <thead>\n",
       "    <tr style=\"text-align: right;\">\n",
       "      <th></th>\n",
       "      <th>User-ID</th>\n",
       "      <th>ISBN</th>\n",
       "      <th>Rating</th>\n",
       "    </tr>\n",
       "  </thead>\n",
       "  <tbody>\n",
       "    <tr>\n",
       "      <th>9586</th>\n",
       "      <td>12</td>\n",
       "      <td>1879384493</td>\n",
       "      <td>10</td>\n",
       "    </tr>\n",
       "    <tr>\n",
       "      <th>9591</th>\n",
       "      <td>16</td>\n",
       "      <td>0345402871</td>\n",
       "      <td>9</td>\n",
       "    </tr>\n",
       "    <tr>\n",
       "      <th>9607</th>\n",
       "      <td>26</td>\n",
       "      <td>0446310786</td>\n",
       "      <td>10</td>\n",
       "    </tr>\n",
       "    <tr>\n",
       "      <th>9608</th>\n",
       "      <td>26</td>\n",
       "      <td>0449005615</td>\n",
       "      <td>9</td>\n",
       "    </tr>\n",
       "    <tr>\n",
       "      <th>9609</th>\n",
       "      <td>32</td>\n",
       "      <td>0060168013</td>\n",
       "      <td>8</td>\n",
       "    </tr>\n",
       "  </tbody>\n",
       "</table>\n",
       "</div>"
      ],
      "text/plain": [
       "      User-ID        ISBN  Rating\n",
       "9586       12  1879384493      10\n",
       "9591       16  0345402871       9\n",
       "9607       26  0446310786      10\n",
       "9608       26  0449005615       9\n",
       "9609       32  0060168013       8"
      ]
     },
     "execution_count": 5,
     "metadata": {},
     "output_type": "execute_result"
    }
   ],
   "source": [
    "df.head()"
   ]
  },
  {
   "cell_type": "markdown",
   "id": "2f82c581-25df-4ebb-b61c-091ab6817aeb",
   "metadata": {},
   "source": [
    "## Edge Indices"
   ]
  },
  {
   "cell_type": "code",
   "execution_count": 24,
   "id": "ab87f406-80ca-4fbc-8634-af51722140e4",
   "metadata": {},
   "outputs": [
    {
     "name": "stdout",
     "output_type": "stream",
     "text": [
      "Num users: 19557\n",
      "Num items: 56913\n",
      "Num nodes: 76470\n"
     ]
    }
   ],
   "source": [
    "# Build the adjacency matrix based on user ratings:\n",
    "\n",
    "# 1) Take the column of users and convert their ID into the internal ID\n",
    "user_ids = torch.LongTensor([user_mapping[i] for i in df['User-ID']])\n",
    "\n",
    "# 2) Take the column of items and convert their ID into the internal ID\n",
    "item_ids = torch.LongTensor([item_mapping[i] for i in df['ISBN']])\n",
    "\n",
    "# Number of users and items\n",
    "num_users = len(user_ids.unique())\n",
    "num_items = len(item_ids.unique())\n",
    "num_nodes = num_users + num_items\n",
    "\n",
    "# 3) Create the edge tensor as the relationship between 1) and 2) (they come from ratings matrix)\n",
    "edge_index = torch.stack((user_ids, item_ids))\n",
    "\n",
    "print(\"Num users:\", num_users)\n",
    "print(\"Num items:\", num_items)\n",
    "print(\"Num nodes:\", num_nodes)\n"
   ]
  },
  {
   "cell_type": "markdown",
   "id": "95a64018-7962-4417-972c-a767fa78a629",
   "metadata": {},
   "source": [
    "## Splitting dataset"
   ]
  },
  {
   "cell_type": "code",
   "execution_count": 12,
   "id": "f31267ce-bc1b-45a0-8836-92571e71e3e3",
   "metadata": {},
   "outputs": [],
   "source": [
    "# Create training, validation, and test adjacency matrices\n",
    "train_index, test_index = train_test_split(range(len(df)), test_size=0.2, random_state=0)\n",
    "val_index, test_index = train_test_split(test_index, test_size=0.5, random_state=0)"
   ]
  },
  {
   "cell_type": "code",
   "execution_count": 13,
   "id": "9ec8ee21-afbc-459b-ab4d-74d1bc86e65b",
   "metadata": {},
   "outputs": [
    {
     "name": "stdout",
     "output_type": "stream",
     "text": [
      "Train: [0, 1, 2, 4, 5, 7, 8, 10, 11, 12, 13, 15, 16, 18, 19, 20, 21, 22, 24, 27]\n",
      "Test: [3, 14, 17, 23, 34, 48, 52, 56, 60, 63, 65, 68, 79, 109, 110, 117, 157, 165, 187, 196]\n",
      "Valid: [6, 9, 25, 26, 36, 41, 51, 54, 69, 72, 90, 105, 119, 121, 125, 128, 133, 151, 156, 166]\n"
     ]
    }
   ],
   "source": [
    "print(\"Train:\", sorted(train_index)[:20])\n",
    "print(\"Test:\", sorted(test_index)[:20])\n",
    "print(\"Valid:\", sorted(val_index)[:20])"
   ]
  },
  {
   "cell_type": "code",
   "execution_count": 25,
   "id": "a5305b31-0a32-4913-9184-a7ce0a64d074",
   "metadata": {},
   "outputs": [],
   "source": [
    "# Edge indices\n",
    "train_edge_index = edge_index[:, train_index]\n",
    "val_edge_index = edge_index[:, val_index]\n",
    "test_edge_index = edge_index[:, test_index]\n",
    "\n",
    "# Edge values\n",
    "train_edge_values = torch.ones_like(train_edge_index[0,:])\n",
    "valid_edge_values = torch.ones_like(val_edge_index[0,:])\n",
    "test_edge_values = torch.ones_like(test_edge_index[0,:])"
   ]
  },
  {
   "cell_type": "markdown",
   "id": "fae8522b-f502-4ad6-ae68-6f4a5cea4718",
   "metadata": {},
   "source": [
    "## LightGCN"
   ]
  },
  {
   "cell_type": "code",
   "execution_count": 52,
   "id": "748ab7a2-e333-4e0a-9495-bd314ad83bde",
   "metadata": {},
   "outputs": [
    {
     "name": "stdout",
     "output_type": "stream",
     "text": [
      "Number of batches per epoch: 2500\n"
     ]
    }
   ],
   "source": [
    "K = 20\n",
    "K_LIST = [1,5,10,15]\n",
    "\n",
    "LAMBDA = 1e-6\n",
    "BATCH_SIZE = 32\n",
    "NUM_LAYERS = 4\n",
    "DIM_EMBEDDING = 64\n",
    "EPOCHS = 31\n",
    "\n",
    "# Side computations\n",
    "n_batch = int(len(train_index)/BATCH_SIZE)\n",
    "print(\"Number of batches per epoch:\", n_batch)"
   ]
  },
  {
   "cell_type": "code",
   "execution_count": 30,
   "id": "29cde01f-4f41-4992-987c-d5bd526f5304",
   "metadata": {},
   "outputs": [
    {
     "name": "stderr",
     "output_type": "stream",
     "text": [
      "/Users/davidamat/Documents/david/vault/vault-pytorch/personal/lightgcn/model.py:98: RuntimeWarning: divide by zero encountered in power\n",
      "  d_inv = np.power(rowsum, -0.5).flatten()\n"
     ]
    },
    {
     "name": "stdout",
     "output_type": "stream",
     "text": [
      "CPU times: user 2min 53s, sys: 21.9 s, total: 3min 15s\n",
      "Wall time: 3min 17s\n"
     ]
    }
   ],
   "source": [
    "%%time\n",
    "model = LightGCN(\n",
    "    num_users=num_users, \n",
    "    num_items=num_items, \n",
    "    edge_index=train_edge_index,\n",
    "    edge_values=train_edge_values,\n",
    "    edge_index_val=val_edge_index,\n",
    "    edge_values_val=valid_edge_values,\n",
    "    num_layers=NUM_LAYERS,\n",
    "    dim_h=DIM_EMBEDDING\n",
    ")"
   ]
  },
  {
   "cell_type": "markdown",
   "id": "7e49700b-5388-46ce-921f-3e58e8f163fc",
   "metadata": {},
   "source": [
    "## To Device"
   ]
  },
  {
   "cell_type": "code",
   "execution_count": 44,
   "id": "3674014c-3a69-44bd-ba53-601272b5c15b",
   "metadata": {},
   "outputs": [],
   "source": [
    "device = torch.device('cuda' if torch.cuda.is_available() else 'cpu')\n",
    "\n",
    "model = model.to(device)\n",
    "edge_index = edge_index.to(device)\n",
    "train_edge_index = train_edge_index.to(device)\n",
    "val_edge_index = val_edge_index.to(device)\n",
    "\n",
    "optimizer = optim.Adam(model.parameters(), lr=0.001)"
   ]
  },
  {
   "cell_type": "markdown",
   "id": "5de67234-93b2-40d6-92aa-85991b15045a",
   "metadata": {},
   "source": [
    "## Training Loop"
   ]
  },
  {
   "cell_type": "code",
   "execution_count": 58,
   "id": "03c79346-ce11-4c55-9531-111430fa91eb",
   "metadata": {},
   "outputs": [
    {
     "name": "stderr",
     "output_type": "stream",
     "text": [
      "  0%|                                                                                                                                                    | 0/31 [00:00<?, ?it/s]\n",
      "  0%|                                                                                                                                                  | 0/2500 [00:00<?, ?it/s]\u001b[A\n",
      "  0%|                                                                                                                                          | 1/2500 [00:00<09:41,  4.30it/s]\u001b[A\n",
      "  0%|                                                                                                                                          | 2/2500 [00:00<09:53,  4.21it/s]\u001b[A\n",
      "  0%|▏                                                                                                                                         | 3/2500 [00:00<10:17,  4.04it/s]\u001b[A\n",
      "  0%|▏                                                                                                                                         | 4/2500 [00:00<10:20,  4.02it/s]\u001b[A\n",
      "  0%|▎                                                                                                                                         | 5/2500 [00:01<10:25,  3.99it/s]\u001b[A\n",
      "  0%|▎                                                                                                                                         | 6/2500 [00:01<10:05,  4.12it/s]\u001b[A\n",
      "  0%|▍                                                                                                                                         | 7/2500 [00:01<10:00,  4.15it/s]\u001b[A\n",
      "  0%|▍                                                                                                                                         | 8/2500 [00:01<10:05,  4.11it/s]\u001b[A\n",
      "  0%|▍                                                                                                                                         | 9/2500 [00:02<10:08,  4.10it/s]\u001b[A\n",
      "  0%|▌                                                                                                                                        | 10/2500 [00:02<10:11,  4.07it/s]\u001b[A\n",
      "  0%|▌                                                                                                                                        | 11/2500 [00:02<10:01,  4.14it/s]\u001b[A\n",
      "  0%|▋                                                                                                                                        | 12/2500 [00:02<09:54,  4.19it/s]\u001b[A\n",
      "  1%|▋                                                                                                                                        | 13/2500 [00:03<10:05,  4.11it/s]\u001b[A\n",
      "  1%|▊                                                                                                                                        | 14/2500 [00:03<10:17,  4.03it/s]\u001b[A\n",
      "  1%|▊                                                                                                                                        | 15/2500 [00:03<10:16,  4.03it/s]\u001b[A\n",
      "  1%|▉                                                                                                                                        | 16/2500 [00:03<10:07,  4.09it/s]\u001b[A\n",
      "  1%|▉                                                                                                                                        | 17/2500 [00:04<10:00,  4.14it/s]\u001b[A\n",
      "  1%|▉                                                                                                                                        | 18/2500 [00:04<10:10,  4.06it/s]\u001b[A\n",
      "  1%|█                                                                                                                                        | 19/2500 [00:04<10:17,  4.02it/s]\u001b[A\n",
      "  1%|█                                                                                                                                        | 20/2500 [00:04<10:19,  4.00it/s]\u001b[A\n",
      "  1%|█▏                                                                                                                                       | 21/2500 [00:05<10:15,  4.03it/s]\u001b[A\n",
      "  1%|█▏                                                                                                                                       | 22/2500 [00:05<10:07,  4.08it/s]\u001b[A\n",
      "  1%|█▎                                                                                                                                       | 23/2500 [00:05<10:21,  3.99it/s]\u001b[A\n",
      "  1%|█▎                                                                                                                                       | 24/2500 [00:05<10:27,  3.95it/s]\u001b[A\n",
      "  1%|█▎                                                                                                                                       | 25/2500 [00:06<10:27,  3.94it/s]\u001b[A\n",
      "  1%|█▍                                                                                                                                       | 26/2500 [00:06<10:21,  3.98it/s]\u001b[A\n",
      "  1%|█▍                                                                                                                                       | 27/2500 [00:06<10:09,  4.06it/s]\u001b[A\n",
      "  1%|█▌                                                                                                                                       | 28/2500 [00:06<10:11,  4.04it/s]\u001b[A\n",
      "  1%|█▌                                                                                                                                       | 29/2500 [00:07<10:29,  3.92it/s]\u001b[A\n",
      "  0%|                                                                                                                                                    | 0/31 [00:07<?, ?it/s]\n"
     ]
    },
    {
     "ename": "KeyboardInterrupt",
     "evalue": "",
     "output_type": "error",
     "traceback": [
      "\u001b[0;31m---------------------------------------------------------------------------\u001b[0m",
      "\u001b[0;31mKeyboardInterrupt\u001b[0m                         Traceback (most recent call last)",
      "Cell \u001b[0;32mIn[58], line 28\u001b[0m\n\u001b[1;32m     20\u001b[0m     train_loss \u001b[38;5;241m=\u001b[39m bpr_loss(\n\u001b[1;32m     21\u001b[0m         s_embf_users, s_emb0_users, \n\u001b[1;32m     22\u001b[0m         s_embf_items_pos, s_emb0_items_pos, \n\u001b[1;32m     23\u001b[0m         s_embf_items_neg, s_emb0_items_neg,\n\u001b[1;32m     24\u001b[0m         LAMBDA\u001b[38;5;241m=\u001b[39mLAMBDA\n\u001b[1;32m     25\u001b[0m     )\n\u001b[1;32m     27\u001b[0m     train_loss\u001b[38;5;241m.\u001b[39mbackward()\n\u001b[0;32m---> 28\u001b[0m     \u001b[43moptimizer\u001b[49m\u001b[38;5;241;43m.\u001b[39;49m\u001b[43mstep\u001b[49m\u001b[43m(\u001b[49m\u001b[43m)\u001b[49m\n\u001b[1;32m     30\u001b[0m \u001b[38;5;28;01mif\u001b[39;00m epoch \u001b[38;5;241m%\u001b[39m \u001b[38;5;241m5\u001b[39m \u001b[38;5;241m==\u001b[39m \u001b[38;5;241m0\u001b[39m:\n\u001b[1;32m     31\u001b[0m \n\u001b[1;32m     32\u001b[0m     \u001b[38;5;66;03m# Precision and recall on validation (generate all items recs)\u001b[39;00m\n\u001b[1;32m     33\u001b[0m     l_epoch_metrics \u001b[38;5;241m=\u001b[39m model\u001b[38;5;241m.\u001b[39mget_val_metrics(\n\u001b[1;32m     34\u001b[0m         epoch\u001b[38;5;241m=\u001b[39mepoch, \n\u001b[1;32m     35\u001b[0m         topk_recs\u001b[38;5;241m=\u001b[39mmodel\u001b[38;5;241m.\u001b[39mnum_items,\n\u001b[1;32m     36\u001b[0m         k_list\u001b[38;5;241m=\u001b[39mK_LIST\n\u001b[1;32m     37\u001b[0m     )\n",
      "File \u001b[0;32m~/anaconda3/envs/vault_pytorch_lightgcn/lib/python3.9/site-packages/torch/optim/optimizer.py:140\u001b[0m, in \u001b[0;36mOptimizer._hook_for_profile.<locals>.profile_hook_step.<locals>.wrapper\u001b[0;34m(*args, **kwargs)\u001b[0m\n\u001b[1;32m    138\u001b[0m profile_name \u001b[38;5;241m=\u001b[39m \u001b[38;5;124m\"\u001b[39m\u001b[38;5;124mOptimizer.step#\u001b[39m\u001b[38;5;132;01m{}\u001b[39;00m\u001b[38;5;124m.step\u001b[39m\u001b[38;5;124m\"\u001b[39m\u001b[38;5;241m.\u001b[39mformat(obj\u001b[38;5;241m.\u001b[39m\u001b[38;5;18m__class__\u001b[39m\u001b[38;5;241m.\u001b[39m\u001b[38;5;18m__name__\u001b[39m)\n\u001b[1;32m    139\u001b[0m \u001b[38;5;28;01mwith\u001b[39;00m torch\u001b[38;5;241m.\u001b[39mautograd\u001b[38;5;241m.\u001b[39mprofiler\u001b[38;5;241m.\u001b[39mrecord_function(profile_name):\n\u001b[0;32m--> 140\u001b[0m     out \u001b[38;5;241m=\u001b[39m \u001b[43mfunc\u001b[49m\u001b[43m(\u001b[49m\u001b[38;5;241;43m*\u001b[39;49m\u001b[43margs\u001b[49m\u001b[43m,\u001b[49m\u001b[43m \u001b[49m\u001b[38;5;241;43m*\u001b[39;49m\u001b[38;5;241;43m*\u001b[39;49m\u001b[43mkwargs\u001b[49m\u001b[43m)\u001b[49m\n\u001b[1;32m    141\u001b[0m     obj\u001b[38;5;241m.\u001b[39m_optimizer_step_code()\n\u001b[1;32m    142\u001b[0m     \u001b[38;5;28;01mreturn\u001b[39;00m out\n",
      "File \u001b[0;32m~/anaconda3/envs/vault_pytorch_lightgcn/lib/python3.9/site-packages/torch/optim/optimizer.py:23\u001b[0m, in \u001b[0;36m_use_grad_for_differentiable.<locals>._use_grad\u001b[0;34m(self, *args, **kwargs)\u001b[0m\n\u001b[1;32m     21\u001b[0m \u001b[38;5;28;01mtry\u001b[39;00m:\n\u001b[1;32m     22\u001b[0m     torch\u001b[38;5;241m.\u001b[39mset_grad_enabled(\u001b[38;5;28mself\u001b[39m\u001b[38;5;241m.\u001b[39mdefaults[\u001b[38;5;124m'\u001b[39m\u001b[38;5;124mdifferentiable\u001b[39m\u001b[38;5;124m'\u001b[39m])\n\u001b[0;32m---> 23\u001b[0m     ret \u001b[38;5;241m=\u001b[39m \u001b[43mfunc\u001b[49m\u001b[43m(\u001b[49m\u001b[38;5;28;43mself\u001b[39;49m\u001b[43m,\u001b[49m\u001b[43m \u001b[49m\u001b[38;5;241;43m*\u001b[39;49m\u001b[43margs\u001b[49m\u001b[43m,\u001b[49m\u001b[43m \u001b[49m\u001b[38;5;241;43m*\u001b[39;49m\u001b[38;5;241;43m*\u001b[39;49m\u001b[43mkwargs\u001b[49m\u001b[43m)\u001b[49m\n\u001b[1;32m     24\u001b[0m \u001b[38;5;28;01mfinally\u001b[39;00m:\n\u001b[1;32m     25\u001b[0m     torch\u001b[38;5;241m.\u001b[39mset_grad_enabled(prev_grad)\n",
      "File \u001b[0;32m~/anaconda3/envs/vault_pytorch_lightgcn/lib/python3.9/site-packages/torch/optim/adam.py:234\u001b[0m, in \u001b[0;36mAdam.step\u001b[0;34m(self, closure, grad_scaler)\u001b[0m\n\u001b[1;32m    231\u001b[0m                 \u001b[38;5;28;01mraise\u001b[39;00m \u001b[38;5;167;01mRuntimeError\u001b[39;00m(\u001b[38;5;124m'\u001b[39m\u001b[38;5;124m`requires_grad` is not supported for `step` in differentiable mode\u001b[39m\u001b[38;5;124m'\u001b[39m)\n\u001b[1;32m    232\u001b[0m             state_steps\u001b[38;5;241m.\u001b[39mappend(state[\u001b[38;5;124m'\u001b[39m\u001b[38;5;124mstep\u001b[39m\u001b[38;5;124m'\u001b[39m])\n\u001b[0;32m--> 234\u001b[0m     \u001b[43madam\u001b[49m\u001b[43m(\u001b[49m\u001b[43mparams_with_grad\u001b[49m\u001b[43m,\u001b[49m\n\u001b[1;32m    235\u001b[0m \u001b[43m         \u001b[49m\u001b[43mgrads\u001b[49m\u001b[43m,\u001b[49m\n\u001b[1;32m    236\u001b[0m \u001b[43m         \u001b[49m\u001b[43mexp_avgs\u001b[49m\u001b[43m,\u001b[49m\n\u001b[1;32m    237\u001b[0m \u001b[43m         \u001b[49m\u001b[43mexp_avg_sqs\u001b[49m\u001b[43m,\u001b[49m\n\u001b[1;32m    238\u001b[0m \u001b[43m         \u001b[49m\u001b[43mmax_exp_avg_sqs\u001b[49m\u001b[43m,\u001b[49m\n\u001b[1;32m    239\u001b[0m \u001b[43m         \u001b[49m\u001b[43mstate_steps\u001b[49m\u001b[43m,\u001b[49m\n\u001b[1;32m    240\u001b[0m \u001b[43m         \u001b[49m\u001b[43mamsgrad\u001b[49m\u001b[38;5;241;43m=\u001b[39;49m\u001b[43mgroup\u001b[49m\u001b[43m[\u001b[49m\u001b[38;5;124;43m'\u001b[39;49m\u001b[38;5;124;43mamsgrad\u001b[39;49m\u001b[38;5;124;43m'\u001b[39;49m\u001b[43m]\u001b[49m\u001b[43m,\u001b[49m\n\u001b[1;32m    241\u001b[0m \u001b[43m         \u001b[49m\u001b[43mbeta1\u001b[49m\u001b[38;5;241;43m=\u001b[39;49m\u001b[43mbeta1\u001b[49m\u001b[43m,\u001b[49m\n\u001b[1;32m    242\u001b[0m \u001b[43m         \u001b[49m\u001b[43mbeta2\u001b[49m\u001b[38;5;241;43m=\u001b[39;49m\u001b[43mbeta2\u001b[49m\u001b[43m,\u001b[49m\n\u001b[1;32m    243\u001b[0m \u001b[43m         \u001b[49m\u001b[43mlr\u001b[49m\u001b[38;5;241;43m=\u001b[39;49m\u001b[43mgroup\u001b[49m\u001b[43m[\u001b[49m\u001b[38;5;124;43m'\u001b[39;49m\u001b[38;5;124;43mlr\u001b[39;49m\u001b[38;5;124;43m'\u001b[39;49m\u001b[43m]\u001b[49m\u001b[43m,\u001b[49m\n\u001b[1;32m    244\u001b[0m \u001b[43m         \u001b[49m\u001b[43mweight_decay\u001b[49m\u001b[38;5;241;43m=\u001b[39;49m\u001b[43mgroup\u001b[49m\u001b[43m[\u001b[49m\u001b[38;5;124;43m'\u001b[39;49m\u001b[38;5;124;43mweight_decay\u001b[39;49m\u001b[38;5;124;43m'\u001b[39;49m\u001b[43m]\u001b[49m\u001b[43m,\u001b[49m\n\u001b[1;32m    245\u001b[0m \u001b[43m         \u001b[49m\u001b[43meps\u001b[49m\u001b[38;5;241;43m=\u001b[39;49m\u001b[43mgroup\u001b[49m\u001b[43m[\u001b[49m\u001b[38;5;124;43m'\u001b[39;49m\u001b[38;5;124;43meps\u001b[39;49m\u001b[38;5;124;43m'\u001b[39;49m\u001b[43m]\u001b[49m\u001b[43m,\u001b[49m\n\u001b[1;32m    246\u001b[0m \u001b[43m         \u001b[49m\u001b[43mmaximize\u001b[49m\u001b[38;5;241;43m=\u001b[39;49m\u001b[43mgroup\u001b[49m\u001b[43m[\u001b[49m\u001b[38;5;124;43m'\u001b[39;49m\u001b[38;5;124;43mmaximize\u001b[39;49m\u001b[38;5;124;43m'\u001b[39;49m\u001b[43m]\u001b[49m\u001b[43m,\u001b[49m\n\u001b[1;32m    247\u001b[0m \u001b[43m         \u001b[49m\u001b[43mforeach\u001b[49m\u001b[38;5;241;43m=\u001b[39;49m\u001b[43mgroup\u001b[49m\u001b[43m[\u001b[49m\u001b[38;5;124;43m'\u001b[39;49m\u001b[38;5;124;43mforeach\u001b[39;49m\u001b[38;5;124;43m'\u001b[39;49m\u001b[43m]\u001b[49m\u001b[43m,\u001b[49m\n\u001b[1;32m    248\u001b[0m \u001b[43m         \u001b[49m\u001b[43mcapturable\u001b[49m\u001b[38;5;241;43m=\u001b[39;49m\u001b[43mgroup\u001b[49m\u001b[43m[\u001b[49m\u001b[38;5;124;43m'\u001b[39;49m\u001b[38;5;124;43mcapturable\u001b[39;49m\u001b[38;5;124;43m'\u001b[39;49m\u001b[43m]\u001b[49m\u001b[43m,\u001b[49m\n\u001b[1;32m    249\u001b[0m \u001b[43m         \u001b[49m\u001b[43mdifferentiable\u001b[49m\u001b[38;5;241;43m=\u001b[39;49m\u001b[43mgroup\u001b[49m\u001b[43m[\u001b[49m\u001b[38;5;124;43m'\u001b[39;49m\u001b[38;5;124;43mdifferentiable\u001b[39;49m\u001b[38;5;124;43m'\u001b[39;49m\u001b[43m]\u001b[49m\u001b[43m,\u001b[49m\n\u001b[1;32m    250\u001b[0m \u001b[43m         \u001b[49m\u001b[43mfused\u001b[49m\u001b[38;5;241;43m=\u001b[39;49m\u001b[43mgroup\u001b[49m\u001b[43m[\u001b[49m\u001b[38;5;124;43m'\u001b[39;49m\u001b[38;5;124;43mfused\u001b[39;49m\u001b[38;5;124;43m'\u001b[39;49m\u001b[43m]\u001b[49m\u001b[43m,\u001b[49m\n\u001b[1;32m    251\u001b[0m \u001b[43m         \u001b[49m\u001b[43mgrad_scale\u001b[49m\u001b[38;5;241;43m=\u001b[39;49m\u001b[43mgrad_scale\u001b[49m\u001b[43m,\u001b[49m\n\u001b[1;32m    252\u001b[0m \u001b[43m         \u001b[49m\u001b[43mfound_inf\u001b[49m\u001b[38;5;241;43m=\u001b[39;49m\u001b[43mfound_inf\u001b[49m\u001b[43m)\u001b[49m\n\u001b[1;32m    254\u001b[0m \u001b[38;5;28;01mreturn\u001b[39;00m loss\n",
      "File \u001b[0;32m~/anaconda3/envs/vault_pytorch_lightgcn/lib/python3.9/site-packages/torch/optim/adam.py:300\u001b[0m, in \u001b[0;36madam\u001b[0;34m(params, grads, exp_avgs, exp_avg_sqs, max_exp_avg_sqs, state_steps, foreach, capturable, differentiable, fused, grad_scale, found_inf, amsgrad, beta1, beta2, lr, weight_decay, eps, maximize)\u001b[0m\n\u001b[1;32m    297\u001b[0m \u001b[38;5;28;01melse\u001b[39;00m:\n\u001b[1;32m    298\u001b[0m     func \u001b[38;5;241m=\u001b[39m _single_tensor_adam\n\u001b[0;32m--> 300\u001b[0m \u001b[43mfunc\u001b[49m\u001b[43m(\u001b[49m\u001b[43mparams\u001b[49m\u001b[43m,\u001b[49m\n\u001b[1;32m    301\u001b[0m \u001b[43m     \u001b[49m\u001b[43mgrads\u001b[49m\u001b[43m,\u001b[49m\n\u001b[1;32m    302\u001b[0m \u001b[43m     \u001b[49m\u001b[43mexp_avgs\u001b[49m\u001b[43m,\u001b[49m\n\u001b[1;32m    303\u001b[0m \u001b[43m     \u001b[49m\u001b[43mexp_avg_sqs\u001b[49m\u001b[43m,\u001b[49m\n\u001b[1;32m    304\u001b[0m \u001b[43m     \u001b[49m\u001b[43mmax_exp_avg_sqs\u001b[49m\u001b[43m,\u001b[49m\n\u001b[1;32m    305\u001b[0m \u001b[43m     \u001b[49m\u001b[43mstate_steps\u001b[49m\u001b[43m,\u001b[49m\n\u001b[1;32m    306\u001b[0m \u001b[43m     \u001b[49m\u001b[43mamsgrad\u001b[49m\u001b[38;5;241;43m=\u001b[39;49m\u001b[43mamsgrad\u001b[49m\u001b[43m,\u001b[49m\n\u001b[1;32m    307\u001b[0m \u001b[43m     \u001b[49m\u001b[43mbeta1\u001b[49m\u001b[38;5;241;43m=\u001b[39;49m\u001b[43mbeta1\u001b[49m\u001b[43m,\u001b[49m\n\u001b[1;32m    308\u001b[0m \u001b[43m     \u001b[49m\u001b[43mbeta2\u001b[49m\u001b[38;5;241;43m=\u001b[39;49m\u001b[43mbeta2\u001b[49m\u001b[43m,\u001b[49m\n\u001b[1;32m    309\u001b[0m \u001b[43m     \u001b[49m\u001b[43mlr\u001b[49m\u001b[38;5;241;43m=\u001b[39;49m\u001b[43mlr\u001b[49m\u001b[43m,\u001b[49m\n\u001b[1;32m    310\u001b[0m \u001b[43m     \u001b[49m\u001b[43mweight_decay\u001b[49m\u001b[38;5;241;43m=\u001b[39;49m\u001b[43mweight_decay\u001b[49m\u001b[43m,\u001b[49m\n\u001b[1;32m    311\u001b[0m \u001b[43m     \u001b[49m\u001b[43meps\u001b[49m\u001b[38;5;241;43m=\u001b[39;49m\u001b[43meps\u001b[49m\u001b[43m,\u001b[49m\n\u001b[1;32m    312\u001b[0m \u001b[43m     \u001b[49m\u001b[43mmaximize\u001b[49m\u001b[38;5;241;43m=\u001b[39;49m\u001b[43mmaximize\u001b[49m\u001b[43m,\u001b[49m\n\u001b[1;32m    313\u001b[0m \u001b[43m     \u001b[49m\u001b[43mcapturable\u001b[49m\u001b[38;5;241;43m=\u001b[39;49m\u001b[43mcapturable\u001b[49m\u001b[43m,\u001b[49m\n\u001b[1;32m    314\u001b[0m \u001b[43m     \u001b[49m\u001b[43mdifferentiable\u001b[49m\u001b[38;5;241;43m=\u001b[39;49m\u001b[43mdifferentiable\u001b[49m\u001b[43m,\u001b[49m\n\u001b[1;32m    315\u001b[0m \u001b[43m     \u001b[49m\u001b[43mgrad_scale\u001b[49m\u001b[38;5;241;43m=\u001b[39;49m\u001b[43mgrad_scale\u001b[49m\u001b[43m,\u001b[49m\n\u001b[1;32m    316\u001b[0m \u001b[43m     \u001b[49m\u001b[43mfound_inf\u001b[49m\u001b[38;5;241;43m=\u001b[39;49m\u001b[43mfound_inf\u001b[49m\u001b[43m)\u001b[49m\n",
      "File \u001b[0;32m~/anaconda3/envs/vault_pytorch_lightgcn/lib/python3.9/site-packages/torch/optim/adam.py:364\u001b[0m, in \u001b[0;36m_single_tensor_adam\u001b[0;34m(params, grads, exp_avgs, exp_avg_sqs, max_exp_avg_sqs, state_steps, grad_scale, found_inf, amsgrad, beta1, beta2, lr, weight_decay, eps, maximize, capturable, differentiable)\u001b[0m\n\u001b[1;32m    362\u001b[0m \u001b[38;5;66;03m# Decay the first and second moment running average coefficient\u001b[39;00m\n\u001b[1;32m    363\u001b[0m exp_avg\u001b[38;5;241m.\u001b[39mmul_(beta1)\u001b[38;5;241m.\u001b[39madd_(grad, alpha\u001b[38;5;241m=\u001b[39m\u001b[38;5;241m1\u001b[39m \u001b[38;5;241m-\u001b[39m beta1)\n\u001b[0;32m--> 364\u001b[0m \u001b[43mexp_avg_sq\u001b[49m\u001b[38;5;241;43m.\u001b[39;49m\u001b[43mmul_\u001b[49m\u001b[43m(\u001b[49m\u001b[43mbeta2\u001b[49m\u001b[43m)\u001b[49m\u001b[38;5;241;43m.\u001b[39;49m\u001b[43maddcmul_\u001b[49m\u001b[43m(\u001b[49m\u001b[43mgrad\u001b[49m\u001b[43m,\u001b[49m\u001b[43m \u001b[49m\u001b[43mgrad\u001b[49m\u001b[38;5;241;43m.\u001b[39;49m\u001b[43mconj\u001b[49m\u001b[43m(\u001b[49m\u001b[43m)\u001b[49m\u001b[43m,\u001b[49m\u001b[43m \u001b[49m\u001b[43mvalue\u001b[49m\u001b[38;5;241;43m=\u001b[39;49m\u001b[38;5;241;43m1\u001b[39;49m\u001b[43m \u001b[49m\u001b[38;5;241;43m-\u001b[39;49m\u001b[43m \u001b[49m\u001b[43mbeta2\u001b[49m\u001b[43m)\u001b[49m\n\u001b[1;32m    366\u001b[0m \u001b[38;5;28;01mif\u001b[39;00m capturable \u001b[38;5;129;01mor\u001b[39;00m differentiable:\n\u001b[1;32m    367\u001b[0m     step \u001b[38;5;241m=\u001b[39m step_t\n",
      "\u001b[0;31mKeyboardInterrupt\u001b[0m: "
     ]
    }
   ],
   "source": [
    "# Metrics loss\n",
    "l_metrics = []\n",
    "\n",
    "for epoch in tqdm.tqdm(range(EPOCHS)):\n",
    "    model.train()\n",
    "    \n",
    "    for _ in tqdm.tqdm(range(n_batch)):\n",
    "        # Forward pass\n",
    "        embf_users, emb0_users, embf_items, emb0_items = model.forward()\n",
    "        \n",
    "        # Getting sample indices\n",
    "        user_indices, pos_item_indices, neg_item_indices = model.sample_mini_batch()\n",
    "        \n",
    "        # Applying sample indices\n",
    "        s_embf_users, s_emb0_users = embf_users[user_indices], emb0_users[user_indices]\n",
    "        s_embf_items_pos, s_emb0_items_pos = embf_items[pos_item_indices], emb0_items[pos_item_indices]\n",
    "        s_embf_items_neg, s_emb0_items_neg = embf_items[neg_item_indices], emb0_items[neg_item_indices]\n",
    "        \n",
    "        # Loss computation\n",
    "        train_loss = bpr_loss(\n",
    "            s_embf_users, s_emb0_users, \n",
    "            s_embf_items_pos, s_emb0_items_pos, \n",
    "            s_embf_items_neg, s_emb0_items_neg,\n",
    "            LAMBDA=LAMBDA\n",
    "        )\n",
    "        \n",
    "        train_loss.backward()\n",
    "        optimizer.step()\n",
    "        \n",
    "    if epoch % 5 == 0:\n",
    "\n",
    "        # Precision and recall on validation (generate all items recs)\n",
    "        l_epoch_metrics = model.get_val_metrics(\n",
    "            epoch=epoch, \n",
    "            topk_recs=model.num_items,\n",
    "            k_list=K_LIST\n",
    "        )\n",
    "        l_metrics.append(l_epoch_metrics)\n",
    "\n",
    "\n",
    "        # If we want to print Prec@K with K=2, we will select the second item of k_list\n",
    "        k_print = 10\n",
    "        idx_k = np.where(np.array(K_LIST)==k_print)[0][0]\n",
    "        prec = l_epoch_metrics[idx_k][-2]\n",
    "        rec = l_epoch_metrics[idx_k][-1]\n",
    "\n",
    "        print(f\"Epoch - {epoch}\", f\"Precision@{k_print} - {prec}\", f\"Recall@{k_print} - {rec}\")\n",
    "        "
   ]
  },
  {
   "cell_type": "code",
   "execution_count": 59,
   "id": "2e7f822c-e96b-435f-aadf-8c7c4dd2b591",
   "metadata": {},
   "outputs": [
    {
     "ename": "KeyboardInterrupt",
     "evalue": "",
     "output_type": "error",
     "traceback": [
      "\u001b[0;31m---------------------------------------------------------------------------\u001b[0m",
      "\u001b[0;31mKeyboardInterrupt\u001b[0m                         Traceback (most recent call last)",
      "Cell \u001b[0;32mIn[59], line 2\u001b[0m\n\u001b[1;32m      1\u001b[0m \u001b[38;5;66;03m# Precision and recall on validation (generate all items recs)\u001b[39;00m\n\u001b[0;32m----> 2\u001b[0m l_epoch_metrics \u001b[38;5;241m=\u001b[39m \u001b[43mmodel\u001b[49m\u001b[38;5;241;43m.\u001b[39;49m\u001b[43mget_val_metrics\u001b[49m\u001b[43m(\u001b[49m\n\u001b[1;32m      3\u001b[0m \u001b[43m    \u001b[49m\u001b[43mepoch\u001b[49m\u001b[38;5;241;43m=\u001b[39;49m\u001b[43mepoch\u001b[49m\u001b[43m,\u001b[49m\u001b[43m \u001b[49m\n\u001b[1;32m      4\u001b[0m \u001b[43m    \u001b[49m\u001b[43mtopk_recs\u001b[49m\u001b[38;5;241;43m=\u001b[39;49m\u001b[43mmodel\u001b[49m\u001b[38;5;241;43m.\u001b[39;49m\u001b[43mnum_items\u001b[49m\u001b[43m,\u001b[49m\n\u001b[1;32m      5\u001b[0m \u001b[43m    \u001b[49m\u001b[43mk_list\u001b[49m\u001b[38;5;241;43m=\u001b[39;49m\u001b[43mK_LIST\u001b[49m\n\u001b[1;32m      6\u001b[0m \u001b[43m)\u001b[49m\n\u001b[1;32m      7\u001b[0m l_metrics\u001b[38;5;241m.\u001b[39mappend(l_epoch_metrics)\n\u001b[1;32m     10\u001b[0m \u001b[38;5;66;03m# If we want to print Prec@K with K=2, we will select the second item of k_list\u001b[39;00m\n",
      "File \u001b[0;32m~/Documents/david/vault/vault-pytorch/personal/lightgcn/model.py:195\u001b[0m, in \u001b[0;36mLightGCN.get_val_metrics\u001b[0;34m(self, epoch, topk_recs, k_list)\u001b[0m\n\u001b[1;32m    188\u001b[0m _, top_K_items \u001b[38;5;241m=\u001b[39m torch\u001b[38;5;241m.\u001b[39mtopk(ratings, k\u001b[38;5;241m=\u001b[39mtopk_recs)\n\u001b[1;32m    190\u001b[0m \u001b[38;5;66;03m# -------------- #\u001b[39;00m\n\u001b[1;32m    191\u001b[0m \u001b[38;5;66;03m# Get metrics\u001b[39;00m\n\u001b[1;32m    192\u001b[0m \u001b[38;5;66;03m# -------------- #\u001b[39;00m\n\u001b[1;32m    193\u001b[0m \n\u001b[1;32m    194\u001b[0m \u001b[38;5;66;03m# Precision and Recall at K        \u001b[39;00m\n\u001b[0;32m--> 195\u001b[0m l_prec_recall \u001b[38;5;241m=\u001b[39m \u001b[43mget_metrics\u001b[49m\u001b[43m(\u001b[49m\n\u001b[1;32m    196\u001b[0m \u001b[43m    \u001b[49m\u001b[43mtop_rec_items\u001b[49m\u001b[38;5;241;43m=\u001b[39;49m\u001b[43mtop_K_items\u001b[49m\u001b[43m,\u001b[49m\n\u001b[1;32m    197\u001b[0m \u001b[43m    \u001b[49m\u001b[43mground_truth\u001b[49m\u001b[38;5;241;43m=\u001b[39;49m\u001b[38;5;28;43mself\u001b[39;49m\u001b[38;5;241;43m.\u001b[39;49m\u001b[43medge_index_val\u001b[49m\u001b[43m,\u001b[49m\n\u001b[1;32m    198\u001b[0m \u001b[43m    \u001b[49m\u001b[43mk_list\u001b[49m\u001b[38;5;241;43m=\u001b[39;49m\u001b[43mk_list\u001b[49m\n\u001b[1;32m    199\u001b[0m \u001b[43m\u001b[49m\u001b[43m)\u001b[49m\n\u001b[1;32m    201\u001b[0m \u001b[38;5;66;03m# NDCG at K (list of tuples so that we can add to the l_metrics tuples)\u001b[39;00m\n\u001b[1;32m    202\u001b[0m l_ndcg \u001b[38;5;241m=\u001b[39m [(ndcg_at_k(top_rec_items\u001b[38;5;241m=\u001b[39mtop_K_items, ground_truth\u001b[38;5;241m=\u001b[39m\u001b[38;5;28mself\u001b[39m\u001b[38;5;241m.\u001b[39medge_index_val, k\u001b[38;5;241m=\u001b[39mkk),) \u001b[38;5;28;01mfor\u001b[39;00m kk \u001b[38;5;129;01min\u001b[39;00m k_list]\n",
      "File \u001b[0;32m~/Documents/david/vault/vault-pytorch/personal/lightgcn/utils.py:103\u001b[0m, in \u001b[0;36mget_metrics\u001b[0;34m(top_rec_items, ground_truth, k_list)\u001b[0m\n\u001b[1;32m    100\u001b[0m top_k_binary \u001b[38;5;241m=\u001b[39m torch\u001b[38;5;241m.\u001b[39mzeros_like(top_rec_items, dtype\u001b[38;5;241m=\u001b[39mtorch\u001b[38;5;241m.\u001b[39mfloat32)\n\u001b[1;32m    102\u001b[0m \u001b[38;5;66;03m# Here we take the recommended list and apply the top-K constraint (slicing)\u001b[39;00m\n\u001b[0;32m--> 103\u001b[0m \u001b[43mtop_k_binary\u001b[49m\u001b[38;5;241;43m.\u001b[39;49m\u001b[43mscatter_\u001b[49m\u001b[43m(\u001b[49m\u001b[38;5;241;43m1\u001b[39;49m\u001b[43m,\u001b[49m\u001b[43m \u001b[49m\u001b[43mtop_rec_items\u001b[49m\u001b[43m[\u001b[49m\u001b[43m:\u001b[49m\u001b[43m,\u001b[49m\u001b[43m \u001b[49m\u001b[43m:\u001b[49m\u001b[43mk\u001b[49m\u001b[43m]\u001b[49m\u001b[43m,\u001b[49m\u001b[43m \u001b[49m\u001b[38;5;241;43m1\u001b[39;49m\u001b[43m)\u001b[49m\n\u001b[1;32m    104\u001b[0m \u001b[38;5;66;03m# the way to interpret this tensor is:\u001b[39;00m\n\u001b[1;32m    105\u001b[0m \u001b[38;5;66;03m# for a given user, we look at its row (user_id=0, we look at row 0)\u001b[39;00m\n\u001b[1;32m    106\u001b[0m \u001b[38;5;66;03m# there will be a 1 in the index column representing the index of the item in which user_id=0\u001b[39;00m\n\u001b[0;32m   (...)\u001b[0m\n\u001b[1;32m    110\u001b[0m \n\u001b[1;32m    111\u001b[0m \u001b[38;5;66;03m# Create binary tensors indicating whether the item is in the ground truth\u001b[39;00m\n\u001b[1;32m    112\u001b[0m ground_truth_binary \u001b[38;5;241m=\u001b[39m torch\u001b[38;5;241m.\u001b[39mzeros_like(top_rec_items, dtype\u001b[38;5;241m=\u001b[39mtorch\u001b[38;5;241m.\u001b[39mfloat32)\n",
      "\u001b[0;31mKeyboardInterrupt\u001b[0m: "
     ]
    }
   ],
   "source": [
    "# Precision and recall on validation (generate all items recs)\n",
    "l_epoch_metrics = model.get_val_metrics(\n",
    "    epoch=epoch, \n",
    "    topk_recs=model.num_items,\n",
    "    k_list=K_LIST\n",
    ")\n",
    "l_metrics.append(l_epoch_metrics)\n",
    "\n",
    "\n",
    "# If we want to print Prec@K with K=2, we will select the second item of k_list\n",
    "k_print = 10\n",
    "idx_k = np.where(np.array(K_LIST)==k_print)[0][0]\n",
    "prec = l_epoch_metrics[idx_k][-2]\n",
    "rec = l_epoch_metrics[idx_k][-1]\n",
    "\n",
    "print(f\"Epoch - {epoch}\", f\"Precision@{k_print} - {prec}\", f\"Recall@{k_print} - {rec}\")"
   ]
  },
  {
   "cell_type": "code",
   "execution_count": null,
   "id": "a3a027a0-c518-4b22-9ad7-e984ec9e4c8e",
   "metadata": {},
   "outputs": [],
   "source": [
    "#df_metrics_epoch = pd.DataFrame(l_metrics, columns=[\"epoch\", \"K\", \"TP\", \"FP\", \"P\", \"precision\", \"recall\", \"ndcg\"])"
   ]
  },
  {
   "cell_type": "code",
   "execution_count": 51,
   "id": "5d2ca61f-08a4-4bcb-85b1-24ecdb4a9803",
   "metadata": {},
   "outputs": [
    {
     "data": {
      "text/plain": [
       "56913"
      ]
     },
     "execution_count": 51,
     "metadata": {},
     "output_type": "execute_result"
    }
   ],
   "source": [
    "model.num_items"
   ]
  },
  {
   "cell_type": "code",
   "execution_count": null,
   "id": "0856516c-968b-45b2-af47-7df71d8c9cbb",
   "metadata": {},
   "outputs": [],
   "source": []
  }
 ],
 "metadata": {
  "kernelspec": {
   "display_name": "vault_pytorch_lightgcn",
   "language": "python",
   "name": "vault_pytorch_lightgcn"
  },
  "language_info": {
   "codemirror_mode": {
    "name": "ipython",
    "version": 3
   },
   "file_extension": ".py",
   "mimetype": "text/x-python",
   "name": "python",
   "nbconvert_exporter": "python",
   "pygments_lexer": "ipython3",
   "version": "3.9.18"
  }
 },
 "nbformat": 4,
 "nbformat_minor": 5
}
