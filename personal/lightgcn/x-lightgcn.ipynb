{
 "cells": [
  {
   "cell_type": "code",
   "execution_count": 1,
   "id": "8933f2cf-6bad-49cd-bcac-d79121e466a5",
   "metadata": {},
   "outputs": [
    {
     "name": "stderr",
     "output_type": "stream",
     "text": [
      "/Users/davidamat/anaconda3/envs/vault_pytorch_lightgcn/lib/python3.9/site-packages/tqdm/auto.py:21: TqdmWarning: IProgress not found. Please update jupyter and ipywidgets. See https://ipywidgets.readthedocs.io/en/stable/user_install.html\n",
      "  from .autonotebook import tqdm as notebook_tqdm\n"
     ]
    }
   ],
   "source": [
    "import torch\n",
    "from io import BytesIO\n",
    "from urllib.request import urlopen\n",
    "from zipfile import ZipFile\n",
    "import pandas as pd\n",
    "from os.path import join as jp\n",
    "import os\n",
    "import matplotlib.pyplot as plt \n",
    "import seaborn as sns \n",
    "import matplotlib"
   ]
  },
  {
   "cell_type": "code",
   "execution_count": 15,
   "id": "33e5d282-374f-4060-a36d-2644303f82ec",
   "metadata": {},
   "outputs": [],
   "source": [
    "import numpy as np\n",
    "from sklearn.model_selection import train_test_split\n",
    "\n",
    "import torch\n",
    "import torch.nn.functional as F\n",
    "from torch import nn, optim, Tensor\n",
    "\n",
    "from torch_geometric.utils import structured_negative_sampling\n",
    "from torch_geometric.nn.conv.gcn_conv import gcn_norm\n",
    "from torch_geometric.nn import LGConv\n",
    "import scipy.sparse as sp"
   ]
  },
  {
   "cell_type": "code",
   "execution_count": 4,
   "id": "f747d516-c14a-4876-83d5-1128fc35f798",
   "metadata": {},
   "outputs": [],
   "source": [
    "import warnings\n",
    "warnings.filterwarnings(\"ignore\")"
   ]
  },
  {
   "cell_type": "code",
   "execution_count": 137,
   "id": "47629977-5cee-445d-974f-044bb4e01630",
   "metadata": {},
   "outputs": [
    {
     "data": {
      "text/plain": [
       "<torch._C.Generator at 0x7faba8d68ad0>"
      ]
     },
     "execution_count": 137,
     "metadata": {},
     "output_type": "execute_result"
    }
   ],
   "source": [
    "seed = 42\n",
    "torch.manual_seed(seed)"
   ]
  },
  {
   "cell_type": "markdown",
   "id": "bb6674c9-a811-4f79-8fa5-c5c9aded8058",
   "metadata": {},
   "source": [
    "# Downloading the data"
   ]
  },
  {
   "cell_type": "markdown",
   "id": "2aed4b1b-4964-4a49-8994-8acf62ed6862",
   "metadata": {},
   "source": [
    "- From Kaggle: https://www.kaggle.com/datasets/somnambwl/bookcrossing-dataset/\n",
    "- Destination path: /Users/davidamat/Documents/david/learning/graph/data"
   ]
  },
  {
   "cell_type": "code",
   "execution_count": 5,
   "id": "57af291c-2c47-483d-8a6c-f636bfcf106e",
   "metadata": {},
   "outputs": [],
   "source": [
    "path_data = \"/Users/davidamat/Documents/david/learning/graph/data/book-crossing/\""
   ]
  },
  {
   "cell_type": "code",
   "execution_count": 6,
   "id": "0b8e4c7f-5f22-48d5-a93b-5c26ccd12722",
   "metadata": {},
   "outputs": [],
   "source": [
    "path_ratings = jp(path_data, 'Ratings.csv')\n",
    "path_users = jp(path_data, 'Users.csv')\n",
    "path_books = jp(path_data, 'Books.csv')\n",
    "\n",
    "\n",
    "ratings = pd.read_csv(path_ratings, sep=';', encoding='latin-1')\n",
    "users = pd.read_csv(path_users, sep=';', encoding='latin-1')\n",
    "books = pd.read_csv(path_books, sep=';', encoding='latin-1', on_bad_lines=\"skip\")"
   ]
  },
  {
   "cell_type": "markdown",
   "id": "2b75866b-f4df-4587-8e44-7cc50b5ba94b",
   "metadata": {},
   "source": [
    "# Preprocessing the Book-Crossing dataset\n"
   ]
  },
  {
   "cell_type": "code",
   "execution_count": 8,
   "id": "6d12f2c4-a669-4475-8ce3-9fce0a347bbd",
   "metadata": {},
   "outputs": [],
   "source": [
    "# Identifiers\n",
    "books_ids = books['ISBN'].unique()\n",
    "user_ids = users['User-ID'].unique()\n",
    "\n",
    "# Ratings as df\n",
    "df = ratings.copy()\n",
    "\n",
    "# Mask only ratings of books and users that appear on the master tables of each one\n",
    "mask_books_ids = df['ISBN'].isin(books_ids)\n",
    "mask_users_ids = df['User-ID'].isin(user_ids)\n",
    "df = df.loc[mask_books_ids & mask_users_ids]\n",
    "\n",
    "# Keep the 100k highest ratings\n",
    "df = df[df['Rating'] >= 8].iloc[:100000]"
   ]
  },
  {
   "cell_type": "code",
   "execution_count": 9,
   "id": "dfd7325c-2c69-4ac7-bb1d-d613fbe428c9",
   "metadata": {},
   "outputs": [],
   "source": [
    "# Create mappings\n",
    "user_mapping = {userid: i for i, userid in enumerate(df['User-ID'].unique())}\n",
    "item_mapping = {isbn: i for i, isbn in enumerate(df['ISBN'].unique())}\n",
    "\n",
    "# Count users and items\n",
    "num_users = len(user_mapping)\n",
    "num_items = len(item_mapping)\n",
    "num_total = num_users + num_items"
   ]
  },
  {
   "cell_type": "code",
   "execution_count": 10,
   "id": "16a10860-e861-4361-a912-c12f94a2bb2a",
   "metadata": {},
   "outputs": [],
   "source": [
    "# Construct the IDS columns\n",
    "df_ids = df.copy()\n",
    "df_ids[\"u_id\"] = df_ids[\"User-ID\"].map(user_mapping)\n",
    "df_ids[\"b_id\"] = df_ids[\"ISBN\"].map(item_mapping)"
   ]
  },
  {
   "cell_type": "code",
   "execution_count": 11,
   "id": "0856bc4f-ead3-44a0-b68a-8c22c5a98495",
   "metadata": {},
   "outputs": [
    {
     "name": "stdout",
     "output_type": "stream",
     "text": [
      "Users 19557\n",
      "Items 56913\n",
      "Total Users and Items 76470\n"
     ]
    }
   ],
   "source": [
    "print(\"Users\", num_users)\n",
    "print(\"Items\", num_items)\n",
    "print(\"Total Users and Items\", num_total)"
   ]
  },
  {
   "cell_type": "code",
   "execution_count": 12,
   "id": "8a49cd38-348e-4cff-ae8e-17a393f48a7b",
   "metadata": {},
   "outputs": [
    {
     "data": {
      "text/html": [
       "<div>\n",
       "<style scoped>\n",
       "    .dataframe tbody tr th:only-of-type {\n",
       "        vertical-align: middle;\n",
       "    }\n",
       "\n",
       "    .dataframe tbody tr th {\n",
       "        vertical-align: top;\n",
       "    }\n",
       "\n",
       "    .dataframe thead th {\n",
       "        text-align: right;\n",
       "    }\n",
       "</style>\n",
       "<table border=\"1\" class=\"dataframe\">\n",
       "  <thead>\n",
       "    <tr style=\"text-align: right;\">\n",
       "      <th></th>\n",
       "      <th>User-ID</th>\n",
       "      <th>ISBN</th>\n",
       "      <th>Rating</th>\n",
       "    </tr>\n",
       "  </thead>\n",
       "  <tbody>\n",
       "    <tr>\n",
       "      <th>9586</th>\n",
       "      <td>12</td>\n",
       "      <td>1879384493</td>\n",
       "      <td>10</td>\n",
       "    </tr>\n",
       "    <tr>\n",
       "      <th>9591</th>\n",
       "      <td>16</td>\n",
       "      <td>0345402871</td>\n",
       "      <td>9</td>\n",
       "    </tr>\n",
       "    <tr>\n",
       "      <th>9607</th>\n",
       "      <td>26</td>\n",
       "      <td>0446310786</td>\n",
       "      <td>10</td>\n",
       "    </tr>\n",
       "    <tr>\n",
       "      <th>9608</th>\n",
       "      <td>26</td>\n",
       "      <td>0449005615</td>\n",
       "      <td>9</td>\n",
       "    </tr>\n",
       "    <tr>\n",
       "      <th>9609</th>\n",
       "      <td>32</td>\n",
       "      <td>0060168013</td>\n",
       "      <td>8</td>\n",
       "    </tr>\n",
       "    <tr>\n",
       "      <th>...</th>\n",
       "      <td>...</td>\n",
       "      <td>...</td>\n",
       "      <td>...</td>\n",
       "    </tr>\n",
       "    <tr>\n",
       "      <th>480298</th>\n",
       "      <td>114601</td>\n",
       "      <td>0743419049</td>\n",
       "      <td>10</td>\n",
       "    </tr>\n",
       "    <tr>\n",
       "      <th>480303</th>\n",
       "      <td>114604</td>\n",
       "      <td>0618002219</td>\n",
       "      <td>9</td>\n",
       "    </tr>\n",
       "    <tr>\n",
       "      <th>480314</th>\n",
       "      <td>114611</td>\n",
       "      <td>0445409134</td>\n",
       "      <td>8</td>\n",
       "    </tr>\n",
       "    <tr>\n",
       "      <th>480315</th>\n",
       "      <td>114611</td>\n",
       "      <td>0446313033</td>\n",
       "      <td>8</td>\n",
       "    </tr>\n",
       "    <tr>\n",
       "      <th>480317</th>\n",
       "      <td>114611</td>\n",
       "      <td>0553276743</td>\n",
       "      <td>8</td>\n",
       "    </tr>\n",
       "  </tbody>\n",
       "</table>\n",
       "<p>100000 rows × 3 columns</p>\n",
       "</div>"
      ],
      "text/plain": [
       "        User-ID        ISBN  Rating\n",
       "9586         12  1879384493      10\n",
       "9591         16  0345402871       9\n",
       "9607         26  0446310786      10\n",
       "9608         26  0449005615       9\n",
       "9609         32  0060168013       8\n",
       "...         ...         ...     ...\n",
       "480298   114601  0743419049      10\n",
       "480303   114604  0618002219       9\n",
       "480314   114611  0445409134       8\n",
       "480315   114611  0446313033       8\n",
       "480317   114611  0553276743       8\n",
       "\n",
       "[100000 rows x 3 columns]"
      ]
     },
     "execution_count": 12,
     "metadata": {},
     "output_type": "execute_result"
    }
   ],
   "source": [
    "df"
   ]
  },
  {
   "cell_type": "markdown",
   "id": "bbefc3c3-2f22-473f-bae9-0e5c289e6c6d",
   "metadata": {},
   "source": [
    "## Edge Indices"
   ]
  },
  {
   "cell_type": "code",
   "execution_count": 13,
   "id": "4545c7c6-766d-4fab-9b60-2a5a014ae37a",
   "metadata": {},
   "outputs": [],
   "source": [
    "# Build the adjacency matrix based on user ratings:\n",
    "\n",
    "# 1) Take the column of users and convert their ID into the internal ID\n",
    "user_ids = torch.LongTensor([user_mapping[i] for i in df['User-ID']])\n",
    "\n",
    "# 2) Take the column of items and convert their ID into the internal ID\n",
    "item_ids = torch.LongTensor([item_mapping[i] for i in df['ISBN']])\n",
    "\n",
    "# 3) Create the edge tensor as the relationship between 1) and 2) (they come from ratings matrix)\n",
    "edge_index = torch.stack((user_ids, item_ids))"
   ]
  },
  {
   "cell_type": "code",
   "execution_count": 16,
   "id": "836acf67-8089-461b-86b9-e24dfcad97d2",
   "metadata": {},
   "outputs": [
    {
     "data": {
      "text/plain": [
       "tensor([    0,     1,     2,  ..., 19556, 19556, 19556])"
      ]
     },
     "execution_count": 16,
     "metadata": {},
     "output_type": "execute_result"
    }
   ],
   "source": [
    "user_ids"
   ]
  },
  {
   "cell_type": "code",
   "execution_count": 14,
   "id": "46a4be93-b22b-4628-ad42-176df99e3cbf",
   "metadata": {},
   "outputs": [
    {
     "data": {
      "text/plain": [
       "tensor([[    0,     1,     2,  ..., 19556, 19556, 19556],\n",
       "        [    0,     1,     2,  ..., 56910, 56911, 56912]])"
      ]
     },
     "execution_count": 14,
     "metadata": {},
     "output_type": "execute_result"
    }
   ],
   "source": [
    "edge_index"
   ]
  },
  {
   "cell_type": "markdown",
   "id": "75ef1d86-20e9-4818-b432-9f29d599b1e5",
   "metadata": {},
   "source": [
    "# Splitting dataset"
   ]
  },
  {
   "cell_type": "code",
   "execution_count": 17,
   "id": "839db8e3-a574-4eea-9a3f-17f4653f8da0",
   "metadata": {},
   "outputs": [],
   "source": [
    "# Create training, validation, and test adjacency matrices\n",
    "train_index, test_index = train_test_split(range(len(df)), test_size=0.2, random_state=0)\n",
    "val_index, test_index = train_test_split(test_index, test_size=0.5, random_state=0)"
   ]
  },
  {
   "cell_type": "code",
   "execution_count": 18,
   "id": "537d3777-cf1a-4768-b90c-378cd4fd84cb",
   "metadata": {},
   "outputs": [
    {
     "name": "stdout",
     "output_type": "stream",
     "text": [
      "Train: [0, 1, 2, 4, 5, 7, 8, 10, 11, 12, 13, 15, 16, 18, 19, 20, 21, 22, 24, 27]\n",
      "Test: [3, 14, 17, 23, 34, 48, 52, 56, 60, 63, 65, 68, 79, 109, 110, 117, 157, 165, 187, 196]\n",
      "Valid: [6, 9, 25, 26, 36, 41, 51, 54, 69, 72, 90, 105, 119, 121, 125, 128, 133, 151, 156, 166]\n"
     ]
    }
   ],
   "source": [
    "print(\"Train:\", sorted(train_index)[:20])\n",
    "print(\"Test:\", sorted(test_index)[:20])\n",
    "print(\"Valid:\", sorted(val_index)[:20])"
   ]
  },
  {
   "cell_type": "code",
   "execution_count": 19,
   "id": "e9064e78-bcd7-48bc-9d36-d5ec84eeed67",
   "metadata": {},
   "outputs": [],
   "source": [
    "# Slice train/test/valid\n",
    "train_edge_index = edge_index[:, train_index]\n",
    "val_edge_index = edge_index[:, val_index]\n",
    "test_edge_index = edge_index[:, test_index]"
   ]
  },
  {
   "cell_type": "code",
   "execution_count": 20,
   "id": "4e14cb13-a33a-4bef-9fb9-4901ec472cbd",
   "metadata": {},
   "outputs": [],
   "source": [
    "# Interaction values (assume all 1s)\n",
    "train_edge_values = torch.ones_like(train_edge_index[0,:])"
   ]
  },
  {
   "cell_type": "code",
   "execution_count": 23,
   "id": "cd6511a8-f8c0-4bf3-86d1-f298bf5ec2a8",
   "metadata": {},
   "outputs": [
    {
     "data": {
      "text/plain": [
       "torch.Size([2, 80000])"
      ]
     },
     "execution_count": 23,
     "metadata": {},
     "output_type": "execute_result"
    }
   ],
   "source": [
    "train_edge_index.shape"
   ]
  },
  {
   "cell_type": "code",
   "execution_count": 139,
   "id": "a49a8fa5-2ce7-4558-b950-9e2441f28301",
   "metadata": {},
   "outputs": [
    {
     "data": {
      "text/plain": [
       "torch.Size([80000])"
      ]
     },
     "execution_count": 139,
     "metadata": {},
     "output_type": "execute_result"
    }
   ],
   "source": [
    "train_edge_values.shape"
   ]
  },
  {
   "cell_type": "markdown",
   "id": "4ff3a845-6688-4c8c-90d9-d1b4d8b5213e",
   "metadata": {},
   "source": [
    "## Adjacency Matrix"
   ]
  },
  {
   "cell_type": "code",
   "execution_count": 33,
   "id": "a3ed30a4-22a4-4f78-a730-a7bdff43f939",
   "metadata": {},
   "outputs": [],
   "source": [
    "# Interaction matrix\n",
    "R = sp.coo_matrix((train_edge_values, (train_edge_index[0], train_edge_index[1])), shape=(num_users, num_items))\n",
    "R = R.tolil()"
   ]
  },
  {
   "cell_type": "code",
   "execution_count": 39,
   "id": "1da3dbf7-24ef-469f-88f4-ac8c5753399d",
   "metadata": {},
   "outputs": [],
   "source": [
    "# Adjacency matrix\n",
    "MN = num_users + num_items\n",
    "adj_mat = sp.dok_matrix((MN, MN), dtype=np.float32)\n",
    "adj_mat = adj_mat.tolil()"
   ]
  },
  {
   "cell_type": "code",
   "execution_count": 40,
   "id": "cc0e4fad-2ac4-49cd-b490-d95d6e9a0bad",
   "metadata": {},
   "outputs": [
    {
     "data": {
      "text/plain": [
       "<76470x76470 sparse matrix of type '<class 'numpy.float32'>'\n",
       "\twith 0 stored elements in List of Lists format>"
      ]
     },
     "execution_count": 40,
     "metadata": {},
     "output_type": "execute_result"
    }
   ],
   "source": [
    "adj_mat"
   ]
  },
  {
   "cell_type": "code",
   "execution_count": 41,
   "id": "94475c40-8b0b-41e2-9966-257ad153dd0c",
   "metadata": {},
   "outputs": [
    {
     "name": "stdout",
     "output_type": "stream",
     "text": [
      "CPU times: user 1min 26s, sys: 9.05 s, total: 1min 36s\n",
      "Wall time: 1min 37s\n"
     ]
    }
   ],
   "source": [
    "%%time\n",
    "# Fill adjacency matrix\n",
    "adj_mat[:num_users, num_users:] = R\n",
    "adj_mat[num_users:, :num_users] = R.T"
   ]
  },
  {
   "cell_type": "code",
   "execution_count": 44,
   "id": "4a65304b-e64f-4dce-aa49-1667ab1d0205",
   "metadata": {},
   "outputs": [],
   "source": [
    "# Rowsum\n",
    "rowsum = np.array(adj_mat.sum(1))\n",
    "degrees = rowsum.ravel()"
   ]
  },
  {
   "cell_type": "code",
   "execution_count": 52,
   "id": "a5516bc3-2eb8-482e-b5aa-cfebc25a99c7",
   "metadata": {},
   "outputs": [],
   "source": [
    "#dd = pd.Series(degrees).value_counts()\n",
    "# dd[:15].plot(kind='bar', title=\"Degree distrib\", xlabel=\"Degree of node\")"
   ]
  },
  {
   "cell_type": "code",
   "execution_count": 53,
   "id": "4c64bf9e-1c59-4bab-ac13-e9d8fbaaf6c7",
   "metadata": {},
   "outputs": [],
   "source": [
    "# Inverse of the Degree matrix\n",
    "d_inv = np.power(rowsum, -0.5).flatten()\n",
    "d_inv[np.isinf(d_inv)] = 0.\n",
    "d_mat = sp.diags(d_inv)"
   ]
  },
  {
   "cell_type": "code",
   "execution_count": 54,
   "id": "da1d84c5-2b12-4032-9f34-b48e04763dc6",
   "metadata": {},
   "outputs": [],
   "source": [
    "# Normalized Adjacency Matrix\n",
    "norm_adj = d_mat.dot(adj_mat)\n",
    "norm_adj = norm_adj.dot(d_mat)\n",
    "# norm_adj = norm_adj.tocsr()"
   ]
  },
  {
   "cell_type": "code",
   "execution_count": 55,
   "id": "bf83a20c-7e15-4f5f-806c-f8c67c6b50ac",
   "metadata": {},
   "outputs": [
    {
     "data": {
      "text/plain": [
       "<76470x76470 sparse matrix of type '<class 'numpy.float32'>'\n",
       "\twith 160000 stored elements in Compressed Sparse Row format>"
      ]
     },
     "execution_count": 55,
     "metadata": {},
     "output_type": "execute_result"
    }
   ],
   "source": [
    "norm_adj"
   ]
  },
  {
   "cell_type": "code",
   "execution_count": null,
   "id": "9977fdb0-449c-4888-ac81-952e9669be55",
   "metadata": {},
   "outputs": [],
   "source": []
  },
  {
   "cell_type": "markdown",
   "id": "d337cf08-e826-4d6d-9d0b-4b186fa7ebb3",
   "metadata": {},
   "source": [
    "## LightGCN"
   ]
  },
  {
   "cell_type": "code",
   "execution_count": 140,
   "id": "ed5f3eec-4cda-401b-b852-c67b74d2275e",
   "metadata": {},
   "outputs": [],
   "source": [
    "class LightGCN(nn.Module):\n",
    "    def __init__(self, num_users, num_items, edge_index, edge_values, num_layers=4, dim_h=64):\n",
    "        super().__init__()\n",
    "        \n",
    "        self.num_users = num_users\n",
    "        self.num_items = num_items\n",
    "        self.num_layers = num_layers\n",
    "        self.emb_users = nn.Embedding(num_embeddings=self.num_users, embedding_dim=dim_h)\n",
    "        self.emb_items = nn.Embedding(num_embeddings=self.num_items, embedding_dim=dim_h)\n",
    "        self.edge_index = edge_index\n",
    "        self.edge_values = edge_values\n",
    "        self.adj_mat = self.compute_norm_adj_matrix(edge_index, edge_values)\n",
    "        self.sp_adj_mat = self._convert_sp_mat_to_sp_tensor(self.adj_mat)\n",
    "        self.alpha = 1/(self.num_layers+1)\n",
    "\n",
    "        # self.convs = nn.ModuleList(LGConv() for _ in range(num_layers))\n",
    "\n",
    "        nn.init.normal_(self.emb_users.weight, std=0.01)\n",
    "        nn.init.normal_(self.emb_items.weight, std=0.01)\n",
    "        \n",
    "    @staticmethod\n",
    "    def _convert_sp_mat_to_sp_tensor(X):\n",
    "        coo = X.tocoo().astype(np.float32)\n",
    "        row = torch.Tensor(coo.row).long()\n",
    "        col = torch.Tensor(coo.col).long()\n",
    "        index = torch.stack([row, col])\n",
    "        data = torch.FloatTensor(coo.data)\n",
    "        return torch.sparse.FloatTensor(index, data, torch.Size(coo.shape))\n",
    "    \n",
    "    def compute_norm_adj_matrix(self, edge_index, edge_values):\n",
    "        num_users = self.num_users\n",
    "        num_items = self.num_items\n",
    "        # Interaction matrix\n",
    "        R = sp.coo_matrix((\n",
    "            edge_values, \n",
    "            (edge_index[0], edge_index[1])),\n",
    "            shape=(num_users, num_items))\n",
    "        R = R.tolil()\n",
    "        \n",
    "        # Adjacency matrix\n",
    "        MN = self.num_users + self.num_items\n",
    "        adj_mat = sp.dok_matrix((MN, MN), dtype=np.float32)\n",
    "        adj_mat = adj_mat.tolil()\n",
    "        \n",
    "        # Fill adjacency matrix\n",
    "        adj_mat[:num_users, num_users:] = R\n",
    "        adj_mat[num_users:, :num_users] = R.T\n",
    "        \n",
    "        # Degrees\n",
    "        rowsum = np.array(adj_mat.sum(1))\n",
    "        \n",
    "        # Inverse of the Degree matrix\n",
    "        d_inv = np.power(rowsum, -0.5).flatten()\n",
    "        d_inv[np.isinf(d_inv)] = 0.\n",
    "        d_mat = sp.diags(d_inv)\n",
    "        \n",
    "        # Normalized Adjacency Matrix\n",
    "        norm_adj = d_mat.dot(adj_mat)\n",
    "        norm_adj = norm_adj.dot(d_mat)\n",
    "        return norm_adj\n",
    "        \n",
    "\n",
    "    def forward(self):\n",
    "        # Keep track of starting embeddings for feeding into the BPR Loss \n",
    "        # for regularizing the learned embedding params\n",
    "        emb0_users = self.emb_users.weight\n",
    "        emb0_items = self.emb_items.weight\n",
    "                \n",
    "        # Embedding is dimension M + N\n",
    "        emb = torch.cat([emb0_users, emb0_items])\n",
    "        embs = [emb]\n",
    "\n",
    "        # For each layer\n",
    "        for layer_i in range(self.num_layers):\n",
    "            emb = torch.sparse.mm(self.sp_adj_mat, emb)\n",
    "            embs.append(emb)\n",
    "\n",
    "        emb_final = self.alpha * torch.mean(torch.stack(embs, dim=1), dim=1)\n",
    "\n",
    "        embf_users, embf_items = torch.split(emb_final, [self.num_users, self.num_items])\n",
    "\n",
    "        return embf_users, emb0_users, embf_items, emb0_items"
   ]
  },
  {
   "cell_type": "code",
   "execution_count": null,
   "id": "ed4e9af3-6baf-4cdd-9bb5-1a30a53dc05a",
   "metadata": {},
   "outputs": [],
   "source": [
    "model = LightGCN(\n",
    "    num_users=nu, \n",
    "    num_items=ni, \n",
    "    edge_index=toy_edge_index,\n",
    "    edge_values=toy_edge_values,\n",
    "    num_layers=1, \n",
    "    dim_h=embdi\n",
    ")"
   ]
  },
  {
   "cell_type": "code",
   "execution_count": null,
   "id": "a18d2933-50f6-4a6f-90fd-fcb8cabf246a",
   "metadata": {},
   "outputs": [],
   "source": []
  },
  {
   "cell_type": "code",
   "execution_count": null,
   "id": "77bf4370-94ea-4472-a95e-28521f3ee147",
   "metadata": {},
   "outputs": [],
   "source": []
  },
  {
   "cell_type": "code",
   "execution_count": 141,
   "id": "ad4e6ce6-9429-4574-8fc8-cb1a724de9a5",
   "metadata": {},
   "outputs": [
    {
     "data": {
      "text/plain": [
       "(tensor([0, 0, 1, 1, 2, 2, 3, 3, 4, 4]),\n",
       " tensor([0, 1, 0, 2, 1, 2, 1, 2, 0, 2]),\n",
       " tensor([2, 2, 1, 4, 3, 0, 0, 4, 4, 3]))"
      ]
     },
     "execution_count": 141,
     "metadata": {},
     "output_type": "execute_result"
    }
   ],
   "source": [
    "seed = 42\n",
    "torch.manual_seed(seed)\n",
    "toy_edge_index = torch.tensor(\n",
    "    [[0, 0, 1, 1, 2, 2, 3, 3, 4, 4],\n",
    "     [0, 1, 0, 2, 1, 2, 1, 2, 0, 2]]\n",
    ")\n",
    "\n",
    "structured_negative_sampling(toy_edge_index)"
   ]
  },
  {
   "cell_type": "code",
   "execution_count": 152,
   "id": "28cc8bfd-6884-469a-952d-8d48c9bd3203",
   "metadata": {},
   "outputs": [
    {
     "name": "stdout",
     "output_type": "stream",
     "text": [
      "Original Edge Index:\n",
      "tensor([[0, 0, 1, 1, 2, 2, 3, 3, 4, 4],\n",
      "        [0, 1, 0, 2, 1, 2, 1, 2, 0, 2]])\n",
      "\n",
      "Negative Edge Index:\n",
      "(tensor([0, 0, 1, 1, 2, 2, 3, 3, 4, 4]), tensor([0, 1, 0, 2, 1, 2, 1, 2, 0, 2]), tensor([2, 2, 1, 1, 0, 0, 0, 0, 1, 1]))\n"
     ]
    }
   ],
   "source": [
    "import torch\n",
    "from torch_geometric.utils import structured_negative_sampling\n",
    "\n",
    "# Define the toy edge index\n",
    "toy_edge_index = torch.tensor(\n",
    "    [[0, 0, 1, 1, 2, 2, 3, 3, 4, 4],\n",
    "     [0, 1, 0, 2, 1, 2, 1, 2, 0, 2]]\n",
    ")\n",
    "\n",
    "# Assume you have 5 users and 3 items\n",
    "num_users = 5\n",
    "num_items = 3\n",
    "\n",
    "\n",
    "# Use structured_negative_sampling\n",
    "neg_edge_index = structured_negative_sampling(toy_edge_index, num_nodes=3)\n",
    "\n",
    "# Print the results\n",
    "print(\"Original Edge Index:\")\n",
    "print(toy_edge_index)\n",
    "print(\"\\nNegative Edge Index:\")\n",
    "print(neg_edge_index)"
   ]
  },
  {
   "cell_type": "code",
   "execution_count": 153,
   "id": "33ba836d-b15d-4370-a21c-fa733ffe213f",
   "metadata": {},
   "outputs": [
    {
     "data": {
      "text/plain": [
       "(tensor([0, 0, 1, 1, 2, 2, 3, 3, 4, 4]),\n",
       " tensor([0, 1, 0, 2, 1, 2, 1, 2, 0, 2]),\n",
       " tensor([2, 2, 1, 1, 0, 0, 0, 0, 1, 1]))"
      ]
     },
     "execution_count": 153,
     "metadata": {},
     "output_type": "execute_result"
    }
   ],
   "source": [
    "neg_edge_index"
   ]
  },
  {
   "cell_type": "code",
   "execution_count": 144,
   "id": "9db69e22-8a9e-48ab-aa1d-ab2c56fb815a",
   "metadata": {},
   "outputs": [],
   "source": [
    "def maybe_num_nodes(edge_index, num_nodes=None):\n",
    "    if num_nodes is not None:\n",
    "        return num_nodes\n",
    "    elif isinstance(edge_index, Tensor):\n",
    "        return int(edge_index.max()) + 1 if edge_index.numel() > 0 else 0\n",
    "    else:\n",
    "        return max(edge_index.size(0), edge_index.size(1))"
   ]
  },
  {
   "cell_type": "code",
   "execution_count": 149,
   "id": "29e53d23-fe3e-4333-abd8-ce3ffa5c7569",
   "metadata": {},
   "outputs": [],
   "source": [
    "num_nodes = maybe_num_nodes(toy_edge_index, (num_users, num_items))"
   ]
  },
  {
   "cell_type": "code",
   "execution_count": 146,
   "id": "f8d0282a-744b-4d71-80b6-d3a885757100",
   "metadata": {},
   "outputs": [],
   "source": [
    "row, col = edge_index.cpu()"
   ]
  },
  {
   "cell_type": "code",
   "execution_count": 147,
   "id": "6733599c-ceac-46f8-b652-d0d17e270163",
   "metadata": {},
   "outputs": [
    {
     "data": {
      "text/plain": [
       "tensor([0, 0, 0, 1, 1, 2, 2, 3, 3, 4, 4])"
      ]
     },
     "execution_count": 147,
     "metadata": {},
     "output_type": "execute_result"
    }
   ],
   "source": [
    "row"
   ]
  },
  {
   "cell_type": "code",
   "execution_count": 148,
   "id": "13ffc86e-bfa4-47c1-9ab7-4a7b6527b223",
   "metadata": {},
   "outputs": [
    {
     "data": {
      "text/plain": [
       "tensor([0, 1, 2, 0, 2, 1, 2, 1, 2, 0, 2])"
      ]
     },
     "execution_count": 148,
     "metadata": {},
     "output_type": "execute_result"
    }
   ],
   "source": [
    "col"
   ]
  },
  {
   "cell_type": "code",
   "execution_count": 151,
   "id": "7afe2d2b-2c4b-46ca-a837-56a2acba37aa",
   "metadata": {},
   "outputs": [
    {
     "data": {
      "text/plain": [
       "11"
      ]
     },
     "execution_count": 151,
     "metadata": {},
     "output_type": "execute_result"
    }
   ],
   "source": [
    "row.size(0)"
   ]
  },
  {
   "cell_type": "code",
   "execution_count": 150,
   "id": "d39c66b0-cfc9-40f5-a47f-8451f3ca7abe",
   "metadata": {},
   "outputs": [
    {
     "ename": "TypeError",
     "evalue": "randint() received an invalid combination of arguments - got (tuple, tuple, dtype=torch.dtype), but expected one of:\n * (int high, tuple of ints size, *, torch.Generator generator, Tensor out, torch.dtype dtype, torch.layout layout, torch.device device, bool pin_memory, bool requires_grad)\n * (int high, tuple of ints size, *, Tensor out, torch.dtype dtype, torch.layout layout, torch.device device, bool pin_memory, bool requires_grad)\n * (int low, int high, tuple of ints size, *, torch.Generator generator, Tensor out, torch.dtype dtype, torch.layout layout, torch.device device, bool pin_memory, bool requires_grad)\n * (int low, int high, tuple of ints size, *, Tensor out, torch.dtype dtype, torch.layout layout, torch.device device, bool pin_memory, bool requires_grad)\n",
     "output_type": "error",
     "traceback": [
      "\u001b[0;31m---------------------------------------------------------------------------\u001b[0m",
      "\u001b[0;31mTypeError\u001b[0m                                 Traceback (most recent call last)",
      "Cell \u001b[0;32mIn[150], line 1\u001b[0m\n\u001b[0;32m----> 1\u001b[0m rand \u001b[38;5;241m=\u001b[39m \u001b[43mtorch\u001b[49m\u001b[38;5;241;43m.\u001b[39;49m\u001b[43mrandint\u001b[49m\u001b[43m(\u001b[49m\u001b[43mnum_nodes\u001b[49m\u001b[43m,\u001b[49m\u001b[43m \u001b[49m\u001b[43m(\u001b[49m\u001b[43mrow\u001b[49m\u001b[38;5;241;43m.\u001b[39;49m\u001b[43msize\u001b[49m\u001b[43m(\u001b[49m\u001b[38;5;241;43m0\u001b[39;49m\u001b[43m)\u001b[49m\u001b[43m,\u001b[49m\u001b[43m \u001b[49m\u001b[43m)\u001b[49m\u001b[43m,\u001b[49m\u001b[43m \u001b[49m\u001b[43mdtype\u001b[49m\u001b[38;5;241;43m=\u001b[39;49m\u001b[43mtorch\u001b[49m\u001b[38;5;241;43m.\u001b[39;49m\u001b[43mlong\u001b[49m\u001b[43m)\u001b[49m\n",
      "\u001b[0;31mTypeError\u001b[0m: randint() received an invalid combination of arguments - got (tuple, tuple, dtype=torch.dtype), but expected one of:\n * (int high, tuple of ints size, *, torch.Generator generator, Tensor out, torch.dtype dtype, torch.layout layout, torch.device device, bool pin_memory, bool requires_grad)\n * (int high, tuple of ints size, *, Tensor out, torch.dtype dtype, torch.layout layout, torch.device device, bool pin_memory, bool requires_grad)\n * (int low, int high, tuple of ints size, *, torch.Generator generator, Tensor out, torch.dtype dtype, torch.layout layout, torch.device device, bool pin_memory, bool requires_grad)\n * (int low, int high, tuple of ints size, *, Tensor out, torch.dtype dtype, torch.layout layout, torch.device device, bool pin_memory, bool requires_grad)\n"
     ]
    }
   ],
   "source": [
    "rand = torch.randint(num_nodes, (row.size(0), ), dtype=torch.long)"
   ]
  },
  {
   "cell_type": "code",
   "execution_count": null,
   "id": "9a1da15c-3394-4c6c-9b69-0b989d6a7ec9",
   "metadata": {},
   "outputs": [],
   "source": []
  }
 ],
 "metadata": {
  "kernelspec": {
   "display_name": "vault_pytorch_lightgcn",
   "language": "python",
   "name": "vault_pytorch_lightgcn"
  },
  "language_info": {
   "codemirror_mode": {
    "name": "ipython",
    "version": 3
   },
   "file_extension": ".py",
   "mimetype": "text/x-python",
   "name": "python",
   "nbconvert_exporter": "python",
   "pygments_lexer": "ipython3",
   "version": "3.9.18"
  }
 },
 "nbformat": 4,
 "nbformat_minor": 5
}
