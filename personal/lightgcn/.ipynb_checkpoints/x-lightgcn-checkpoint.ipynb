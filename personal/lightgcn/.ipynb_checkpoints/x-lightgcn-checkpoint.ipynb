{
 "cells": [
  {
   "cell_type": "code",
   "execution_count": 1,
   "id": "8933f2cf-6bad-49cd-bcac-d79121e466a5",
   "metadata": {},
   "outputs": [
    {
     "name": "stderr",
     "output_type": "stream",
     "text": [
      "/Users/davidamat/anaconda3/envs/vault_pytorch_lightgcn/lib/python3.9/site-packages/tqdm/auto.py:21: TqdmWarning: IProgress not found. Please update jupyter and ipywidgets. See https://ipywidgets.readthedocs.io/en/stable/user_install.html\n",
      "  from .autonotebook import tqdm as notebook_tqdm\n"
     ]
    }
   ],
   "source": [
    "import torch\n",
    "from io import BytesIO\n",
    "from urllib.request import urlopen\n",
    "from zipfile import ZipFile\n",
    "import pandas as pd\n",
    "from os.path import join as jp\n",
    "import os\n",
    "import matplotlib.pyplot as plt \n",
    "import seaborn as sns \n",
    "import matplotlib"
   ]
  },
  {
   "cell_type": "code",
   "execution_count": 15,
   "id": "33e5d282-374f-4060-a36d-2644303f82ec",
   "metadata": {},
   "outputs": [],
   "source": [
    "import numpy as np\n",
    "from sklearn.model_selection import train_test_split\n",
    "\n",
    "import torch\n",
    "import torch.nn.functional as F\n",
    "from torch import nn, optim, Tensor\n",
    "\n",
    "from torch_geometric.utils import structured_negative_sampling\n",
    "from torch_geometric.nn.conv.gcn_conv import gcn_norm\n",
    "from torch_geometric.nn import LGConv\n",
    "import scipy.sparse as sp"
   ]
  },
  {
   "cell_type": "code",
   "execution_count": 4,
   "id": "f747d516-c14a-4876-83d5-1128fc35f798",
   "metadata": {},
   "outputs": [],
   "source": [
    "import warnings\n",
    "warnings.filterwarnings(\"ignore\")"
   ]
  },
  {
   "cell_type": "markdown",
   "id": "bb6674c9-a811-4f79-8fa5-c5c9aded8058",
   "metadata": {},
   "source": [
    "# Downloading the data"
   ]
  },
  {
   "cell_type": "markdown",
   "id": "2aed4b1b-4964-4a49-8994-8acf62ed6862",
   "metadata": {},
   "source": [
    "- From Kaggle: https://www.kaggle.com/datasets/somnambwl/bookcrossing-dataset/\n",
    "- Destination path: /Users/davidamat/Documents/david/learning/graph/data"
   ]
  },
  {
   "cell_type": "code",
   "execution_count": 5,
   "id": "57af291c-2c47-483d-8a6c-f636bfcf106e",
   "metadata": {},
   "outputs": [],
   "source": [
    "path_data = \"/Users/davidamat/Documents/david/learning/graph/data/book-crossing/\""
   ]
  },
  {
   "cell_type": "code",
   "execution_count": 6,
   "id": "0b8e4c7f-5f22-48d5-a93b-5c26ccd12722",
   "metadata": {},
   "outputs": [],
   "source": [
    "path_ratings = jp(path_data, 'Ratings.csv')\n",
    "path_users = jp(path_data, 'Users.csv')\n",
    "path_books = jp(path_data, 'Books.csv')\n",
    "\n",
    "\n",
    "ratings = pd.read_csv(path_ratings, sep=';', encoding='latin-1')\n",
    "users = pd.read_csv(path_users, sep=';', encoding='latin-1')\n",
    "books = pd.read_csv(path_books, sep=';', encoding='latin-1', on_bad_lines=\"skip\")"
   ]
  },
  {
   "cell_type": "markdown",
   "id": "2b75866b-f4df-4587-8e44-7cc50b5ba94b",
   "metadata": {},
   "source": [
    "# Preprocessing the Book-Crossing dataset\n"
   ]
  },
  {
   "cell_type": "code",
   "execution_count": 8,
   "id": "6d12f2c4-a669-4475-8ce3-9fce0a347bbd",
   "metadata": {},
   "outputs": [],
   "source": [
    "# Identifiers\n",
    "books_ids = books['ISBN'].unique()\n",
    "user_ids = users['User-ID'].unique()\n",
    "\n",
    "# Ratings as df\n",
    "df = ratings.copy()\n",
    "\n",
    "# Mask only ratings of books and users that appear on the master tables of each one\n",
    "mask_books_ids = df['ISBN'].isin(books_ids)\n",
    "mask_users_ids = df['User-ID'].isin(user_ids)\n",
    "df = df.loc[mask_books_ids & mask_users_ids]\n",
    "\n",
    "# Keep the 100k highest ratings\n",
    "df = df[df['Rating'] >= 8].iloc[:100000]"
   ]
  },
  {
   "cell_type": "code",
   "execution_count": 9,
   "id": "dfd7325c-2c69-4ac7-bb1d-d613fbe428c9",
   "metadata": {},
   "outputs": [],
   "source": [
    "# Create mappings\n",
    "user_mapping = {userid: i for i, userid in enumerate(df['User-ID'].unique())}\n",
    "item_mapping = {isbn: i for i, isbn in enumerate(df['ISBN'].unique())}\n",
    "\n",
    "# Count users and items\n",
    "num_users = len(user_mapping)\n",
    "num_items = len(item_mapping)\n",
    "num_total = num_users + num_items"
   ]
  },
  {
   "cell_type": "code",
   "execution_count": 10,
   "id": "16a10860-e861-4361-a912-c12f94a2bb2a",
   "metadata": {},
   "outputs": [],
   "source": [
    "# Construct the IDS columns\n",
    "df_ids = df.copy()\n",
    "df_ids[\"u_id\"] = df_ids[\"User-ID\"].map(user_mapping)\n",
    "df_ids[\"b_id\"] = df_ids[\"ISBN\"].map(item_mapping)"
   ]
  },
  {
   "cell_type": "code",
   "execution_count": 11,
   "id": "0856bc4f-ead3-44a0-b68a-8c22c5a98495",
   "metadata": {},
   "outputs": [
    {
     "name": "stdout",
     "output_type": "stream",
     "text": [
      "Users 19557\n",
      "Items 56913\n",
      "Total Users and Items 76470\n"
     ]
    }
   ],
   "source": [
    "print(\"Users\", num_users)\n",
    "print(\"Items\", num_items)\n",
    "print(\"Total Users and Items\", num_total)"
   ]
  },
  {
   "cell_type": "code",
   "execution_count": 12,
   "id": "8a49cd38-348e-4cff-ae8e-17a393f48a7b",
   "metadata": {},
   "outputs": [
    {
     "data": {
      "text/html": [
       "<div>\n",
       "<style scoped>\n",
       "    .dataframe tbody tr th:only-of-type {\n",
       "        vertical-align: middle;\n",
       "    }\n",
       "\n",
       "    .dataframe tbody tr th {\n",
       "        vertical-align: top;\n",
       "    }\n",
       "\n",
       "    .dataframe thead th {\n",
       "        text-align: right;\n",
       "    }\n",
       "</style>\n",
       "<table border=\"1\" class=\"dataframe\">\n",
       "  <thead>\n",
       "    <tr style=\"text-align: right;\">\n",
       "      <th></th>\n",
       "      <th>User-ID</th>\n",
       "      <th>ISBN</th>\n",
       "      <th>Rating</th>\n",
       "    </tr>\n",
       "  </thead>\n",
       "  <tbody>\n",
       "    <tr>\n",
       "      <th>9586</th>\n",
       "      <td>12</td>\n",
       "      <td>1879384493</td>\n",
       "      <td>10</td>\n",
       "    </tr>\n",
       "    <tr>\n",
       "      <th>9591</th>\n",
       "      <td>16</td>\n",
       "      <td>0345402871</td>\n",
       "      <td>9</td>\n",
       "    </tr>\n",
       "    <tr>\n",
       "      <th>9607</th>\n",
       "      <td>26</td>\n",
       "      <td>0446310786</td>\n",
       "      <td>10</td>\n",
       "    </tr>\n",
       "    <tr>\n",
       "      <th>9608</th>\n",
       "      <td>26</td>\n",
       "      <td>0449005615</td>\n",
       "      <td>9</td>\n",
       "    </tr>\n",
       "    <tr>\n",
       "      <th>9609</th>\n",
       "      <td>32</td>\n",
       "      <td>0060168013</td>\n",
       "      <td>8</td>\n",
       "    </tr>\n",
       "    <tr>\n",
       "      <th>...</th>\n",
       "      <td>...</td>\n",
       "      <td>...</td>\n",
       "      <td>...</td>\n",
       "    </tr>\n",
       "    <tr>\n",
       "      <th>480298</th>\n",
       "      <td>114601</td>\n",
       "      <td>0743419049</td>\n",
       "      <td>10</td>\n",
       "    </tr>\n",
       "    <tr>\n",
       "      <th>480303</th>\n",
       "      <td>114604</td>\n",
       "      <td>0618002219</td>\n",
       "      <td>9</td>\n",
       "    </tr>\n",
       "    <tr>\n",
       "      <th>480314</th>\n",
       "      <td>114611</td>\n",
       "      <td>0445409134</td>\n",
       "      <td>8</td>\n",
       "    </tr>\n",
       "    <tr>\n",
       "      <th>480315</th>\n",
       "      <td>114611</td>\n",
       "      <td>0446313033</td>\n",
       "      <td>8</td>\n",
       "    </tr>\n",
       "    <tr>\n",
       "      <th>480317</th>\n",
       "      <td>114611</td>\n",
       "      <td>0553276743</td>\n",
       "      <td>8</td>\n",
       "    </tr>\n",
       "  </tbody>\n",
       "</table>\n",
       "<p>100000 rows × 3 columns</p>\n",
       "</div>"
      ],
      "text/plain": [
       "        User-ID        ISBN  Rating\n",
       "9586         12  1879384493      10\n",
       "9591         16  0345402871       9\n",
       "9607         26  0446310786      10\n",
       "9608         26  0449005615       9\n",
       "9609         32  0060168013       8\n",
       "...         ...         ...     ...\n",
       "480298   114601  0743419049      10\n",
       "480303   114604  0618002219       9\n",
       "480314   114611  0445409134       8\n",
       "480315   114611  0446313033       8\n",
       "480317   114611  0553276743       8\n",
       "\n",
       "[100000 rows x 3 columns]"
      ]
     },
     "execution_count": 12,
     "metadata": {},
     "output_type": "execute_result"
    }
   ],
   "source": [
    "df"
   ]
  },
  {
   "cell_type": "markdown",
   "id": "bbefc3c3-2f22-473f-bae9-0e5c289e6c6d",
   "metadata": {},
   "source": [
    "## Edge Indices"
   ]
  },
  {
   "cell_type": "code",
   "execution_count": 13,
   "id": "4545c7c6-766d-4fab-9b60-2a5a014ae37a",
   "metadata": {},
   "outputs": [],
   "source": [
    "# Build the adjacency matrix based on user ratings:\n",
    "\n",
    "# 1) Take the column of users and convert their ID into the internal ID\n",
    "user_ids = torch.LongTensor([user_mapping[i] for i in df['User-ID']])\n",
    "\n",
    "# 2) Take the column of items and convert their ID into the internal ID\n",
    "item_ids = torch.LongTensor([item_mapping[i] for i in df['ISBN']])\n",
    "\n",
    "# 3) Create the edge tensor as the relationship between 1) and 2) (they come from ratings matrix)\n",
    "edge_index = torch.stack((user_ids, item_ids))"
   ]
  },
  {
   "cell_type": "code",
   "execution_count": 16,
   "id": "836acf67-8089-461b-86b9-e24dfcad97d2",
   "metadata": {},
   "outputs": [
    {
     "data": {
      "text/plain": [
       "tensor([    0,     1,     2,  ..., 19556, 19556, 19556])"
      ]
     },
     "execution_count": 16,
     "metadata": {},
     "output_type": "execute_result"
    }
   ],
   "source": [
    "user_ids"
   ]
  },
  {
   "cell_type": "code",
   "execution_count": 14,
   "id": "46a4be93-b22b-4628-ad42-176df99e3cbf",
   "metadata": {},
   "outputs": [
    {
     "data": {
      "text/plain": [
       "tensor([[    0,     1,     2,  ..., 19556, 19556, 19556],\n",
       "        [    0,     1,     2,  ..., 56910, 56911, 56912]])"
      ]
     },
     "execution_count": 14,
     "metadata": {},
     "output_type": "execute_result"
    }
   ],
   "source": [
    "edge_index"
   ]
  },
  {
   "cell_type": "markdown",
   "id": "75ef1d86-20e9-4818-b432-9f29d599b1e5",
   "metadata": {},
   "source": [
    "# Splitting dataset"
   ]
  },
  {
   "cell_type": "code",
   "execution_count": 17,
   "id": "839db8e3-a574-4eea-9a3f-17f4653f8da0",
   "metadata": {},
   "outputs": [],
   "source": [
    "# Create training, validation, and test adjacency matrices\n",
    "train_index, test_index = train_test_split(range(len(df)), test_size=0.2, random_state=0)\n",
    "val_index, test_index = train_test_split(test_index, test_size=0.5, random_state=0)"
   ]
  },
  {
   "cell_type": "code",
   "execution_count": 18,
   "id": "537d3777-cf1a-4768-b90c-378cd4fd84cb",
   "metadata": {},
   "outputs": [
    {
     "name": "stdout",
     "output_type": "stream",
     "text": [
      "Train: [0, 1, 2, 4, 5, 7, 8, 10, 11, 12, 13, 15, 16, 18, 19, 20, 21, 22, 24, 27]\n",
      "Test: [3, 14, 17, 23, 34, 48, 52, 56, 60, 63, 65, 68, 79, 109, 110, 117, 157, 165, 187, 196]\n",
      "Valid: [6, 9, 25, 26, 36, 41, 51, 54, 69, 72, 90, 105, 119, 121, 125, 128, 133, 151, 156, 166]\n"
     ]
    }
   ],
   "source": [
    "print(\"Train:\", sorted(train_index)[:20])\n",
    "print(\"Test:\", sorted(test_index)[:20])\n",
    "print(\"Valid:\", sorted(val_index)[:20])"
   ]
  },
  {
   "cell_type": "code",
   "execution_count": 19,
   "id": "e9064e78-bcd7-48bc-9d36-d5ec84eeed67",
   "metadata": {},
   "outputs": [],
   "source": [
    "# Slice train/test/valid\n",
    "train_edge_index = edge_index[:, train_index]\n",
    "val_edge_index = edge_index[:, val_index]\n",
    "test_edge_index = edge_index[:, test_index]"
   ]
  },
  {
   "cell_type": "code",
   "execution_count": 20,
   "id": "4e14cb13-a33a-4bef-9fb9-4901ec472cbd",
   "metadata": {},
   "outputs": [],
   "source": [
    "# Interaction values (assume all 1s)\n",
    "train_edge_values = torch.ones_like(train_edge_index[0,:])\n"
   ]
  },
  {
   "cell_type": "code",
   "execution_count": 23,
   "id": "cd6511a8-f8c0-4bf3-86d1-f298bf5ec2a8",
   "metadata": {},
   "outputs": [
    {
     "data": {
      "text/plain": [
       "torch.Size([2, 80000])"
      ]
     },
     "execution_count": 23,
     "metadata": {},
     "output_type": "execute_result"
    }
   ],
   "source": [
    "train_edge_index.shape"
   ]
  },
  {
   "cell_type": "code",
   "execution_count": 22,
   "id": "a49a8fa5-2ce7-4558-b950-9e2441f28301",
   "metadata": {},
   "outputs": [
    {
     "data": {
      "text/plain": [
       "torch.Size([80000])"
      ]
     },
     "execution_count": 22,
     "metadata": {},
     "output_type": "execute_result"
    }
   ],
   "source": [
    "train_edge_values.shape"
   ]
  },
  {
   "cell_type": "markdown",
   "id": "4ff3a845-6688-4c8c-90d9-d1b4d8b5213e",
   "metadata": {},
   "source": [
    "## Adjacency Matrix"
   ]
  },
  {
   "cell_type": "code",
   "execution_count": 33,
   "id": "a3ed30a4-22a4-4f78-a730-a7bdff43f939",
   "metadata": {},
   "outputs": [],
   "source": [
    "# Interaction matrix\n",
    "R = sp.coo_matrix((train_edge_values, (train_edge_index[0], train_edge_index[1])), shape=(num_users, num_items))\n",
    "R = R.tolil()"
   ]
  },
  {
   "cell_type": "code",
   "execution_count": 39,
   "id": "1da3dbf7-24ef-469f-88f4-ac8c5753399d",
   "metadata": {},
   "outputs": [],
   "source": [
    "# Adjacency matrix\n",
    "MN = num_users + num_items\n",
    "adj_mat = sp.dok_matrix((MN, MN), dtype=np.float32)\n",
    "adj_mat = adj_mat.tolil()"
   ]
  },
  {
   "cell_type": "code",
   "execution_count": 40,
   "id": "cc0e4fad-2ac4-49cd-b490-d95d6e9a0bad",
   "metadata": {},
   "outputs": [
    {
     "data": {
      "text/plain": [
       "<76470x76470 sparse matrix of type '<class 'numpy.float32'>'\n",
       "\twith 0 stored elements in List of Lists format>"
      ]
     },
     "execution_count": 40,
     "metadata": {},
     "output_type": "execute_result"
    }
   ],
   "source": [
    "adj_mat"
   ]
  },
  {
   "cell_type": "code",
   "execution_count": 41,
   "id": "94475c40-8b0b-41e2-9966-257ad153dd0c",
   "metadata": {},
   "outputs": [
    {
     "name": "stdout",
     "output_type": "stream",
     "text": [
      "CPU times: user 1min 26s, sys: 9.05 s, total: 1min 36s\n",
      "Wall time: 1min 37s\n"
     ]
    }
   ],
   "source": [
    "%%time\n",
    "# Fill adjacency matrix\n",
    "adj_mat[:num_users, num_users:] = R\n",
    "adj_mat[num_users:, :num_users] = R.T"
   ]
  },
  {
   "cell_type": "code",
   "execution_count": 44,
   "id": "4a65304b-e64f-4dce-aa49-1667ab1d0205",
   "metadata": {},
   "outputs": [],
   "source": [
    "# Rowsum\n",
    "rowsum = np.array(adj_mat.sum(1))\n",
    "degrees = rowsum.ravel()"
   ]
  },
  {
   "cell_type": "code",
   "execution_count": 52,
   "id": "a5516bc3-2eb8-482e-b5aa-cfebc25a99c7",
   "metadata": {},
   "outputs": [],
   "source": [
    "#dd = pd.Series(degrees).value_counts()\n",
    "# dd[:15].plot(kind='bar', title=\"Degree distrib\", xlabel=\"Degree of node\")"
   ]
  },
  {
   "cell_type": "code",
   "execution_count": 53,
   "id": "4c64bf9e-1c59-4bab-ac13-e9d8fbaaf6c7",
   "metadata": {},
   "outputs": [],
   "source": [
    "# Inverse of the Degree matrix\n",
    "d_inv = np.power(rowsum, -0.5).flatten()\n",
    "d_inv[np.isinf(d_inv)] = 0.\n",
    "d_mat = sp.diags(d_inv)"
   ]
  },
  {
   "cell_type": "code",
   "execution_count": 54,
   "id": "da1d84c5-2b12-4032-9f34-b48e04763dc6",
   "metadata": {},
   "outputs": [],
   "source": [
    "# Normalized Adjacency Matrix\n",
    "norm_adj = d_mat.dot(adj_mat)\n",
    "norm_adj = norm_adj.dot(d_mat)\n",
    "# norm_adj = norm_adj.tocsr()"
   ]
  },
  {
   "cell_type": "code",
   "execution_count": 55,
   "id": "bf83a20c-7e15-4f5f-806c-f8c67c6b50ac",
   "metadata": {},
   "outputs": [
    {
     "data": {
      "text/plain": [
       "<76470x76470 sparse matrix of type '<class 'numpy.float32'>'\n",
       "\twith 160000 stored elements in Compressed Sparse Row format>"
      ]
     },
     "execution_count": 55,
     "metadata": {},
     "output_type": "execute_result"
    }
   ],
   "source": [
    "norm_adj"
   ]
  },
  {
   "cell_type": "code",
   "execution_count": null,
   "id": "9977fdb0-449c-4888-ac81-952e9669be55",
   "metadata": {},
   "outputs": [],
   "source": []
  },
  {
   "cell_type": "markdown",
   "id": "d337cf08-e826-4d6d-9d0b-4b186fa7ebb3",
   "metadata": {},
   "source": [
    "## LightGCN"
   ]
  },
  {
   "cell_type": "code",
   "execution_count": 117,
   "id": "ed5f3eec-4cda-401b-b852-c67b74d2275e",
   "metadata": {},
   "outputs": [],
   "source": [
    "class LightGCN(nn.Module):\n",
    "    def __init__(self, num_users, num_items, edge_index, edge_values, num_layers=4, dim_h=64):\n",
    "        super().__init__()\n",
    "        \n",
    "        self.num_users = num_users\n",
    "        self.num_items = num_items\n",
    "        self.num_layers = num_layers\n",
    "        self.emb_users = nn.Embedding(num_embeddings=self.num_users, embedding_dim=dim_h)\n",
    "        self.emb_items = nn.Embedding(num_embeddings=self.num_items, embedding_dim=dim_h)\n",
    "        self.edge_index = edge_index\n",
    "        self.edge_values = edge_values\n",
    "        self.adj_mat = self.compute_norm_adj_matrix(edge_index, edge_values)\n",
    "        self.sp_adj_mat = self._convert_sp_mat_to_sp_tensor(self.adj_mat)\n",
    "        self.alpha = 1/(self.num_layers+1)\n",
    "\n",
    "        # self.convs = nn.ModuleList(LGConv() for _ in range(num_layers))\n",
    "\n",
    "        nn.init.normal_(self.emb_users.weight, std=0.01)\n",
    "        nn.init.normal_(self.emb_items.weight, std=0.01)\n",
    "        \n",
    "    @staticmethod\n",
    "    def _convert_sp_mat_to_sp_tensor(X):\n",
    "        coo = X.tocoo().astype(np.float32)\n",
    "        row = torch.Tensor(coo.row).long()\n",
    "        col = torch.Tensor(coo.col).long()\n",
    "        index = torch.stack([row, col])\n",
    "        data = torch.FloatTensor(coo.data)\n",
    "        return torch.sparse.FloatTensor(index, data, torch.Size(coo.shape))\n",
    "    \n",
    "    def compute_norm_adj_matrix(self, edge_index, edge_values):\n",
    "        num_users = self.num_users\n",
    "        num_items = self.num_items\n",
    "        # Interaction matrix\n",
    "        R = sp.coo_matrix((\n",
    "            edge_values, \n",
    "            (edge_index[0], edge_index[1])),\n",
    "            shape=(num_users, num_items))\n",
    "        R = R.tolil()\n",
    "        \n",
    "        # Adjacency matrix\n",
    "        MN = self.num_users + self.num_items\n",
    "        adj_mat = sp.dok_matrix((MN, MN), dtype=np.float32)\n",
    "        adj_mat = adj_mat.tolil()\n",
    "        \n",
    "        # Fill adjacency matrix\n",
    "        adj_mat[:num_users, num_users:] = R\n",
    "        adj_mat[num_users:, :num_users] = R.T\n",
    "        \n",
    "        # Degrees\n",
    "        rowsum = np.array(adj_mat.sum(1))\n",
    "        \n",
    "        # Inverse of the Degree matrix\n",
    "        d_inv = np.power(rowsum, -0.5).flatten()\n",
    "        d_inv[np.isinf(d_inv)] = 0.\n",
    "        d_mat = sp.diags(d_inv)\n",
    "        \n",
    "        # Normalized Adjacency Matrix\n",
    "        norm_adj = d_mat.dot(adj_mat)\n",
    "        norm_adj = norm_adj.dot(d_mat)\n",
    "        return norm_adj\n",
    "        \n",
    "\n",
    "    def forward(self):\n",
    "        # Keep track of starting embeddings for feeding into the BPR Loss \n",
    "        # for regularizing the learned embedding params\n",
    "        emb0_users = self.emb_users.weight\n",
    "        emb0_items = self.emb_items.weight\n",
    "                \n",
    "        # Embedding is dimension M + N\n",
    "        emb = torch.cat([emb0_users, emb0_items])\n",
    "        embs = [emb]\n",
    "\n",
    "        # For each layer\n",
    "        for layer_i in range(self.num_layers):\n",
    "            emb = torch.sparse.mm(self.sp_adj_mat, emb)\n",
    "            embs.append(emb)\n",
    "\n",
    "        emb_final = self.alpha * torch.mean(torch.stack(embs, dim=1), dim=1)\n",
    "\n",
    "        embf_users, embf_items = torch.split(emb_final, [self.num_users, self.num_items])\n",
    "\n",
    "        return embf_users, emb0_users, embf_items, emb0_items"
   ]
  },
  {
   "cell_type": "markdown",
   "id": "e50811f0-0e31-4c77-a9a9-cc2078bf1fe5",
   "metadata": {},
   "source": [
    "### TOY example"
   ]
  },
  {
   "cell_type": "code",
   "execution_count": 118,
   "id": "98b4af64-5bd3-4961-8ba0-723b7950bd35",
   "metadata": {},
   "outputs": [],
   "source": [
    "toy_edge_index = torch.tensor(\n",
    "    [[0, 0, 0, 1, 1, 2, 2, 3, 3, 4, 4],\n",
    "     [0, 1, 2, 0, 2, 1, 2, 1, 2, 0, 2]])\n",
    "\n",
    "toy_edge_index = torch.LongTensor(toy_edge_index) \n",
    "toy_edge_values = torch.ones_like(toy_edge_index[0])\n",
    "nu = 5\n",
    "ni = 3\n",
    "embdi = 3\n",
    "layers = 1 \n",
    "\n",
    "model = LightGCN(\n",
    "    num_users=nu, \n",
    "    num_items=ni, \n",
    "    edge_index=toy_edge_index,\n",
    "    edge_values=toy_edge_values,\n",
    "    num_layers=1, \n",
    "    dim_h=embdi\n",
    ")"
   ]
  },
  {
   "cell_type": "code",
   "execution_count": 119,
   "id": "9822ce22-8ba8-49c4-b92d-c7f5853f03dd",
   "metadata": {},
   "outputs": [
    {
     "data": {
      "text/plain": [
       "array([[0.  , 0.  , 0.  , 0.  , 0.  , 0.33, 0.33, 0.26],\n",
       "       [0.  , 0.  , 0.  , 0.  , 0.  , 0.41, 0.  , 0.32],\n",
       "       [0.  , 0.  , 0.  , 0.  , 0.  , 0.  , 0.41, 0.32],\n",
       "       [0.  , 0.  , 0.  , 0.  , 0.  , 0.  , 0.41, 0.32],\n",
       "       [0.  , 0.  , 0.  , 0.  , 0.  , 0.41, 0.  , 0.32],\n",
       "       [0.33, 0.41, 0.  , 0.  , 0.41, 0.  , 0.  , 0.  ],\n",
       "       [0.33, 0.  , 0.41, 0.41, 0.  , 0.  , 0.  , 0.  ],\n",
       "       [0.26, 0.32, 0.32, 0.32, 0.32, 0.  , 0.  , 0.  ]], dtype=float32)"
      ]
     },
     "execution_count": 119,
     "metadata": {},
     "output_type": "execute_result"
    }
   ],
   "source": [
    "model.adj_mat.todense().round(2)"
   ]
  },
  {
   "cell_type": "code",
   "execution_count": 120,
   "id": "92396574-ee93-4146-bdcf-7c0b0c928016",
   "metadata": {},
   "outputs": [
    {
     "data": {
      "text/plain": [
       "tensor([[-0.0015,  0.0058, -0.0111],\n",
       "        [-0.0116,  0.0086, -0.0100],\n",
       "        [ 0.0023,  0.0084,  0.0090],\n",
       "        [-0.0008,  0.0137, -0.0070],\n",
       "        [-0.0033,  0.0143,  0.0039],\n",
       "        [-0.0034, -0.0103,  0.0048],\n",
       "        [ 0.0164, -0.0081,  0.0149],\n",
       "        [ 0.0108,  0.0147,  0.0012]], grad_fn=<CatBackward0>)"
      ]
     },
     "execution_count": 120,
     "metadata": {},
     "output_type": "execute_result"
    }
   ],
   "source": [
    "emb0 = torch.cat([model.emb_users.weight, model.emb_items.weight])\n",
    "emb0"
   ]
  },
  {
   "cell_type": "code",
   "execution_count": 121,
   "id": "14c80067-36a0-4287-97c3-70bd5f8a9722",
   "metadata": {},
   "outputs": [],
   "source": [
    "# Forward\n",
    "embf_users, emb0_user, embf_items, emb0_items = model.forward()"
   ]
  },
  {
   "cell_type": "code",
   "execution_count": 122,
   "id": "f54193b7-8c54-4261-9539-fad163275cb6",
   "metadata": {},
   "outputs": [],
   "source": [
    "# Embedding is dimension M + N\n",
    "emb = torch.cat([emb0_user, emb0_items])\n",
    "embs = [emb]\n",
    "\n",
    "# For each layer\n",
    "for layer_i in range(1):\n",
    "    emb = torch.sparse.mm(model.sp_adj_mat, emb)\n",
    "    embs.append(emb)"
   ]
  },
  {
   "cell_type": "code",
   "execution_count": 132,
   "id": "a4904d2c-f721-4c6e-b2ba-78c356187220",
   "metadata": {},
   "outputs": [],
   "source": [
    "\n",
    "m1 = model.sp_adj_mat.to_dense()\n",
    "m2 = emb0"
   ]
  },
  {
   "cell_type": "code",
   "execution_count": 135,
   "id": "63095a81-2e3d-4998-b9fd-b6ea6b38acf8",
   "metadata": {},
   "outputs": [
    {
     "data": {
      "text/plain": [
       "tensor([[-0.0015,  0.0058, -0.0111],\n",
       "        [-0.0116,  0.0086, -0.0100],\n",
       "        [ 0.0023,  0.0084,  0.0090],\n",
       "        [-0.0008,  0.0137, -0.0070],\n",
       "        [-0.0033,  0.0143,  0.0039],\n",
       "        [-0.0034, -0.0103,  0.0048],\n",
       "        [ 0.0164, -0.0081,  0.0149],\n",
       "        [ 0.0108,  0.0147,  0.0012]], grad_fn=<CatBackward0>)"
      ]
     },
     "execution_count": 135,
     "metadata": {},
     "output_type": "execute_result"
    }
   ],
   "source": [
    "m2"
   ]
  },
  {
   "cell_type": "code",
   "execution_count": 124,
   "id": "3fcac2da-b600-48c9-98a7-22a6a10e636d",
   "metadata": {},
   "outputs": [],
   "source": [
    "emb_final = model.alpha * torch.mean(torch.stack(embs, dim=1), dim=1)\n",
    "# embf_users, embf_items = torch.split(emb_final, [self.num_users, self.num_items])"
   ]
  },
  {
   "cell_type": "code",
   "execution_count": 126,
   "id": "59ce5142-a6f0-4bad-a9fd-ea18d0a42b1e",
   "metadata": {},
   "outputs": [],
   "source": [
    "emb_initial = torch.cat([emb0_user, emb0_items])"
   ]
  },
  {
   "cell_type": "code",
   "execution_count": 127,
   "id": "9f9dab61-9b36-4623-9232-0d419046197c",
   "metadata": {},
   "outputs": [
    {
     "data": {
      "text/plain": [
       "tensor([[-0.0015,  0.0058, -0.0111],\n",
       "        [-0.0116,  0.0086, -0.0100],\n",
       "        [ 0.0023,  0.0084,  0.0090],\n",
       "        [-0.0008,  0.0137, -0.0070],\n",
       "        [-0.0033,  0.0143,  0.0039],\n",
       "        [-0.0034, -0.0103,  0.0048],\n",
       "        [ 0.0164, -0.0081,  0.0149],\n",
       "        [ 0.0108,  0.0147,  0.0012]], grad_fn=<CatBackward0>)"
      ]
     },
     "execution_count": 127,
     "metadata": {},
     "output_type": "execute_result"
    }
   ],
   "source": [
    "emb_initial"
   ]
  },
  {
   "cell_type": "code",
   "execution_count": 125,
   "id": "1a1af90b-2945-4e09-945d-d138e1d2fd5a",
   "metadata": {},
   "outputs": [
    {
     "data": {
      "text/plain": [
       "tensor([[ 0.0014,  0.0009, -0.0010],\n",
       "        [-0.0024,  0.0023, -0.0019],\n",
       "        [ 0.0031,  0.0024,  0.0039],\n",
       "        [ 0.0023,  0.0038, -0.0001],\n",
       "        [-0.0003,  0.0037,  0.0016],\n",
       "        [-0.0025,  0.0002, -0.0004],\n",
       "        [ 0.0041,  0.0007,  0.0030],\n",
       "        [ 0.0015,  0.0076, -0.0007]], grad_fn=<MulBackward0>)"
      ]
     },
     "execution_count": 125,
     "metadata": {},
     "output_type": "execute_result"
    }
   ],
   "source": [
    "emb_final"
   ]
  },
  {
   "cell_type": "code",
   "execution_count": 110,
   "id": "4f14ad45-cfc1-4b54-a9d7-bb4b72e689f3",
   "metadata": {},
   "outputs": [],
   "source": [
    "AdjSparse = _convert_sp_mat_to_sp_tensor(model.adj_mat)"
   ]
  },
  {
   "cell_type": "code",
   "execution_count": 112,
   "id": "89982488-10d9-4304-ae14-898b35edb8e0",
   "metadata": {},
   "outputs": [
    {
     "data": {
      "text/plain": [
       "tensor(indices=tensor([[0, 0, 0, 1, 1, 2, 2, 3, 3, 4, 4, 5, 5, 5, 6, 6, 6, 7, 7,\n",
       "                        7, 7, 7],\n",
       "                       [5, 6, 7, 5, 7, 6, 7, 6, 7, 5, 7, 0, 1, 4, 0, 2, 3, 0, 1,\n",
       "                        2, 3, 4]]),\n",
       "       values=tensor([0.3333, 0.3333, 0.2582, 0.4082, 0.3162, 0.4082, 0.3162,\n",
       "                      0.4082, 0.3162, 0.4082, 0.3162, 0.3333, 0.4082, 0.4082,\n",
       "                      0.3333, 0.4082, 0.4082, 0.2582, 0.3162, 0.3162, 0.3162,\n",
       "                      0.3162]),\n",
       "       size=(8, 8), nnz=22, layout=torch.sparse_coo)"
      ]
     },
     "execution_count": 112,
     "metadata": {},
     "output_type": "execute_result"
    }
   ],
   "source": [
    "AdjSparse.coalesce()"
   ]
  },
  {
   "cell_type": "code",
   "execution_count": 113,
   "id": "b3e6587c-6dc2-4f24-a5bb-391c3addf738",
   "metadata": {},
   "outputs": [
    {
     "data": {
      "text/plain": [
       "tensor([[-5.2439e-03,  2.9526e-03, -3.0117e-05],\n",
       "        [ 2.1050e-03,  4.6518e-03, -1.8666e-03],\n",
       "        [-9.0366e-03,  4.2872e-03,  2.1864e-03],\n",
       "        [-9.0366e-03,  4.2872e-03,  2.1864e-03],\n",
       "        [ 2.1050e-03,  4.6518e-03, -1.8666e-03],\n",
       "        [-2.0340e-03, -1.2537e-02,  2.4030e-04],\n",
       "        [-2.9509e-03, -1.3933e-02, -2.8841e-03],\n",
       "        [-4.1417e-03, -1.7116e-02, -9.8257e-04]],\n",
       "       grad_fn=<SparseAddmmBackward0>)"
      ]
     },
     "execution_count": 113,
     "metadata": {},
     "output_type": "execute_result"
    }
   ],
   "source": [
    "torch.sparse.mm(AdjSparse, emb)"
   ]
  },
  {
   "cell_type": "code",
   "execution_count": 102,
   "id": "ddbdf057-13be-420a-b000-34c0af2b3718",
   "metadata": {},
   "outputs": [
    {
     "data": {
      "text/plain": [
       "<8x8 sparse matrix of type '<class 'numpy.float32'>'\n",
       "\twith 22 stored elements in Compressed Sparse Row format>"
      ]
     },
     "execution_count": 102,
     "metadata": {},
     "output_type": "execute_result"
    }
   ],
   "source": [
    "model.adj_mat"
   ]
  },
  {
   "cell_type": "code",
   "execution_count": 104,
   "id": "850139f2-9aba-48ce-a7f2-2c09ab9c6318",
   "metadata": {},
   "outputs": [
    {
     "data": {
      "text/plain": [
       "torch.Size([8, 3])"
      ]
     },
     "execution_count": 104,
     "metadata": {},
     "output_type": "execute_result"
    }
   ],
   "source": [
    "emb.shape"
   ]
  },
  {
   "cell_type": "code",
   "execution_count": null,
   "id": "ed4e9af3-6baf-4cdd-9bb5-1a30a53dc05a",
   "metadata": {},
   "outputs": [],
   "source": []
  }
 ],
 "metadata": {
  "kernelspec": {
   "display_name": "vault_pytorch_lightgcn",
   "language": "python",
   "name": "vault_pytorch_lightgcn"
  },
  "language_info": {
   "codemirror_mode": {
    "name": "ipython",
    "version": 3
   },
   "file_extension": ".py",
   "mimetype": "text/x-python",
   "name": "python",
   "nbconvert_exporter": "python",
   "pygments_lexer": "ipython3",
   "version": "3.9.18"
  }
 },
 "nbformat": 4,
 "nbformat_minor": 5
}
