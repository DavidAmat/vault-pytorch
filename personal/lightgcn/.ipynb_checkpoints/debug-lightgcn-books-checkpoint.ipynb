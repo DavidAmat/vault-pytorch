{
 "cells": [
  {
   "cell_type": "code",
   "execution_count": 27,
   "id": "de469740-f1da-48dc-a92b-9034bc0bcd1b",
   "metadata": {},
   "outputs": [],
   "source": [
    "import torch\n",
    "from io import BytesIO\n",
    "from urllib.request import urlopen\n",
    "from zipfile import ZipFile\n",
    "import pandas as pd\n",
    "from os.path import join as jp\n",
    "import os\n",
    "import matplotlib.pyplot as plt \n",
    "import seaborn as sns \n",
    "import matplotlib"
   ]
  },
  {
   "cell_type": "code",
   "execution_count": 60,
   "id": "2c644d7c-1fc4-40d4-846d-989c028f2021",
   "metadata": {},
   "outputs": [],
   "source": [
    "%matplotlib inline"
   ]
  },
  {
   "cell_type": "code",
   "execution_count": 4,
   "id": "11bf1f05-a092-4f4a-994b-219db8c04464",
   "metadata": {},
   "outputs": [
    {
     "data": {
      "text/plain": [
       "<torch._C.Generator at 0x7fd880579630>"
      ]
     },
     "execution_count": 4,
     "metadata": {},
     "output_type": "execute_result"
    }
   ],
   "source": [
    "torch.manual_seed(0)"
   ]
  },
  {
   "cell_type": "markdown",
   "id": "53f55e91-7404-4c9f-94bc-830e359cb345",
   "metadata": {},
   "source": [
    "# Downloading the data"
   ]
  },
  {
   "cell_type": "markdown",
   "id": "47db598b-b25f-4725-81d4-ee7613ba5472",
   "metadata": {},
   "source": [
    "- From Kaggle: https://www.kaggle.com/datasets/somnambwl/bookcrossing-dataset/\n",
    "- Destination path: /Users/davidamat/Documents/david/learning/graph/data"
   ]
  },
  {
   "cell_type": "code",
   "execution_count": 20,
   "id": "830b01c2-564c-4cab-89b8-d2c85598c644",
   "metadata": {},
   "outputs": [],
   "source": [
    "path_data = \"/Users/davidamat/Documents/david/learning/graph/data/book-crossing/\""
   ]
  },
  {
   "cell_type": "code",
   "execution_count": 23,
   "id": "cc0ed11c-44a7-4e5c-9624-f7faeebb2347",
   "metadata": {},
   "outputs": [
    {
     "name": "stderr",
     "output_type": "stream",
     "text": [
      "/var/folders/q8/0tr_xyt14xjgdbrbsqcbtpcc0000gn/T/ipykernel_13063/3612776475.py:7: DtypeWarning: Columns (0) have mixed types. Specify dtype option on import or set low_memory=False.\n",
      "  users = pd.read_csv(path_users, sep=';', encoding='latin-1')\n"
     ]
    }
   ],
   "source": [
    "path_ratings = jp(path_data, 'Ratings.csv')\n",
    "path_users = jp(path_data, 'Users.csv')\n",
    "path_books = jp(path_data, 'Books.csv')\n",
    "\n",
    "\n",
    "ratings = pd.read_csv(path_ratings, sep=';', encoding='latin-1')\n",
    "users = pd.read_csv(path_users, sep=';', encoding='latin-1')\n",
    "books = pd.read_csv(path_books, sep=';', encoding='latin-1', on_bad_lines=\"skip\")"
   ]
  },
  {
   "cell_type": "markdown",
   "id": "d346ee06-090f-44e5-b59c-3f201bf01d76",
   "metadata": {},
   "source": [
    "# Data Viz"
   ]
  },
  {
   "cell_type": "code",
   "execution_count": 24,
   "id": "85fe46e0-e683-4912-8a10-036e56da3a42",
   "metadata": {},
   "outputs": [
    {
     "data": {
      "text/html": [
       "<div>\n",
       "<style scoped>\n",
       "    .dataframe tbody tr th:only-of-type {\n",
       "        vertical-align: middle;\n",
       "    }\n",
       "\n",
       "    .dataframe tbody tr th {\n",
       "        vertical-align: top;\n",
       "    }\n",
       "\n",
       "    .dataframe thead th {\n",
       "        text-align: right;\n",
       "    }\n",
       "</style>\n",
       "<table border=\"1\" class=\"dataframe\">\n",
       "  <thead>\n",
       "    <tr style=\"text-align: right;\">\n",
       "      <th></th>\n",
       "      <th>User-ID</th>\n",
       "      <th>ISBN</th>\n",
       "      <th>Rating</th>\n",
       "    </tr>\n",
       "  </thead>\n",
       "  <tbody>\n",
       "    <tr>\n",
       "      <th>0</th>\n",
       "      <td>276725</td>\n",
       "      <td>034545104X</td>\n",
       "      <td>0</td>\n",
       "    </tr>\n",
       "    <tr>\n",
       "      <th>1</th>\n",
       "      <td>276726</td>\n",
       "      <td>0155061224</td>\n",
       "      <td>5</td>\n",
       "    </tr>\n",
       "    <tr>\n",
       "      <th>2</th>\n",
       "      <td>276727</td>\n",
       "      <td>0446520802</td>\n",
       "      <td>0</td>\n",
       "    </tr>\n",
       "    <tr>\n",
       "      <th>3</th>\n",
       "      <td>276729</td>\n",
       "      <td>052165615X</td>\n",
       "      <td>3</td>\n",
       "    </tr>\n",
       "    <tr>\n",
       "      <th>4</th>\n",
       "      <td>276729</td>\n",
       "      <td>0521795028</td>\n",
       "      <td>6</td>\n",
       "    </tr>\n",
       "    <tr>\n",
       "      <th>...</th>\n",
       "      <td>...</td>\n",
       "      <td>...</td>\n",
       "      <td>...</td>\n",
       "    </tr>\n",
       "    <tr>\n",
       "      <th>1149775</th>\n",
       "      <td>276704</td>\n",
       "      <td>1563526298</td>\n",
       "      <td>9</td>\n",
       "    </tr>\n",
       "    <tr>\n",
       "      <th>1149776</th>\n",
       "      <td>276706</td>\n",
       "      <td>0679447156</td>\n",
       "      <td>0</td>\n",
       "    </tr>\n",
       "    <tr>\n",
       "      <th>1149777</th>\n",
       "      <td>276709</td>\n",
       "      <td>0515107662</td>\n",
       "      <td>10</td>\n",
       "    </tr>\n",
       "    <tr>\n",
       "      <th>1149778</th>\n",
       "      <td>276721</td>\n",
       "      <td>0590442449</td>\n",
       "      <td>10</td>\n",
       "    </tr>\n",
       "    <tr>\n",
       "      <th>1149779</th>\n",
       "      <td>276723</td>\n",
       "      <td>05162443314</td>\n",
       "      <td>8</td>\n",
       "    </tr>\n",
       "  </tbody>\n",
       "</table>\n",
       "<p>1149780 rows × 3 columns</p>\n",
       "</div>"
      ],
      "text/plain": [
       "         User-ID         ISBN  Rating\n",
       "0         276725   034545104X       0\n",
       "1         276726   0155061224       5\n",
       "2         276727   0446520802       0\n",
       "3         276729   052165615X       3\n",
       "4         276729   0521795028       6\n",
       "...          ...          ...     ...\n",
       "1149775   276704   1563526298       9\n",
       "1149776   276706   0679447156       0\n",
       "1149777   276709   0515107662      10\n",
       "1149778   276721   0590442449      10\n",
       "1149779   276723  05162443314       8\n",
       "\n",
       "[1149780 rows x 3 columns]"
      ]
     },
     "execution_count": 24,
     "metadata": {},
     "output_type": "execute_result"
    }
   ],
   "source": [
    "ratings"
   ]
  },
  {
   "cell_type": "code",
   "execution_count": 25,
   "id": "fce1a872-291f-402e-bc96-e0af1ebae7cb",
   "metadata": {},
   "outputs": [
    {
     "data": {
      "text/html": [
       "<div>\n",
       "<style scoped>\n",
       "    .dataframe tbody tr th:only-of-type {\n",
       "        vertical-align: middle;\n",
       "    }\n",
       "\n",
       "    .dataframe tbody tr th {\n",
       "        vertical-align: top;\n",
       "    }\n",
       "\n",
       "    .dataframe thead th {\n",
       "        text-align: right;\n",
       "    }\n",
       "</style>\n",
       "<table border=\"1\" class=\"dataframe\">\n",
       "  <thead>\n",
       "    <tr style=\"text-align: right;\">\n",
       "      <th></th>\n",
       "      <th>User-ID</th>\n",
       "      <th>Age</th>\n",
       "    </tr>\n",
       "  </thead>\n",
       "  <tbody>\n",
       "    <tr>\n",
       "      <th>0</th>\n",
       "      <td>1</td>\n",
       "      <td>NaN</td>\n",
       "    </tr>\n",
       "    <tr>\n",
       "      <th>1</th>\n",
       "      <td>2</td>\n",
       "      <td>18</td>\n",
       "    </tr>\n",
       "    <tr>\n",
       "      <th>2</th>\n",
       "      <td>3</td>\n",
       "      <td>NaN</td>\n",
       "    </tr>\n",
       "    <tr>\n",
       "      <th>3</th>\n",
       "      <td>4</td>\n",
       "      <td>17</td>\n",
       "    </tr>\n",
       "    <tr>\n",
       "      <th>4</th>\n",
       "      <td>5</td>\n",
       "      <td>NaN</td>\n",
       "    </tr>\n",
       "    <tr>\n",
       "      <th>...</th>\n",
       "      <td>...</td>\n",
       "      <td>...</td>\n",
       "    </tr>\n",
       "    <tr>\n",
       "      <th>278854</th>\n",
       "      <td>278854</td>\n",
       "      <td>NaN</td>\n",
       "    </tr>\n",
       "    <tr>\n",
       "      <th>278855</th>\n",
       "      <td>278855</td>\n",
       "      <td>50</td>\n",
       "    </tr>\n",
       "    <tr>\n",
       "      <th>278856</th>\n",
       "      <td>278856</td>\n",
       "      <td>NaN</td>\n",
       "    </tr>\n",
       "    <tr>\n",
       "      <th>278857</th>\n",
       "      <td>278857</td>\n",
       "      <td>NaN</td>\n",
       "    </tr>\n",
       "    <tr>\n",
       "      <th>278858</th>\n",
       "      <td>278858</td>\n",
       "      <td>NaN</td>\n",
       "    </tr>\n",
       "  </tbody>\n",
       "</table>\n",
       "<p>278859 rows × 2 columns</p>\n",
       "</div>"
      ],
      "text/plain": [
       "       User-ID  Age\n",
       "0            1  NaN\n",
       "1            2   18\n",
       "2            3  NaN\n",
       "3            4   17\n",
       "4            5  NaN\n",
       "...        ...  ...\n",
       "278854  278854  NaN\n",
       "278855  278855   50\n",
       "278856  278856  NaN\n",
       "278857  278857  NaN\n",
       "278858  278858  NaN\n",
       "\n",
       "[278859 rows x 2 columns]"
      ]
     },
     "execution_count": 25,
     "metadata": {},
     "output_type": "execute_result"
    }
   ],
   "source": [
    "users"
   ]
  },
  {
   "cell_type": "code",
   "execution_count": 26,
   "id": "ad4c2929-01c2-4556-a750-461e91937ed1",
   "metadata": {},
   "outputs": [
    {
     "data": {
      "text/html": [
       "<div>\n",
       "<style scoped>\n",
       "    .dataframe tbody tr th:only-of-type {\n",
       "        vertical-align: middle;\n",
       "    }\n",
       "\n",
       "    .dataframe tbody tr th {\n",
       "        vertical-align: top;\n",
       "    }\n",
       "\n",
       "    .dataframe thead th {\n",
       "        text-align: right;\n",
       "    }\n",
       "</style>\n",
       "<table border=\"1\" class=\"dataframe\">\n",
       "  <thead>\n",
       "    <tr style=\"text-align: right;\">\n",
       "      <th></th>\n",
       "      <th>ISBN</th>\n",
       "      <th>Title</th>\n",
       "      <th>Author</th>\n",
       "      <th>Year</th>\n",
       "      <th>Publisher</th>\n",
       "    </tr>\n",
       "  </thead>\n",
       "  <tbody>\n",
       "    <tr>\n",
       "      <th>0</th>\n",
       "      <td>0195153448</td>\n",
       "      <td>Classical Mythology</td>\n",
       "      <td>Mark P. O. Morford</td>\n",
       "      <td>2002</td>\n",
       "      <td>Oxford University Press</td>\n",
       "    </tr>\n",
       "    <tr>\n",
       "      <th>1</th>\n",
       "      <td>0002005018</td>\n",
       "      <td>Clara Callan</td>\n",
       "      <td>Richard Bruce Wright</td>\n",
       "      <td>2001</td>\n",
       "      <td>HarperFlamingo Canada</td>\n",
       "    </tr>\n",
       "    <tr>\n",
       "      <th>2</th>\n",
       "      <td>0060973129</td>\n",
       "      <td>Decision in Normandy</td>\n",
       "      <td>Carlo D'Este</td>\n",
       "      <td>1991</td>\n",
       "      <td>HarperPerennial</td>\n",
       "    </tr>\n",
       "    <tr>\n",
       "      <th>3</th>\n",
       "      <td>0374157065</td>\n",
       "      <td>Flu: The Story of the Great Influenza Pandemic...</td>\n",
       "      <td>Gina Bari Kolata</td>\n",
       "      <td>1999</td>\n",
       "      <td>Farrar Straus Giroux</td>\n",
       "    </tr>\n",
       "    <tr>\n",
       "      <th>4</th>\n",
       "      <td>0393045218</td>\n",
       "      <td>The Mummies of Urumchi</td>\n",
       "      <td>E. J. W. Barber</td>\n",
       "      <td>1999</td>\n",
       "      <td>W. W. Norton &amp; Company</td>\n",
       "    </tr>\n",
       "    <tr>\n",
       "      <th>...</th>\n",
       "      <td>...</td>\n",
       "      <td>...</td>\n",
       "      <td>...</td>\n",
       "      <td>...</td>\n",
       "      <td>...</td>\n",
       "    </tr>\n",
       "    <tr>\n",
       "      <th>271374</th>\n",
       "      <td>0440400988</td>\n",
       "      <td>There's a Bat in Bunk Five</td>\n",
       "      <td>Paula Danziger</td>\n",
       "      <td>1988</td>\n",
       "      <td>Random House Childrens Pub (Mm)</td>\n",
       "    </tr>\n",
       "    <tr>\n",
       "      <th>271375</th>\n",
       "      <td>0525447644</td>\n",
       "      <td>From One to One Hundred</td>\n",
       "      <td>Teri Sloat</td>\n",
       "      <td>1991</td>\n",
       "      <td>Dutton Books</td>\n",
       "    </tr>\n",
       "    <tr>\n",
       "      <th>271376</th>\n",
       "      <td>006008667X</td>\n",
       "      <td>Lily Dale : The True Story of the Town that Ta...</td>\n",
       "      <td>Christine Wicker</td>\n",
       "      <td>2004</td>\n",
       "      <td>HarperSanFrancisco</td>\n",
       "    </tr>\n",
       "    <tr>\n",
       "      <th>271377</th>\n",
       "      <td>0192126040</td>\n",
       "      <td>Republic (World's Classics)</td>\n",
       "      <td>Plato</td>\n",
       "      <td>1996</td>\n",
       "      <td>Oxford University Press</td>\n",
       "    </tr>\n",
       "    <tr>\n",
       "      <th>271378</th>\n",
       "      <td>0767409752</td>\n",
       "      <td>A Guided Tour of Rene Descartes' Meditations o...</td>\n",
       "      <td>Christopher  Biffle</td>\n",
       "      <td>2000</td>\n",
       "      <td>McGraw-Hill Humanities/Social Sciences/Languages</td>\n",
       "    </tr>\n",
       "  </tbody>\n",
       "</table>\n",
       "<p>271379 rows × 5 columns</p>\n",
       "</div>"
      ],
      "text/plain": [
       "              ISBN                                              Title  \\\n",
       "0       0195153448                                Classical Mythology   \n",
       "1       0002005018                                       Clara Callan   \n",
       "2       0060973129                               Decision in Normandy   \n",
       "3       0374157065  Flu: The Story of the Great Influenza Pandemic...   \n",
       "4       0393045218                             The Mummies of Urumchi   \n",
       "...            ...                                                ...   \n",
       "271374  0440400988                         There's a Bat in Bunk Five   \n",
       "271375  0525447644                            From One to One Hundred   \n",
       "271376  006008667X  Lily Dale : The True Story of the Town that Ta...   \n",
       "271377  0192126040                        Republic (World's Classics)   \n",
       "271378  0767409752  A Guided Tour of Rene Descartes' Meditations o...   \n",
       "\n",
       "                      Author  Year  \\\n",
       "0         Mark P. O. Morford  2002   \n",
       "1       Richard Bruce Wright  2001   \n",
       "2               Carlo D'Este  1991   \n",
       "3           Gina Bari Kolata  1999   \n",
       "4            E. J. W. Barber  1999   \n",
       "...                      ...   ...   \n",
       "271374        Paula Danziger  1988   \n",
       "271375            Teri Sloat  1991   \n",
       "271376      Christine Wicker  2004   \n",
       "271377                 Plato  1996   \n",
       "271378   Christopher  Biffle  2000   \n",
       "\n",
       "                                               Publisher  \n",
       "0                                Oxford University Press  \n",
       "1                                  HarperFlamingo Canada  \n",
       "2                                        HarperPerennial  \n",
       "3                                   Farrar Straus Giroux  \n",
       "4                                 W. W. Norton & Company  \n",
       "...                                                  ...  \n",
       "271374                   Random House Childrens Pub (Mm)  \n",
       "271375                                      Dutton Books  \n",
       "271376                                HarperSanFrancisco  \n",
       "271377                           Oxford University Press  \n",
       "271378  McGraw-Hill Humanities/Social Sciences/Languages  \n",
       "\n",
       "[271379 rows x 5 columns]"
      ]
     },
     "execution_count": 26,
     "metadata": {},
     "output_type": "execute_result"
    }
   ],
   "source": [
    "books"
   ]
  },
  {
   "cell_type": "code",
   "execution_count": 40,
   "id": "e8768eb2-a95b-4ff3-8eec-6cfdd12a2844",
   "metadata": {},
   "outputs": [
    {
     "data": {
      "text/html": [
       "<svg  width=\"1155\" height=\"55\"><rect x=\"0\" y=\"0\" width=\"55\" height=\"55\" style=\"fill:#ef5350;stroke-width:2;stroke:rgb(255,255,255)\"/><rect x=\"55\" y=\"0\" width=\"55\" height=\"55\" style=\"fill:#ec407a;stroke-width:2;stroke:rgb(255,255,255)\"/><rect x=\"110\" y=\"0\" width=\"55\" height=\"55\" style=\"fill:#ab47bc;stroke-width:2;stroke:rgb(255,255,255)\"/><rect x=\"165\" y=\"0\" width=\"55\" height=\"55\" style=\"fill:#7e57c2;stroke-width:2;stroke:rgb(255,255,255)\"/><rect x=\"220\" y=\"0\" width=\"55\" height=\"55\" style=\"fill:#5c6bc0;stroke-width:2;stroke:rgb(255,255,255)\"/><rect x=\"275\" y=\"0\" width=\"55\" height=\"55\" style=\"fill:#42a5f5;stroke-width:2;stroke:rgb(255,255,255)\"/><rect x=\"330\" y=\"0\" width=\"55\" height=\"55\" style=\"fill:#29b6f6;stroke-width:2;stroke:rgb(255,255,255)\"/><rect x=\"385\" y=\"0\" width=\"55\" height=\"55\" style=\"fill:#26c6da;stroke-width:2;stroke:rgb(255,255,255)\"/><rect x=\"440\" y=\"0\" width=\"55\" height=\"55\" style=\"fill:#26a69a;stroke-width:2;stroke:rgb(255,255,255)\"/><rect x=\"495\" y=\"0\" width=\"55\" height=\"55\" style=\"fill:#66bb6a;stroke-width:2;stroke:rgb(255,255,255)\"/><rect x=\"550\" y=\"0\" width=\"55\" height=\"55\" style=\"fill:#9ccc65;stroke-width:2;stroke:rgb(255,255,255)\"/><rect x=\"605\" y=\"0\" width=\"55\" height=\"55\" style=\"fill:#d4e157;stroke-width:2;stroke:rgb(255,255,255)\"/><rect x=\"660\" y=\"0\" width=\"55\" height=\"55\" style=\"fill:#ffee58;stroke-width:2;stroke:rgb(255,255,255)\"/><rect x=\"715\" y=\"0\" width=\"55\" height=\"55\" style=\"fill:#ffca28;stroke-width:2;stroke:rgb(255,255,255)\"/><rect x=\"770\" y=\"0\" width=\"55\" height=\"55\" style=\"fill:#ffa726;stroke-width:2;stroke:rgb(255,255,255)\"/><rect x=\"825\" y=\"0\" width=\"55\" height=\"55\" style=\"fill:#ff7043;stroke-width:2;stroke:rgb(255,255,255)\"/><rect x=\"880\" y=\"0\" width=\"55\" height=\"55\" style=\"fill:#8d6e63;stroke-width:2;stroke:rgb(255,255,255)\"/><rect x=\"935\" y=\"0\" width=\"55\" height=\"55\" style=\"fill:#bdbdbd;stroke-width:2;stroke:rgb(255,255,255)\"/><rect x=\"990\" y=\"0\" width=\"55\" height=\"55\" style=\"fill:#78909c;stroke-width:2;stroke:rgb(255,255,255)\"/><rect x=\"1045\" y=\"0\" width=\"55\" height=\"55\" style=\"fill:#000000;stroke-width:2;stroke:rgb(255,255,255)\"/><rect x=\"1100\" y=\"0\" width=\"55\" height=\"55\" style=\"fill:#ffffff;stroke-width:2;stroke:rgb(255,255,255)\"/></svg>"
      ],
      "text/plain": [
       "[(0.9372549019607843, 0.3254901960784314, 0.3137254901960784),\n",
       " (0.9254901960784314, 0.25098039215686274, 0.47843137254901963),\n",
       " (0.6705882352941176, 0.2784313725490196, 0.7372549019607844),\n",
       " (0.49411764705882355, 0.3411764705882353, 0.7607843137254902),\n",
       " (0.3607843137254902, 0.4196078431372549, 0.7529411764705882),\n",
       " (0.25882352941176473, 0.6470588235294118, 0.9607843137254902),\n",
       " (0.1607843137254902, 0.7137254901960784, 0.9647058823529412),\n",
       " (0.14901960784313725, 0.7764705882352941, 0.8549019607843137),\n",
       " (0.14901960784313725, 0.6509803921568628, 0.6039215686274509),\n",
       " (0.4, 0.7333333333333333, 0.41568627450980394),\n",
       " (0.611764705882353, 0.8, 0.396078431372549),\n",
       " (0.8313725490196079, 0.8823529411764706, 0.3411764705882353),\n",
       " (1.0, 0.9333333333333333, 0.34509803921568627),\n",
       " (1.0, 0.792156862745098, 0.1568627450980392),\n",
       " (1.0, 0.6549019607843137, 0.14901960784313725),\n",
       " (1.0, 0.4392156862745098, 0.2627450980392157),\n",
       " (0.5529411764705883, 0.43137254901960786, 0.38823529411764707),\n",
       " (0.7411764705882353, 0.7411764705882353, 0.7411764705882353),\n",
       " (0.47058823529411764, 0.5647058823529412, 0.611764705882353),\n",
       " (0.0, 0.0, 0.0),\n",
       " (1.0, 1.0, 1.0)]"
      ]
     },
     "execution_count": 40,
     "metadata": {},
     "output_type": "execute_result"
    }
   ],
   "source": [
    "from v_palette import get_colors, palette\n",
    "color_list = list(palette.COLORS[\"material\"].keys())\n",
    "paleta = [get_colors((color_name, 400)) for color_name in color_list]\n",
    "sns.color_palette(paleta)"
   ]
  },
  {
   "cell_type": "code",
   "execution_count": 81,
   "id": "06be4a75-fb2b-49db-9074-f5cbc60970dd",
   "metadata": {},
   "outputs": [
    {
     "data": {
      "text/plain": [
       "'#26A69A'"
      ]
     },
     "execution_count": 81,
     "metadata": {},
     "output_type": "execute_result"
    }
   ],
   "source": [
    "paleta[8]"
   ]
  },
  {
   "cell_type": "code",
   "execution_count": 76,
   "id": "2f7a0718-21c5-475e-9bc5-2b1efe671086",
   "metadata": {},
   "outputs": [],
   "source": [
    "import matplotlib\n",
    "matplotlib.rcParams['font.family'] = \"sans-serif\"\n",
    "matplotlib.rcParams['font.sans-serif'] = \"Montserrat\""
   ]
  },
  {
   "cell_type": "code",
   "execution_count": 77,
   "id": "e11a7892-9dbf-4d49-8304-9d2b6d5b1465",
   "metadata": {},
   "outputs": [],
   "source": [
    "# Set the custom palette\n",
    "# sns.set(style=\"whitegrid\")\n",
    "sns.set_palette(paleta)"
   ]
  },
  {
   "cell_type": "code",
   "execution_count": 78,
   "id": "01c29299-acce-485c-99f8-ea6c7451fedb",
   "metadata": {},
   "outputs": [
    {
     "data": {
      "text/plain": [
       "<AxesSubplot: xlabel='Rating', ylabel='count'>"
      ]
     },
     "execution_count": 78,
     "metadata": {},
     "output_type": "execute_result"
    },
    {
     "data": {
      "image/png": "[encoded data removed]",
      "text/plain": [
       "<Figure size 640x480 with 1 Axes>"
      ]
     },
     "metadata": {},
     "output_type": "display_data"
    }
   ],
   "source": [
    "sns.countplot(x=ratings['Rating']) "
   ]
  },
  {
   "cell_type": "code",
   "execution_count": 79,
   "id": "360aff1d-83f0-4599-85ae-6b072069691f",
   "metadata": {},
   "outputs": [
    {
     "name": "stdout",
     "output_type": "stream",
     "text": [
      "Users that rated:  105283\n",
      "Books rated:  340556\n"
     ]
    }
   ],
   "source": [
    "print(\"Users that rated: \", len(ratings['User-ID'].unique())) \n",
    "print(\"Books rated: \", len(ratings['ISBN'].unique())) "
   ]
  },
  {
   "cell_type": "markdown",
   "id": "b915382d-29e6-4bab-8b36-08559df50308",
   "metadata": {},
   "source": [
    "### Cardinality of books"
   ]
  },
  {
   "cell_type": "code",
   "execution_count": 82,
   "id": "f7f52cf1-7b7c-4dbe-8104-9411e467a67a",
   "metadata": {},
   "outputs": [
    {
     "name": "stderr",
     "output_type": "stream",
     "text": [
      "/var/folders/q8/0tr_xyt14xjgdbrbsqcbtpcc0000gn/T/ipykernel_13063/590472125.py:3: FutureWarning: The behavior of `series[i:j]` with an integer-dtype index is deprecated. In a future version, this will be treated as *label-based* indexing, consistent with e.g. `series[i]` lookups. To retain the old behavior, use `series.iloc[i:j]`. To get the future behavior, use `series.loc[i:j]`.\n",
      "  count_occurrences[:15].plot(kind='bar', color=paleta[8])\n"
     ]
    },
    {
     "data": {
      "text/plain": [
       "Text(0, 0.5, 'Count')"
      ]
     },
     "execution_count": 82,
     "metadata": {},
     "output_type": "execute_result"
    },
    {
     "data": {
      "image/png": "[encoded data removed]",
      "text/plain": [
       "<Figure size 640x480 with 1 Axes>"
      ]
     },
     "metadata": {},
     "output_type": "display_data"
    }
   ],
   "source": [
    "isbn_counts = ratings.groupby('ISBN').size()\n",
    "count_occurrences = isbn_counts.value_counts()\n",
    "count_occurrences[:15].plot(kind='bar', color=paleta[8])\n",
    "plt.xlabel(\"Number of occurrences of an ISBN number\")\n",
    "plt.ylabel(\"Count\")"
   ]
  },
  {
   "cell_type": "markdown",
   "id": "83b7ee68-cda0-49c0-9b70-fe82a3ff888f",
   "metadata": {},
   "source": [
    "### Cardinality of users"
   ]
  },
  {
   "cell_type": "code",
   "execution_count": 84,
   "id": "1cbe2dd2-8c18-43c9-a083-62fea5e56dea",
   "metadata": {},
   "outputs": [
    {
     "name": "stderr",
     "output_type": "stream",
     "text": [
      "/var/folders/q8/0tr_xyt14xjgdbrbsqcbtpcc0000gn/T/ipykernel_13063/3814411777.py:3: FutureWarning: The behavior of `series[i:j]` with an integer-dtype index is deprecated. In a future version, this will be treated as *label-based* indexing, consistent with e.g. `series[i]` lookups. To retain the old behavior, use `series.iloc[i:j]`. To get the future behavior, use `series.loc[i:j]`.\n",
      "  count_occurrences[:15].plot(kind='bar', color=paleta[8])\n"
     ]
    },
    {
     "data": {
      "text/plain": [
       "Text(0, 0.5, 'Count')"
      ]
     },
     "execution_count": 84,
     "metadata": {},
     "output_type": "execute_result"
    },
    {
     "data": {
      "image/png": "[encoded data removed]",
      "text/plain": [
       "<Figure size 640x480 with 1 Axes>"
      ]
     },
     "metadata": {},
     "output_type": "display_data"
    }
   ],
   "source": [
    "userid_counts = ratings.groupby('User-ID').size() \n",
    "count_occurrences = userid_counts.value_counts() \n",
    "count_occurrences[:15].plot(kind='bar', color=paleta[8])\n",
    "plt.xlabel(\"Number of occurrences of a User-ID\")\n",
    "plt.ylabel(\"Count\")"
   ]
  },
  {
   "cell_type": "markdown",
   "id": "f081abc7-daf8-4f70-b795-a01ae2a0898c",
   "metadata": {},
   "source": [
    "# Preprocessing the Book-Crossing dataset\n"
   ]
  },
  {
   "cell_type": "code",
   "execution_count": 287,
   "id": "e2adc9b1-e2ef-438d-ae31-bb014aea6f70",
   "metadata": {},
   "outputs": [],
   "source": [
    "import numpy as np\n",
    "from sklearn.model_selection import train_test_split\n",
    "\n",
    "import torch\n",
    "import torch.nn.functional as F\n",
    "from torch import nn, optim, Tensor\n",
    "\n",
    "from torch_geometric.utils import structured_negative_sampling\n",
    "from torch_geometric.nn.conv.gcn_conv import gcn_norm\n",
    "from torch_geometric.nn import LGConv"
   ]
  },
  {
   "cell_type": "code",
   "execution_count": 288,
   "id": "7094f1e5-11f1-43dd-8ec1-1ecbdc25f2e2",
   "metadata": {},
   "outputs": [],
   "source": [
    "# Identifiers\n",
    "books_ids = books['ISBN'].unique()\n",
    "user_ids = users['User-ID'].unique()\n",
    "\n",
    "# Ratings as df\n",
    "df = ratings.copy()\n",
    "\n",
    "# Mask only ratings of books and users that appear on the master tables of each one\n",
    "mask_books_ids = df['ISBN'].isin(books_ids)\n",
    "mask_users_ids = df['User-ID'].isin(user_ids)\n",
    "df = df.loc[mask_books_ids & mask_users_ids]\n",
    "\n",
    "# Keep the 100k highest ratings\n",
    "df = df[df['Rating'] >= 8].iloc[:100000]"
   ]
  },
  {
   "cell_type": "code",
   "execution_count": 289,
   "id": "3e7846eb-dd82-44d5-a6a1-81053913601c",
   "metadata": {},
   "outputs": [
    {
     "data": {
      "text/html": [
       "<div>\n",
       "<style scoped>\n",
       "    .dataframe tbody tr th:only-of-type {\n",
       "        vertical-align: middle;\n",
       "    }\n",
       "\n",
       "    .dataframe tbody tr th {\n",
       "        vertical-align: top;\n",
       "    }\n",
       "\n",
       "    .dataframe thead th {\n",
       "        text-align: right;\n",
       "    }\n",
       "</style>\n",
       "<table border=\"1\" class=\"dataframe\">\n",
       "  <thead>\n",
       "    <tr style=\"text-align: right;\">\n",
       "      <th></th>\n",
       "      <th>User-ID</th>\n",
       "      <th>ISBN</th>\n",
       "      <th>Rating</th>\n",
       "    </tr>\n",
       "  </thead>\n",
       "  <tbody>\n",
       "    <tr>\n",
       "      <th>9586</th>\n",
       "      <td>12</td>\n",
       "      <td>1879384493</td>\n",
       "      <td>10</td>\n",
       "    </tr>\n",
       "    <tr>\n",
       "      <th>9591</th>\n",
       "      <td>16</td>\n",
       "      <td>0345402871</td>\n",
       "      <td>9</td>\n",
       "    </tr>\n",
       "    <tr>\n",
       "      <th>9607</th>\n",
       "      <td>26</td>\n",
       "      <td>0446310786</td>\n",
       "      <td>10</td>\n",
       "    </tr>\n",
       "    <tr>\n",
       "      <th>9608</th>\n",
       "      <td>26</td>\n",
       "      <td>0449005615</td>\n",
       "      <td>9</td>\n",
       "    </tr>\n",
       "    <tr>\n",
       "      <th>9609</th>\n",
       "      <td>32</td>\n",
       "      <td>0060168013</td>\n",
       "      <td>8</td>\n",
       "    </tr>\n",
       "    <tr>\n",
       "      <th>...</th>\n",
       "      <td>...</td>\n",
       "      <td>...</td>\n",
       "      <td>...</td>\n",
       "    </tr>\n",
       "    <tr>\n",
       "      <th>480298</th>\n",
       "      <td>114601</td>\n",
       "      <td>0743419049</td>\n",
       "      <td>10</td>\n",
       "    </tr>\n",
       "    <tr>\n",
       "      <th>480303</th>\n",
       "      <td>114604</td>\n",
       "      <td>0618002219</td>\n",
       "      <td>9</td>\n",
       "    </tr>\n",
       "    <tr>\n",
       "      <th>480314</th>\n",
       "      <td>114611</td>\n",
       "      <td>0445409134</td>\n",
       "      <td>8</td>\n",
       "    </tr>\n",
       "    <tr>\n",
       "      <th>480315</th>\n",
       "      <td>114611</td>\n",
       "      <td>0446313033</td>\n",
       "      <td>8</td>\n",
       "    </tr>\n",
       "    <tr>\n",
       "      <th>480317</th>\n",
       "      <td>114611</td>\n",
       "      <td>0553276743</td>\n",
       "      <td>8</td>\n",
       "    </tr>\n",
       "  </tbody>\n",
       "</table>\n",
       "<p>100000 rows × 3 columns</p>\n",
       "</div>"
      ],
      "text/plain": [
       "        User-ID        ISBN  Rating\n",
       "9586         12  1879384493      10\n",
       "9591         16  0345402871       9\n",
       "9607         26  0446310786      10\n",
       "9608         26  0449005615       9\n",
       "9609         32  0060168013       8\n",
       "...         ...         ...     ...\n",
       "480298   114601  0743419049      10\n",
       "480303   114604  0618002219       9\n",
       "480314   114611  0445409134       8\n",
       "480315   114611  0446313033       8\n",
       "480317   114611  0553276743       8\n",
       "\n",
       "[100000 rows x 3 columns]"
      ]
     },
     "execution_count": 289,
     "metadata": {},
     "output_type": "execute_result"
    }
   ],
   "source": [
    "df"
   ]
  },
  {
   "cell_type": "markdown",
   "id": "246e6ca0-b05c-427c-a4a5-909cf0612d24",
   "metadata": {},
   "source": [
    "## Mappings of the sampled dataset"
   ]
  },
  {
   "cell_type": "code",
   "execution_count": 290,
   "id": "e83e5b94-c08c-4350-9515-2ad4bd4be0fd",
   "metadata": {},
   "outputs": [],
   "source": [
    "# Create mappings\n",
    "user_mapping = {userid: i for i, userid in enumerate(df['User-ID'].unique())}\n",
    "item_mapping = {isbn: i for i, isbn in enumerate(df['ISBN'].unique())}\n",
    "\n",
    "# Count users and items\n",
    "num_users = len(user_mapping)\n",
    "num_items = len(item_mapping)\n",
    "num_total = num_users + num_items"
   ]
  },
  {
   "cell_type": "code",
   "execution_count": 291,
   "id": "105f2378-0873-44a4-b889-5535cd0a5b76",
   "metadata": {},
   "outputs": [],
   "source": [
    "# Construct the IDS columns\n",
    "df_ids = df.copy()\n",
    "df_ids[\"u_id\"] = df_ids[\"User-ID\"].map(user_mapping)\n",
    "df_ids[\"b_id\"] = df_ids[\"ISBN\"].map(item_mapping)"
   ]
  },
  {
   "cell_type": "code",
   "execution_count": 292,
   "id": "98a6ca31-4ca4-4514-a11e-bfb82fa0ed31",
   "metadata": {},
   "outputs": [
    {
     "name": "stdout",
     "output_type": "stream",
     "text": [
      "Users 19557\n",
      "Items 56913\n",
      "Total Users and Items 76470\n"
     ]
    }
   ],
   "source": [
    "print(\"Users\", num_users)\n",
    "print(\"Items\", num_items)\n",
    "print(\"Total Users and Items\", num_total)"
   ]
  },
  {
   "cell_type": "code",
   "execution_count": 293,
   "id": "49efe845-a648-4f32-85a9-9f9dad0ab81c",
   "metadata": {},
   "outputs": [
    {
     "data": {
      "text/html": [
       "<div>\n",
       "<style scoped>\n",
       "    .dataframe tbody tr th:only-of-type {\n",
       "        vertical-align: middle;\n",
       "    }\n",
       "\n",
       "    .dataframe tbody tr th {\n",
       "        vertical-align: top;\n",
       "    }\n",
       "\n",
       "    .dataframe thead th {\n",
       "        text-align: right;\n",
       "    }\n",
       "</style>\n",
       "<table border=\"1\" class=\"dataframe\">\n",
       "  <thead>\n",
       "    <tr style=\"text-align: right;\">\n",
       "      <th></th>\n",
       "      <th>User-ID</th>\n",
       "      <th>ISBN</th>\n",
       "      <th>Rating</th>\n",
       "    </tr>\n",
       "  </thead>\n",
       "  <tbody>\n",
       "    <tr>\n",
       "      <th>9586</th>\n",
       "      <td>12</td>\n",
       "      <td>1879384493</td>\n",
       "      <td>10</td>\n",
       "    </tr>\n",
       "    <tr>\n",
       "      <th>9591</th>\n",
       "      <td>16</td>\n",
       "      <td>0345402871</td>\n",
       "      <td>9</td>\n",
       "    </tr>\n",
       "    <tr>\n",
       "      <th>9607</th>\n",
       "      <td>26</td>\n",
       "      <td>0446310786</td>\n",
       "      <td>10</td>\n",
       "    </tr>\n",
       "    <tr>\n",
       "      <th>9608</th>\n",
       "      <td>26</td>\n",
       "      <td>0449005615</td>\n",
       "      <td>9</td>\n",
       "    </tr>\n",
       "    <tr>\n",
       "      <th>9609</th>\n",
       "      <td>32</td>\n",
       "      <td>0060168013</td>\n",
       "      <td>8</td>\n",
       "    </tr>\n",
       "    <tr>\n",
       "      <th>...</th>\n",
       "      <td>...</td>\n",
       "      <td>...</td>\n",
       "      <td>...</td>\n",
       "    </tr>\n",
       "    <tr>\n",
       "      <th>480298</th>\n",
       "      <td>114601</td>\n",
       "      <td>0743419049</td>\n",
       "      <td>10</td>\n",
       "    </tr>\n",
       "    <tr>\n",
       "      <th>480303</th>\n",
       "      <td>114604</td>\n",
       "      <td>0618002219</td>\n",
       "      <td>9</td>\n",
       "    </tr>\n",
       "    <tr>\n",
       "      <th>480314</th>\n",
       "      <td>114611</td>\n",
       "      <td>0445409134</td>\n",
       "      <td>8</td>\n",
       "    </tr>\n",
       "    <tr>\n",
       "      <th>480315</th>\n",
       "      <td>114611</td>\n",
       "      <td>0446313033</td>\n",
       "      <td>8</td>\n",
       "    </tr>\n",
       "    <tr>\n",
       "      <th>480317</th>\n",
       "      <td>114611</td>\n",
       "      <td>0553276743</td>\n",
       "      <td>8</td>\n",
       "    </tr>\n",
       "  </tbody>\n",
       "</table>\n",
       "<p>100000 rows × 3 columns</p>\n",
       "</div>"
      ],
      "text/plain": [
       "        User-ID        ISBN  Rating\n",
       "9586         12  1879384493      10\n",
       "9591         16  0345402871       9\n",
       "9607         26  0446310786      10\n",
       "9608         26  0449005615       9\n",
       "9609         32  0060168013       8\n",
       "...         ...         ...     ...\n",
       "480298   114601  0743419049      10\n",
       "480303   114604  0618002219       9\n",
       "480314   114611  0445409134       8\n",
       "480315   114611  0446313033       8\n",
       "480317   114611  0553276743       8\n",
       "\n",
       "[100000 rows x 3 columns]"
      ]
     },
     "execution_count": 293,
     "metadata": {},
     "output_type": "execute_result"
    }
   ],
   "source": [
    "df"
   ]
  },
  {
   "cell_type": "markdown",
   "id": "b21f6023-4d91-4181-a22f-146f07d8e19d",
   "metadata": {},
   "source": [
    "## Adjacency Matrix"
   ]
  },
  {
   "cell_type": "code",
   "execution_count": 294,
   "id": "4545c7c6-766d-4fab-9b60-2a5a014ae37a",
   "metadata": {},
   "outputs": [],
   "source": [
    "# Build the adjacency matrix based on user ratings:\n",
    "\n",
    "# 1) Take the column of users and convert their ID into the internal ID\n",
    "user_ids = torch.LongTensor([user_mapping[i] for i in df['User-ID']])\n",
    "\n",
    "# 2) Take the column of items and convert their ID into the internal ID\n",
    "item_ids = torch.LongTensor([item_mapping[i] for i in df['ISBN']])\n",
    "\n",
    "# 3) Create the edge tensor as the relationship between 1) and 2) (they come from ratings matrix)\n",
    "edge_index = torch.stack((user_ids, item_ids))"
   ]
  },
  {
   "cell_type": "code",
   "execution_count": 295,
   "id": "35168121-8f43-4b5e-8150-52d9a3c29313",
   "metadata": {},
   "outputs": [
    {
     "data": {
      "text/plain": [
       "tensor([0, 1, 2, 2, 3, 4, 5, 6, 7, 7])"
      ]
     },
     "execution_count": 295,
     "metadata": {},
     "output_type": "execute_result"
    }
   ],
   "source": [
    "user_ids[:10]"
   ]
  },
  {
   "cell_type": "code",
   "execution_count": 296,
   "id": "75c63208-2812-47a6-b62c-916227d8a876",
   "metadata": {},
   "outputs": [
    {
     "data": {
      "text/plain": [
       "tensor([0, 1, 2, 3, 4, 5, 6, 7, 8, 9])"
      ]
     },
     "execution_count": 296,
     "metadata": {},
     "output_type": "execute_result"
    }
   ],
   "source": [
    "item_ids[:10]"
   ]
  },
  {
   "cell_type": "code",
   "execution_count": 297,
   "id": "bc7c3781-c329-49b5-9132-e30a14b1f922",
   "metadata": {},
   "outputs": [
    {
     "data": {
      "text/plain": [
       "torch.Size([2, 100000])"
      ]
     },
     "execution_count": 297,
     "metadata": {},
     "output_type": "execute_result"
    }
   ],
   "source": [
    "edge_index.shape"
   ]
  },
  {
   "cell_type": "code",
   "execution_count": 298,
   "id": "f1465572-de42-495a-aceb-5d3b2f64c336",
   "metadata": {},
   "outputs": [
    {
     "data": {
      "text/plain": [
       "tensor([[0, 1, 2, 2, 3, 4, 5, 6, 7, 7],\n",
       "        [0, 1, 2, 3, 4, 5, 6, 7, 8, 9]])"
      ]
     },
     "execution_count": 298,
     "metadata": {},
     "output_type": "execute_result"
    }
   ],
   "source": [
    "edge_index[:, :10]"
   ]
  },
  {
   "cell_type": "markdown",
   "id": "7bf6ae1d-7034-46ec-a454-6e54eafa073d",
   "metadata": {},
   "source": [
    "# Splitting dataset"
   ]
  },
  {
   "cell_type": "code",
   "execution_count": 299,
   "id": "839db8e3-a574-4eea-9a3f-17f4653f8da0",
   "metadata": {},
   "outputs": [],
   "source": [
    "# Create training, validation, and test adjacency matrices\n",
    "train_index, test_index = train_test_split(range(len(df)), test_size=0.2, random_state=0)\n",
    "val_index, test_index = train_test_split(test_index, test_size=0.5, random_state=0)"
   ]
  },
  {
   "cell_type": "code",
   "execution_count": 300,
   "id": "537d3777-cf1a-4768-b90c-378cd4fd84cb",
   "metadata": {},
   "outputs": [
    {
     "name": "stdout",
     "output_type": "stream",
     "text": [
      "Train: [0, 1, 2, 4, 5, 7, 8, 10, 11, 12, 13, 15, 16, 18, 19, 20, 21, 22, 24, 27]\n",
      "Test: [3, 14, 17, 23, 34, 48, 52, 56, 60, 63, 65, 68, 79, 109, 110, 117, 157, 165, 187, 196]\n",
      "Valid: [6, 9, 25, 26, 36, 41, 51, 54, 69, 72, 90, 105, 119, 121, 125, 128, 133, 151, 156, 166]\n"
     ]
    }
   ],
   "source": [
    "print(\"Train:\", sorted(train_index)[:20])\n",
    "print(\"Test:\", sorted(test_index)[:20])\n",
    "print(\"Valid:\", sorted(val_index)[:20])"
   ]
  },
  {
   "cell_type": "code",
   "execution_count": 301,
   "id": "e9064e78-bcd7-48bc-9d36-d5ec84eeed67",
   "metadata": {},
   "outputs": [],
   "source": [
    "# Slice train/test/valid\n",
    "train_edge_index = edge_index[:, train_index]\n",
    "val_edge_index = edge_index[:, val_index]\n",
    "test_edge_index = edge_index[:, test_index]"
   ]
  },
  {
   "cell_type": "markdown",
   "id": "a8c9eb61-f1fc-46b3-89d5-2b072d067bec",
   "metadata": {},
   "source": [
    "# Batching"
   ]
  },
  {
   "cell_type": "code",
   "execution_count": 302,
   "id": "e13024b6-6ad7-4f10-a3a2-db3613045700",
   "metadata": {},
   "outputs": [],
   "source": [
    "K = 20\n",
    "LAMBDA = 1e-6\n",
    "BATCH_SIZE = 8"
   ]
  },
  {
   "cell_type": "code",
   "execution_count": 303,
   "id": "8817bf72-0786-4484-bdde-62adb77f36f7",
   "metadata": {},
   "outputs": [],
   "source": [
    "def sample_mini_batch(edge_index):\n",
    "    # Generate BATCH_SIZE random indices\n",
    "    index = np.random.choice(range(edge_index.shape[1]), size=BATCH_SIZE)\n",
    "\n",
    "    # Generate negative sample indices\n",
    "    edge_index = structured_negative_sampling(edge_index)\n",
    "    edge_index = torch.stack(edge_index, dim=0)\n",
    "    \n",
    "    user_index = edge_index[0, index]\n",
    "    pos_item_index = edge_index[1, index]\n",
    "    neg_item_index = edge_index[2, index]\n",
    "    \n",
    "    return user_index, pos_item_index, neg_item_index"
   ]
  },
  {
   "cell_type": "code",
   "execution_count": 304,
   "id": "fbf7d22b-df45-4434-b57b-f7e76516005b",
   "metadata": {},
   "outputs": [
    {
     "data": {
      "text/plain": [
       "(tensor([ 8192, 17266, 12849,  7049, 15117,  6233,   274, 16807]),\n",
       " tensor([10786, 52407,   786, 24739, 43807, 22507,   840, 47160]),\n",
       " tensor([50033, 20868, 33326, 41934,  6796, 14862,  1039, 44300]))"
      ]
     },
     "execution_count": 304,
     "metadata": {},
     "output_type": "execute_result"
    }
   ],
   "source": [
    "sample_mini_batch(train_edge_index)"
   ]
  },
  {
   "cell_type": "code",
   "execution_count": 305,
   "id": "6eeb2cf3-cd69-41ca-9127-509e55aaca4e",
   "metadata": {},
   "outputs": [],
   "source": [
    "# Debug mini batch sampling\n",
    "# ---------------------------\n",
    "edge_index_local = train_edge_index.clone()\n",
    "\n",
    "# Select as many indices as batch size\n",
    "index = np.random.choice(range(edge_index_local.shape[1]), size=BATCH_SIZE)\n",
    "\n",
    "# Generate for each positive pair (node1, node2) the negative sampling (node1, node2, node3)\n",
    "# where node3 is not a neighbour of node1\n",
    "edge_index_local = structured_negative_sampling(edge_index_local)"
   ]
  },
  {
   "cell_type": "code",
   "execution_count": 306,
   "id": "1e2dae2b-a7a0-4e6f-a1ee-35a7bc5b6d08",
   "metadata": {},
   "outputs": [
    {
     "data": {
      "text/plain": [
       "array([74844, 27811, 43045,  5835, 25954, 15853, 19800, 10560])"
      ]
     },
     "execution_count": 306,
     "metadata": {},
     "output_type": "execute_result"
    }
   ],
   "source": [
    "index"
   ]
  },
  {
   "cell_type": "code",
   "execution_count": 307,
   "id": "8c5a58a5-0c10-48cf-aa0a-5bd0f8ea176a",
   "metadata": {},
   "outputs": [
    {
     "data": {
      "text/plain": [
       "(tensor([ 1896, 15117,  6122,  ...,  8788,  8908, 14059]),\n",
       " tensor([ 8612, 43711,  6835,  ..., 27940, 28748, 41439]),\n",
       " tensor([ 3740, 39148, 43340,  ...,   392, 30488, 32748]))"
      ]
     },
     "execution_count": 307,
     "metadata": {},
     "output_type": "execute_result"
    }
   ],
   "source": [
    "edge_index_local"
   ]
  },
  {
   "cell_type": "code",
   "execution_count": 308,
   "id": "a83722cb-5af7-4af5-8b89-10d27b42414b",
   "metadata": {},
   "outputs": [
    {
     "data": {
      "text/html": [
       "<div>\n",
       "<style scoped>\n",
       "    .dataframe tbody tr th:only-of-type {\n",
       "        vertical-align: middle;\n",
       "    }\n",
       "\n",
       "    .dataframe tbody tr th {\n",
       "        vertical-align: top;\n",
       "    }\n",
       "\n",
       "    .dataframe thead th {\n",
       "        text-align: right;\n",
       "    }\n",
       "</style>\n",
       "<table border=\"1\" class=\"dataframe\">\n",
       "  <thead>\n",
       "    <tr style=\"text-align: right;\">\n",
       "      <th></th>\n",
       "      <th>User-ID</th>\n",
       "      <th>ISBN</th>\n",
       "      <th>Rating</th>\n",
       "      <th>u_id</th>\n",
       "      <th>b_id</th>\n",
       "    </tr>\n",
       "  </thead>\n",
       "  <tbody>\n",
       "    <tr>\n",
       "      <th>45340</th>\n",
       "      <td>11676</td>\n",
       "      <td>0002005018</td>\n",
       "      <td>8</td>\n",
       "      <td>1896</td>\n",
       "      <td>6665</td>\n",
       "    </tr>\n",
       "    <tr>\n",
       "      <th>45341</th>\n",
       "      <td>11676</td>\n",
       "      <td>0002118580</td>\n",
       "      <td>9</td>\n",
       "      <td>1896</td>\n",
       "      <td>6666</td>\n",
       "    </tr>\n",
       "    <tr>\n",
       "      <th>45350</th>\n",
       "      <td>11676</td>\n",
       "      <td>0002251485</td>\n",
       "      <td>8</td>\n",
       "      <td>1896</td>\n",
       "      <td>6667</td>\n",
       "    </tr>\n",
       "    <tr>\n",
       "      <th>45351</th>\n",
       "      <td>11676</td>\n",
       "      <td>0002255014</td>\n",
       "      <td>8</td>\n",
       "      <td>1896</td>\n",
       "      <td>6668</td>\n",
       "    </tr>\n",
       "    <tr>\n",
       "      <th>45352</th>\n",
       "      <td>11676</td>\n",
       "      <td>0002258560</td>\n",
       "      <td>8</td>\n",
       "      <td>1896</td>\n",
       "      <td>6669</td>\n",
       "    </tr>\n",
       "    <tr>\n",
       "      <th>...</th>\n",
       "      <td>...</td>\n",
       "      <td>...</td>\n",
       "      <td>...</td>\n",
       "      <td>...</td>\n",
       "      <td>...</td>\n",
       "    </tr>\n",
       "    <tr>\n",
       "      <th>58744</th>\n",
       "      <td>11676</td>\n",
       "      <td>9501501450</td>\n",
       "      <td>8</td>\n",
       "      <td>1896</td>\n",
       "      <td>9824</td>\n",
       "    </tr>\n",
       "    <tr>\n",
       "      <th>58751</th>\n",
       "      <td>11676</td>\n",
       "      <td>9509282286</td>\n",
       "      <td>8</td>\n",
       "      <td>1896</td>\n",
       "      <td>9825</td>\n",
       "    </tr>\n",
       "    <tr>\n",
       "      <th>58814</th>\n",
       "      <td>11676</td>\n",
       "      <td>9681902556</td>\n",
       "      <td>9</td>\n",
       "      <td>1896</td>\n",
       "      <td>9826</td>\n",
       "    </tr>\n",
       "    <tr>\n",
       "      <th>58866</th>\n",
       "      <td>11676</td>\n",
       "      <td>9729484309</td>\n",
       "      <td>8</td>\n",
       "      <td>1896</td>\n",
       "      <td>9827</td>\n",
       "    </tr>\n",
       "    <tr>\n",
       "      <th>58907</th>\n",
       "      <td>11676</td>\n",
       "      <td>B0000DYXID</td>\n",
       "      <td>10</td>\n",
       "      <td>1896</td>\n",
       "      <td>9828</td>\n",
       "    </tr>\n",
       "  </tbody>\n",
       "</table>\n",
       "<p>3750 rows × 5 columns</p>\n",
       "</div>"
      ],
      "text/plain": [
       "       User-ID        ISBN  Rating  u_id  b_id\n",
       "45340    11676  0002005018       8  1896  6665\n",
       "45341    11676  0002118580       9  1896  6666\n",
       "45350    11676  0002251485       8  1896  6667\n",
       "45351    11676  0002255014       8  1896  6668\n",
       "45352    11676  0002258560       8  1896  6669\n",
       "...        ...         ...     ...   ...   ...\n",
       "58744    11676  9501501450       8  1896  9824\n",
       "58751    11676  9509282286       8  1896  9825\n",
       "58814    11676  9681902556       9  1896  9826\n",
       "58866    11676  9729484309       8  1896  9827\n",
       "58907    11676  B0000DYXID      10  1896  9828\n",
       "\n",
       "[3750 rows x 5 columns]"
      ]
     },
     "execution_count": 308,
     "metadata": {},
     "output_type": "execute_result"
    }
   ],
   "source": [
    "books_u1896 = df_ids[df_ids[\"u_id\"] == 1896]\n",
    "books_u1896"
   ]
  },
  {
   "cell_type": "code",
   "execution_count": 309,
   "id": "62a70eff-954c-4443-9f73-bb128769d1ad",
   "metadata": {},
   "outputs": [
    {
     "data": {
      "text/plain": [
       "False"
      ]
     },
     "execution_count": 309,
     "metadata": {},
     "output_type": "execute_result"
    }
   ],
   "source": [
    "56292 in books_u1896[\"b_id\"].unique()"
   ]
  },
  {
   "cell_type": "markdown",
   "id": "fece7771-3676-43d0-8574-52a86ad38555",
   "metadata": {},
   "source": [
    "# Light GCN"
   ]
  },
  {
   "cell_type": "code",
   "execution_count": 310,
   "id": "70e2ef76-c1eb-45a0-afb3-c8a84db8d63d",
   "metadata": {},
   "outputs": [],
   "source": [
    "class LightGCN(nn.Module):\n",
    "    def __init__(self, num_users, num_items, num_layers=4, dim_h=64):\n",
    "        super().__init__()\n",
    "        \n",
    "        self.num_users = num_users\n",
    "        self.num_items = num_items\n",
    "        self.num_layers = num_layers\n",
    "        self.emb_users = nn.Embedding(num_embeddings=self.num_users, embedding_dim=dim_h)\n",
    "        self.emb_items = nn.Embedding(num_embeddings=self.num_items, embedding_dim=dim_h)\n",
    "\n",
    "        self.convs = nn.ModuleList(LGConv() for _ in range(num_layers))\n",
    "\n",
    "        nn.init.normal_(self.emb_users.weight, std=0.01)\n",
    "        nn.init.normal_(self.emb_items.weight, std=0.01)\n",
    "\n",
    "    def forward(self, edge_index):\n",
    "        emb = torch.cat([self.emb_users.weight, self.emb_items.weight])\n",
    "        embs = [emb]\n",
    "\n",
    "        for conv in self.convs:\n",
    "            emb = conv(x=emb, edge_index=edge_index)\n",
    "            embs.append(emb)\n",
    "\n",
    "        emb_final = 1/(self.num_layers+1) * torch.mean(torch.stack(embs, dim=1), dim=1)\n",
    "\n",
    "        emb_users_final, emb_items_final = torch.split(emb_final, [self.num_users, self.num_items])\n",
    "\n",
    "        return emb_users_final, self.emb_users.weight, emb_items_final, self.emb_items.weight"
   ]
  },
  {
   "cell_type": "code",
   "execution_count": 311,
   "id": "5175b914-940e-4698-aa1f-cae105878902",
   "metadata": {},
   "outputs": [],
   "source": [
    "lgcn = LightGCN(num_users=num_users, num_items=num_items, num_layers=4, dim_h=5)"
   ]
  },
  {
   "cell_type": "code",
   "execution_count": 312,
   "id": "43f4ce1c-73d1-4901-83a2-4050a30ac6a1",
   "metadata": {},
   "outputs": [
    {
     "data": {
      "text/plain": [
       "torch.Size([56913, 5])"
      ]
     },
     "execution_count": 312,
     "metadata": {},
     "output_type": "execute_result"
    }
   ],
   "source": [
    "lgcn.emb_items.weight.shape"
   ]
  },
  {
   "cell_type": "markdown",
   "id": "afa78d5a-ef32-462f-87dc-53b3393ee960",
   "metadata": {},
   "source": [
    "### Forward"
   ]
  },
  {
   "cell_type": "code",
   "execution_count": 313,
   "id": "3687c9bc-a2ae-4e30-bc82-93eca6111043",
   "metadata": {},
   "outputs": [
    {
     "data": {
      "text/plain": [
       "torch.Size([76470, 5])"
      ]
     },
     "execution_count": 313,
     "metadata": {},
     "output_type": "execute_result"
    }
   ],
   "source": [
    "# we will take a sample of edge_index to test a bit\n",
    "edge_index_test = edge_index[:, :20]\n",
    "# tensor([[0, 1, 2, 2, 3, 4, 5, 6, 7, 7],\n",
    "#        [0, 1, 2, 3, 4, 5, 6, 7, 8, 9]])\n",
    "# torch.Size([2, 20]) # 20 edges for 2 entities (user, item) in that order\n",
    "\n",
    "# THe concatenation of the two embeddings\n",
    "emb = torch.cat([lgcn.emb_users.weight, lgcn.emb_items.weight])\n",
    "emb.shape # torch.Size([76470, 64]) where 76470 is num_users + num_items"
   ]
  },
  {
   "cell_type": "code",
   "execution_count": 314,
   "id": "abc3fbac-191b-4fca-a34f-17656ae76211",
   "metadata": {},
   "outputs": [],
   "source": [
    "embs = [emb]\n",
    "\n",
    "for conv in lgcn.convs:\n",
    "    emb = conv(x=emb, edge_index=edge_index)\n",
    "    embs.append(emb)"
   ]
  },
  {
   "cell_type": "code",
   "execution_count": 317,
   "id": "28122e1c-0aaf-42be-a62f-75ed519820f5",
   "metadata": {},
   "outputs": [
    {
     "data": {
      "text/plain": [
       "torch.Size([76470, 5, 5])"
      ]
     },
     "execution_count": 317,
     "metadata": {},
     "output_type": "execute_result"
    }
   ],
   "source": [
    "torch.stack(embs, dim=1).shape"
   ]
  },
  {
   "cell_type": "code",
   "execution_count": 318,
   "id": "13d499a0-93d1-424c-a15a-04c78a039fe0",
   "metadata": {},
   "outputs": [],
   "source": [
    "emb_final = 1/(lgcn.num_layers+1) * torch.mean(torch.stack(embs, dim=1), dim=1)"
   ]
  },
  {
   "cell_type": "code",
   "execution_count": 319,
   "id": "684932de-4296-4b63-9713-89e07017283f",
   "metadata": {},
   "outputs": [
    {
     "data": {
      "text/plain": [
       "torch.Size([76470, 5])"
      ]
     },
     "execution_count": 319,
     "metadata": {},
     "output_type": "execute_result"
    }
   ],
   "source": [
    "emb_final.shape"
   ]
  },
  {
   "cell_type": "code",
   "execution_count": 320,
   "id": "08bd90a1-2d6b-45a2-b5ce-4317f48cf0af",
   "metadata": {},
   "outputs": [
    {
     "data": {
      "text/plain": [
       "tensor([[ 1.8395e-03, -1.1270e-03, -6.1770e-04, -4.0342e-03, -2.9138e-03],\n",
       "        [-3.9013e-04,  7.1072e-05, -5.9495e-04, -1.5545e-04,  3.3233e-04],\n",
       "        [-5.4642e-04,  7.0567e-04,  8.5034e-04,  4.1714e-04,  4.9019e-04],\n",
       "        ...,\n",
       "        [-7.3860e-04, -6.6848e-04,  3.4848e-04,  4.3986e-04,  5.6592e-04],\n",
       "        [-3.6482e-04, -1.8258e-04, -2.4714e-05,  4.1651e-05, -2.8963e-04],\n",
       "        [-2.6080e-04, -5.9927e-04,  1.7305e-04,  1.0100e-04, -1.2086e-04]],\n",
       "       grad_fn=<MulBackward0>)"
      ]
     },
     "execution_count": 320,
     "metadata": {},
     "output_type": "execute_result"
    }
   ],
   "source": [
    "emb_final"
   ]
  },
  {
   "cell_type": "markdown",
   "id": "6f8620eb-ca04-4388-9626-2933529207f2",
   "metadata": {},
   "source": [
    "### Toy example\n",
    "\n",
    "YouTube: https://www.youtube.com/watch?v=LPfCmwEOsds&list=PLcLdsfpLufYCJ_eg7VWuI7ROQT7SxUDGj&ab_channel=MachineLearningAlchemy"
   ]
  },
  {
   "cell_type": "code",
   "execution_count": 447,
   "id": "0fb1e210-094b-47d2-a20e-682e5b0388cd",
   "metadata": {},
   "outputs": [],
   "source": [
    "from torch_geometric.nn.conv import MessagePassing\n",
    "from torch_geometric.nn.conv.gcn_conv import gcn_norm\n",
    "from torch_sparse import SparseTensor"
   ]
  },
  {
   "cell_type": "code",
   "execution_count": 456,
   "id": "0f427624-f3c8-4dd1-a458-bdde7acf06f0",
   "metadata": {},
   "outputs": [],
   "source": [
    "# defines LightGCN model\n",
    "class LightGCN(MessagePassing):\n",
    "    \"\"\"LightGCN Model as proposed in https://arxiv.org/abs/2002.02126\n",
    "    \"\"\"\n",
    "\n",
    "    def __init__(self, num_users, num_items, embedding_dim=3, K=3, add_self_loops=False, dropout_rate=0.1):\n",
    "        \"\"\"Initializes LightGCN Model\n",
    "\n",
    "        Args:\n",
    "            num_users (int): Number of users\n",
    "            num_items (int): Number of items\n",
    "            embedding_dim (int, optional): Dimensionality of embeddings. Defaults to 8.\n",
    "            K (int, optional): Number of message passing layers. Defaults to 3.\n",
    "            add_self_loops (bool, optional): Whether to add self loops for message passing. Defaults to False.\n",
    "        \"\"\"\n",
    "        super().__init__()\n",
    "        self.dropout_rate = dropout_rate\n",
    "        self.num_users = num_users\n",
    "        self.num_items = num_items\n",
    "        self.embedding_dim = embedding_dim\n",
    "        self.K = K\n",
    "        self.add_self_loops = add_self_loops\n",
    "\n",
    "\n",
    "        # define user and item embedding for direct look up. \n",
    "        # embedding dimension: num_user/num_item x embedding_dim\n",
    "        self.users_emb = nn.Embedding(num_embeddings=self.num_users, embedding_dim=self.embedding_dim) # e_u^0\n",
    "        \n",
    "        self.items_emb = nn.Embedding(num_embeddings=self.num_items, embedding_dim=self.embedding_dim) # e_i^0\n",
    "\n",
    "        \n",
    "        # \"Fills the input Tensor with values drawn from the normal distribution\"\n",
    "        # according to LightGCN paper, this gives better performance\n",
    "        nn.init.normal_(self.users_emb.weight, std=0.1)\n",
    "        nn.init.normal_(self.items_emb.weight, std=0.1)\n",
    "        \n",
    "        # create a linear layer (fully connected layer) so we can output a single value (predicted_rating)\n",
    "        self.out = nn.Linear(embedding_dim + embedding_dim, 1)\n",
    "       \n",
    "    def convert_adj_mat_edge_index_to_r_mat_edge_index(self, input_edge_index, input_edge_values):\n",
    "        num_users = self.num_users\n",
    "        num_movies = self.num_items\n",
    "        sparse_input_edge_index = SparseTensor(row=input_edge_index[0], \n",
    "                                               col=input_edge_index[1], \n",
    "                                               value = input_edge_values,\n",
    "                                               sparse_sizes=((num_users + num_movies), num_users + num_movies))\n",
    "\n",
    "        adj_mat = sparse_input_edge_index.to_dense()\n",
    "        interact_mat = adj_mat[: num_users, num_users :]\n",
    "\n",
    "        r_mat_edge_index = interact_mat.to_sparse_coo().indices()\n",
    "        r_mat_edge_values = interact_mat.to_sparse_coo().values()\n",
    "\n",
    "        return r_mat_edge_index, r_mat_edge_values\n",
    "\n",
    "    def forward(self, edge_index: Tensor, edge_values: Tensor):\n",
    "        \"\"\"Forward propagation of LightGCN Model.\n",
    "\n",
    "        Args:\n",
    "            edge_index (SparseTensor): adjacency matrix\n",
    "\n",
    "        Returns:\n",
    "            tuple (Tensor): e_u_k, e_u_0, e_i_k, e_i_0\n",
    "        \"\"\"\n",
    "        \n",
    "        \"\"\"\n",
    "            compute \\tilde{A}: symmetrically normalized adjacency matrix\n",
    "            \\tilde_A = D^(-1/2) * A * D^(-1/2)    according to LightGCN paper\n",
    "        \n",
    "            this is essentially a metrix operation way to get 1/ (sqrt(n_neighbors_i) * sqrt(n_neighbors_j))\n",
    "\n",
    "        \n",
    "            if your original edge_index look like\n",
    "            tensor([[   0,    0,    0,  ...,  609,  609,  609],\n",
    "                    [   0,    2,    5,  ..., 9444, 9445, 9485]])\n",
    "                    \n",
    "                    torch.Size([2, 99466])\n",
    "                    \n",
    "            then this will output: \n",
    "                (\n",
    "                 tensor([[   0,    0,    0,  ...,  609,  609,  609],\n",
    "                         [   0,    2,    5,  ..., 9444, 9445, 9485]]), \n",
    "                 tensor([0.0047, 0.0096, 0.0068,  ..., 0.0592, 0.0459, 0.1325])\n",
    "                 )\n",
    "                 \n",
    "              where edge_index_norm[0] is just the original edge_index\n",
    "              \n",
    "              and edge_index_norm[1] is the symmetrically normalization term. \n",
    "              \n",
    "            under the hood it's basically doing\n",
    "                def compute_gcn_norm(edge_index, emb):\n",
    "                    emb = emb.weight\n",
    "                    from_, to_ = edge_index\n",
    "                    deg = degree(to_, emb.size(0), dtype=emb.dtype)\n",
    "                    deg_inv_sqrt = deg.pow(-0.5)\n",
    "                    deg_inv_sqrt[deg_inv_sqrt == float('inf')] = 0\n",
    "                    norm = deg_inv_sqrt[from_] * deg_inv_sqrt[to_]\n",
    "\n",
    "                    return norm\n",
    "                 \n",
    "                \n",
    "        \"\"\"\n",
    "        edge_index_norm = gcn_norm(edge_index=edge_index, \n",
    "                                   add_self_loops=self.add_self_loops)\n",
    "\n",
    "        # concat the user_emb and item_emb as the layer0 embing matrix\n",
    "        # size will be (n_users + n_items) x emb_vector_len.   e.g: 10334 x 64\n",
    "        emb_0 = torch.cat([self.users_emb.weight, self.items_emb.weight]) # E^0\n",
    "\n",
    "        embs = [emb_0] # save the layer0 emb to the embs list\n",
    "        \n",
    "        # emb_k is the emb that we are actually going to push it through the graph layers\n",
    "        # as described in lightGCN paper formula 7\n",
    "        emb_k = emb_0 \n",
    "\n",
    "        # push the embedding of all users and items through the Graph Model K times.\n",
    "        # K here is the number of layers\n",
    "        for i in range(self.K):\n",
    "            emb_k = self.propagate(edge_index=edge_index_norm[0], x=emb_k, norm=edge_index_norm[1])\n",
    "            embs.append(emb_k)\n",
    "            \n",
    "            \n",
    "        # this is doing the formula8 in LightGCN paper  \n",
    "            \n",
    "        # the stacked embs is a list of embedding matrix at each layer\n",
    "        #    it's of shape n_nodes x (n_layers + 1) x emb_vector_len. \n",
    "        #        e.g: torch.Size([10334, 4, 64])\n",
    "        embs = torch.stack(embs, dim=1)\n",
    "        \n",
    "        # From LightGCn paper: \"In our experiments, we find that setting α_k uniformly as 1/(K + 1)\n",
    "        #    leads to good performance in general.\"\n",
    "        emb_final = torch.mean(embs, dim=1) # E^K\n",
    "        \n",
    "        users_emb_final, items_emb_final = torch.split(emb_final, \n",
    "                                                       [self.num_users, self.num_items]) # splits into e_u^K and e_i^K\n",
    "\n",
    "\n",
    "        r_mat_edge_index, _ = self.convert_adj_mat_edge_index_to_r_mat_edge_index(edge_index, edge_values)\n",
    "        \n",
    "        src, dest =  r_mat_edge_index[0], r_mat_edge_index[1]\n",
    "        \n",
    "        # applying embedding lookup to get embeddings for src nodes and dest nodes in the edge list\n",
    "        user_embeds = users_emb_final[src]\n",
    "        item_embeds = items_emb_final[dest]\n",
    "        \n",
    "        # output dim: edge_index_len x 128 (given 64 is the original emb_vector_len)\n",
    "        output = torch.cat([user_embeds, item_embeds], dim=1)\n",
    "        \n",
    "        # push it through the linear layer\n",
    "        output = self.out(output)\n",
    "        \n",
    "        return output\n",
    "    \n",
    "    def message(self, x_j, norm):\n",
    "        return norm.view(-1, 1) * x_j\n",
    "\n",
    "# Example usage\n",
    "nu = 5\n",
    "ni = 3\n",
    "embdi = 3\n",
    "layers = 1 \n",
    "model = LightGCN(num_users=nu, \n",
    "                 num_items=ni, \n",
    "                 K=layers)"
   ]
  },
  {
   "cell_type": "code",
   "execution_count": 457,
   "id": "ba046a2e-8814-4af2-ac48-7df8be81bfbc",
   "metadata": {},
   "outputs": [
    {
     "data": {
      "text/plain": [
       "torch.Size([5, 3])"
      ]
     },
     "execution_count": 457,
     "metadata": {},
     "output_type": "execute_result"
    }
   ],
   "source": [
    "model.users_emb.weight.shape"
   ]
  },
  {
   "cell_type": "code",
   "execution_count": 458,
   "id": "37206c38-7dff-4ca7-afbf-139f5bcbb1d7",
   "metadata": {},
   "outputs": [
    {
     "data": {
      "text/plain": [
       "torch.Size([3, 3])"
      ]
     },
     "execution_count": 458,
     "metadata": {},
     "output_type": "execute_result"
    }
   ],
   "source": [
    "model.items_emb.weight.shape"
   ]
  },
  {
   "cell_type": "code",
   "execution_count": 504,
   "id": "149f5479-f94e-4eea-ae82-3737d78c8de1",
   "metadata": {},
   "outputs": [],
   "source": [
    "# Assuming edge_index contains user-item interactions\n",
    "#edge_index = torch.tensor([[0, 0, 0, 1, 1, 2, 2, 3, 3, 4, 4],\n",
    "#                           [0, 1, 2, 0, 2, 1, 2, 1, 2, 0, 2]])\n",
    "edge_index = torch.tensor([[0, 0, 0, 1, 1, 2, 2, 3, 3, 4, 4],\n",
    "                           [1, 1, 2, 0, 2, 1, 2, 1, 2, 0, 2]])\n",
    "edge_index = torch.LongTensor(edge_index) \n",
    "edge_values = torch.tensor([1, 1, 1, 1, 1, 1, 1, 1, 1, 1, 1])\n",
    "\n",
    "# Forward\n",
    "output = model.forward(edge_index, edge_values)"
   ]
  },
  {
   "cell_type": "markdown",
   "id": "ba664ff6-8afa-4a51-a922-c43db46173d4",
   "metadata": {},
   "source": [
    "#### Forward"
   ]
  },
  {
   "cell_type": "code",
   "execution_count": 505,
   "id": "fcd0812a-d4b0-42b5-8fce-923dcf959d15",
   "metadata": {},
   "outputs": [],
   "source": [
    "edge_index_norm = gcn_norm(edge_index=edge_index, add_self_loops=False)"
   ]
  },
  {
   "cell_type": "code",
   "execution_count": 506,
   "id": "68002dae-d174-4392-8583-82973a6b686e",
   "metadata": {},
   "outputs": [
    {
     "data": {
      "text/plain": [
       "(tensor([[0, 0, 0, 1, 1, 2, 2, 3, 3, 4, 4],\n",
       "         [5, 6, 7, 5, 7, 6, 7, 6, 7, 5, 7]]),\n",
       " tensor([0., 0., 0., 0., 0., 0., 0., 0., 0., 0., 0.]))"
      ]
     },
     "execution_count": 506,
     "metadata": {},
     "output_type": "execute_result"
    }
   ],
   "source": [
    "edge_index_norm"
   ]
  },
  {
   "cell_type": "markdown",
   "id": "764905cb-0473-4068-9c19-f421e9576b6f",
   "metadata": {},
   "source": [
    "#### gcn_norm"
   ]
  },
  {
   "cell_type": "code",
   "execution_count": 507,
   "id": "74fc30ec-550b-456a-a25d-1a5db06560e1",
   "metadata": {},
   "outputs": [],
   "source": [
    "edge_weight=None\n",
    "num_nodes=None\n",
    "improved=False\n",
    "add_self_loops=True \n",
    "flow=\"source_to_target\"\n",
    "dtype=None"
   ]
  },
  {
   "cell_type": "code",
   "execution_count": 508,
   "id": "31c86c1e-26a6-420d-8e73-00a8860bd2e4",
   "metadata": {},
   "outputs": [],
   "source": [
    "from torch_geometric.utils.num_nodes import maybe_num_nodes\n",
    "from torch_scatter import scatter_add"
   ]
  },
  {
   "cell_type": "code",
   "execution_count": 509,
   "id": "76d5a194-a888-4216-80ca-d539ac703b2e",
   "metadata": {},
   "outputs": [],
   "source": [
    "num_nodes = maybe_num_nodes(edge_index, num_nodes)"
   ]
  },
  {
   "cell_type": "code",
   "execution_count": 510,
   "id": "c1f5cc47-25eb-4863-ba01-a2f5ec50abcc",
   "metadata": {},
   "outputs": [
    {
     "data": {
      "text/plain": [
       "True"
      ]
     },
     "execution_count": 510,
     "metadata": {},
     "output_type": "execute_result"
    }
   ],
   "source": [
    "isinstance(edge_index, Tensor)"
   ]
  },
  {
   "cell_type": "code",
   "execution_count": 511,
   "id": "3b365c67-55d8-4628-88c8-3a9bd92be1ff",
   "metadata": {},
   "outputs": [
    {
     "data": {
      "text/plain": [
       "8"
      ]
     },
     "execution_count": 511,
     "metadata": {},
     "output_type": "execute_result"
    }
   ],
   "source": [
    "int(edge_index.max()) + 1 if edge_index.numel() > 0 else 0"
   ]
  },
  {
   "cell_type": "code",
   "execution_count": 512,
   "id": "05506fb7-09a4-4f90-bfdb-f4f322c4152e",
   "metadata": {},
   "outputs": [
    {
     "data": {
      "text/plain": [
       "8"
      ]
     },
     "execution_count": 512,
     "metadata": {},
     "output_type": "execute_result"
    }
   ],
   "source": [
    "num_nodes"
   ]
  },
  {
   "cell_type": "code",
   "execution_count": 513,
   "id": "6830b981-cdc2-4ab8-afd3-24204591c696",
   "metadata": {},
   "outputs": [],
   "source": [
    "edge_weight = torch.ones((edge_index.size(1), ), dtype=dtype, device=edge_index.device)"
   ]
  },
  {
   "cell_type": "code",
   "execution_count": 514,
   "id": "e6b79e6e-fec5-4022-b0c3-f07597791bac",
   "metadata": {},
   "outputs": [
    {
     "data": {
      "text/plain": [
       "tensor([1., 1., 1., 1., 1., 1., 1., 1., 1., 1., 1.])"
      ]
     },
     "execution_count": 514,
     "metadata": {},
     "output_type": "execute_result"
    }
   ],
   "source": [
    "edge_weight"
   ]
  },
  {
   "cell_type": "code",
   "execution_count": 515,
   "id": "4c642590-4070-49fe-b21d-23c362281764",
   "metadata": {},
   "outputs": [],
   "source": [
    "row, col = edge_index[0], edge_index[1]"
   ]
  },
  {
   "cell_type": "code",
   "execution_count": 516,
   "id": "6c9a0033-b62c-4e05-b40d-4c5f60e47026",
   "metadata": {},
   "outputs": [
    {
     "name": "stdout",
     "output_type": "stream",
     "text": [
      "tensor([0, 0, 0, 1, 1, 2, 2, 3, 3, 4, 4])\n",
      "tensor([5, 6, 7, 5, 7, 6, 7, 6, 7, 5, 7])\n"
     ]
    }
   ],
   "source": [
    "print(row)\n",
    "print(col)"
   ]
  },
  {
   "cell_type": "code",
   "execution_count": 491,
   "id": "9d51d980-b393-4ec8-810d-44f4691aa1a2",
   "metadata": {},
   "outputs": [
    {
     "data": {
      "text/plain": [
       "tensor([5, 6, 7, 5, 7, 6, 7, 6, 7, 5, 7])"
      ]
     },
     "execution_count": 517,
     "metadata": {},
     "output_type": "execute_result"
    }
   ],
   "source": [
    "idx = col if flow == \"source_to_target\" else row\n",
    "idx"
   ]
  },
  {
   "cell_type": "code",
   "execution_count": 493,
   "id": "feb7b8be-5648-4396-be7c-d12afed71cec",
   "metadata": {},
   "outputs": [],
   "source": [
    "deg = scatter_add(edge_weight, idx, dim=0, dim_size=num_nodes)"
   ]
  },
  {
   "cell_type": "code",
   "execution_count": 494,
   "id": "34711884-2c29-41b6-8827-aae752a367a7",
   "metadata": {},
   "outputs": [
    {
     "data": {
      "text/plain": [
       "tensor([0., 0., 0., 0., 0., 3., 3., 5.])"
      ]
     },
     "execution_count": 519,
     "metadata": {},
     "output_type": "execute_result"
    }
   ],
   "source": [
    "deg"
   ]
  },
  {
   "cell_type": "code",
   "execution_count": 496,
   "id": "c59c034f-89cb-4e4d-9f68-608503e5b512",
   "metadata": {},
   "outputs": [],
   "source": [
    "deg_inv_sqrt = deg.pow_(-0.5)"
   ]
  },
  {
   "cell_type": "code",
   "execution_count": 498,
   "id": "a6916449-494e-4d5c-ac67-2b48fd6ca9ee",
   "metadata": {},
   "outputs": [
    {
     "data": {
      "text/plain": [
       "tensor([0.5774, 0.5774, 0.4472,    inf,    inf])"
      ]
     },
     "execution_count": 498,
     "metadata": {},
     "output_type": "execute_result"
    }
   ],
   "source": [
    "deg_inv_sqrt"
   ]
  },
  {
   "cell_type": "code",
   "execution_count": 499,
   "id": "968443fa-c361-4355-a11c-cdab25340f30",
   "metadata": {},
   "outputs": [
    {
     "data": {
      "text/plain": [
       "tensor([0.5774, 0.5774, 0.4472, 0.0000, 0.0000])"
      ]
     },
     "execution_count": 499,
     "metadata": {},
     "output_type": "execute_result"
    }
   ],
   "source": [
    "deg_inv_sqrt.masked_fill_(deg_inv_sqrt == float('inf'), 0)"
   ]
  },
  {
   "cell_type": "code",
   "execution_count": 500,
   "id": "299037a4-1a11-4323-bcf5-73d4f46bde61",
   "metadata": {},
   "outputs": [
    {
     "data": {
      "text/plain": [
       "tensor([0.3333, 0.3333, 0.2582, 0.3333, 0.2582, 0.2582, 0.2000, 0.0000, 0.0000,\n",
       "        0.0000, 0.0000])"
      ]
     },
     "execution_count": 500,
     "metadata": {},
     "output_type": "execute_result"
    }
   ],
   "source": [
    "deg_inv_sqrt[row] * edge_weight * deg_inv_sqrt[col]"
   ]
  },
  {
   "cell_type": "code",
   "execution_count": 501,
   "id": "6b5d24b9-291b-499a-a59f-2ccbc8b4887b",
   "metadata": {},
   "outputs": [
    {
     "data": {
      "text/plain": [
       "tensor([0.5774, 0.5774, 0.5774, 0.5774, 0.5774, 0.4472, 0.4472, 0.0000, 0.0000,\n",
       "        0.0000, 0.0000])"
      ]
     },
     "execution_count": 501,
     "metadata": {},
     "output_type": "execute_result"
    }
   ],
   "source": [
    "deg_inv_sqrt[row]"
   ]
  },
  {
   "cell_type": "code",
   "execution_count": null,
   "id": "332afc18-b50f-466a-afdf-f9826235388c",
   "metadata": {},
   "outputs": [],
   "source": []
  },
  {
   "cell_type": "markdown",
   "id": "d8f4dd16-775f-4d3b-b87c-203c730cb3d5",
   "metadata": {},
   "source": [
    "#### forward"
   ]
  },
  {
   "cell_type": "code",
   "execution_count": null,
   "id": "d0b19d35-df7b-43cc-b4c3-2da1fd65ae2f",
   "metadata": {},
   "outputs": [],
   "source": [
    "edge_index_norm = gcn_norm(edge_index=edge_index, \n",
    "                           add_self_loops=self.add_self_loops)\n",
    "\n",
    "# concat the user_emb and item_emb as the layer0 embing matrix\n",
    "# size will be (n_users + n_items) x emb_vector_len.   e.g: 10334 x 64\n",
    "emb_0 = torch.cat([self.users_emb.weight, self.items_emb.weight]) # E^0\n",
    "\n",
    "embs = [emb_0] # save the layer0 emb to the embs list\n",
    "\n",
    "# emb_k is the emb that we are actually going to push it through the graph layers\n",
    "# as described in lightGCN paper formula 7\n",
    "emb_k = emb_0 \n",
    "\n",
    "# push the embedding of all users and items through the Graph Model K times.\n",
    "# K here is the number of layers\n",
    "for i in range(self.K):\n",
    "    emb_k = self.propagate(edge_index=edge_index_norm[0], x=emb_k, norm=edge_index_norm[1])\n",
    "    embs.append(emb_k)\n",
    "\n",
    "\n",
    "# this is doing the formula8 in LightGCN paper  \n",
    "\n",
    "# the stacked embs is a list of embedding matrix at each layer\n",
    "#    it's of shape n_nodes x (n_layers + 1) x emb_vector_len. \n",
    "#        e.g: torch.Size([10334, 4, 64])\n",
    "embs = torch.stack(embs, dim=1)\n",
    "\n",
    "# From LightGCn paper: \"In our experiments, we find that setting α_k uniformly as 1/(K + 1)\n",
    "#    leads to good performance in general.\"\n",
    "emb_final = torch.mean(embs, dim=1) # E^K\n",
    "\n",
    "users_emb_final, items_emb_final = torch.split(emb_final, \n",
    "                                               [self.num_users, self.num_items]) # splits into e_u^K and e_i^K\n",
    "\n",
    "\n",
    "r_mat_edge_index, _ = self.convert_adj_mat_edge_index_to_r_mat_edge_index(edge_index, edge_values)\n",
    "\n",
    "src, dest =  r_mat_edge_index[0], r_mat_edge_index[1]\n",
    "\n",
    "# applying embedding lookup to get embeddings for src nodes and dest nodes in the edge list\n",
    "user_embeds = users_emb_final[src]\n",
    "item_embeds = items_emb_final[dest]\n",
    "\n",
    "# output dim: edge_index_len x 128 (given 64 is the original emb_vector_len)\n",
    "output = torch.cat([user_embeds, item_embeds], dim=1)\n",
    "\n",
    "# push it through the linear layer\n",
    "output = self.out(output)"
   ]
  },
  {
   "cell_type": "code",
   "execution_count": null,
   "id": "528b6800-0236-4fe1-ac47-2ef022e9e220",
   "metadata": {},
   "outputs": [],
   "source": []
  },
  {
   "cell_type": "code",
   "execution_count": null,
   "id": "7f83353c-3372-4865-b782-3092dc11d126",
   "metadata": {},
   "outputs": [],
   "source": []
  },
  {
   "cell_type": "code",
   "execution_count": null,
   "id": "fd1105bd-9258-436e-a651-91105034018a",
   "metadata": {},
   "outputs": [],
   "source": []
  },
  {
   "cell_type": "code",
   "execution_count": null,
   "id": "5f07d16f-9704-422b-9e97-44ad6c218f81",
   "metadata": {},
   "outputs": [],
   "source": []
  },
  {
   "cell_type": "code",
   "execution_count": null,
   "id": "49186b6a-c455-4b22-912a-625c75cc2dc0",
   "metadata": {},
   "outputs": [],
   "source": []
  },
  {
   "cell_type": "code",
   "execution_count": null,
   "id": "fc67aa13-5860-49d2-9b45-33f24ec0624a",
   "metadata": {},
   "outputs": [],
   "source": []
  },
  {
   "cell_type": "code",
   "execution_count": null,
   "id": "1a1deb10-b8f5-4a86-bd25-b218237531cf",
   "metadata": {},
   "outputs": [],
   "source": []
  },
  {
   "cell_type": "code",
   "execution_count": null,
   "id": "c8333d9b-f147-4531-a691-ccf574907374",
   "metadata": {},
   "outputs": [],
   "source": []
  },
  {
   "cell_type": "code",
   "execution_count": null,
   "id": "d35ba841-2118-4432-b814-186487b07e4d",
   "metadata": {},
   "outputs": [],
   "source": []
  },
  {
   "cell_type": "markdown",
   "id": "3fffb428-7705-4c97-8b16-92edfec323bb",
   "metadata": {},
   "source": [
    "## TOY"
   ]
  },
  {
   "cell_type": "code",
   "execution_count": 418,
   "id": "c9c6630e-6bff-4fd8-a5a4-29887b102f4f",
   "metadata": {},
   "outputs": [],
   "source": [
    "edge_index_norm = gcn_norm(edge_index=edge_index)"
   ]
  },
  {
   "cell_type": "code",
   "execution_count": 419,
   "id": "67597d77-43ee-474f-873d-cc1f20de8f71",
   "metadata": {},
   "outputs": [
    {
     "data": {
      "text/plain": [
       "(tensor([[0, 0, 1, 1, 2, 3, 3, 4, 4, 0, 1, 2, 3, 4],\n",
       "         [1, 2, 0, 2, 1, 1, 2, 0, 2, 0, 1, 2, 3, 4]]),\n",
       " tensor([0.2887, 0.2582, 0.2887, 0.2236, 0.2236, 0.5000, 0.4472, 0.5774, 0.4472,\n",
       "         0.3333, 0.2500, 0.2000, 1.0000, 1.0000]))"
      ]
     },
     "execution_count": 419,
     "metadata": {},
     "output_type": "execute_result"
    }
   ],
   "source": [
    "edge_index_norm"
   ]
  },
  {
   "cell_type": "code",
   "execution_count": 420,
   "id": "210424b1-c203-4e59-b0e2-14d1f1e7da88",
   "metadata": {},
   "outputs": [],
   "source": [
    "emb_0 = torch.cat([model.emb_users.weight, model.emb_items.weight]) # E^0"
   ]
  },
  {
   "cell_type": "code",
   "execution_count": 421,
   "id": "e66d28ba-950d-4c30-8184-75754f980035",
   "metadata": {},
   "outputs": [
    {
     "data": {
      "text/plain": [
       "torch.Size([8, 3])"
      ]
     },
     "execution_count": 421,
     "metadata": {},
     "output_type": "execute_result"
    }
   ],
   "source": [
    "emb_0.shape"
   ]
  },
  {
   "cell_type": "code",
   "execution_count": 422,
   "id": "59812b1b-45b2-423a-a446-f9474a56e58e",
   "metadata": {},
   "outputs": [],
   "source": [
    "embs = [emb_0] # save the layer0 emb to the embs list\n",
    "\n",
    "# emb_k is the emb that we are actually going to push it through the graph layers\n",
    "# as described in lightGCN paper formula 7\n",
    "emb_k = emb_0 "
   ]
  },
  {
   "cell_type": "code",
   "execution_count": 423,
   "id": "db4b62c2-e7b2-4281-87f1-2e23c0641e8f",
   "metadata": {},
   "outputs": [
    {
     "name": "stdout",
     "output_type": "stream",
     "text": [
      "k tensor([[-0.3251, -1.1688, -0.3561],\n",
      "        [-0.6655, -0.4764, -0.5787],\n",
      "        [ 0.0977, -0.2375,  0.2100],\n",
      "        [ 0.2056, -0.1933,  1.1499],\n",
      "        [ 0.7632,  0.2388,  0.7887],\n",
      "        [ 0.0000,  0.0000,  0.0000],\n",
      "        [ 0.0000,  0.0000,  0.0000],\n",
      "        [ 0.0000,  0.0000,  0.0000]], grad_fn=<ScatterAddBackward0>)\n"
     ]
    }
   ],
   "source": [
    "# push the embedding of all users and items through the Graph Model K times.\n",
    "# K here is the number of layers\n",
    "for i in range(1):\n",
    "    emb_k = model.propagate(edge_index=edge_index_norm[0], x=emb_k, norm=edge_index_norm[1])\n",
    "    print(\"k\", emb_k)\n",
    "    embs.append(emb_k)"
   ]
  },
  {
   "cell_type": "code",
   "execution_count": 424,
   "id": "a0ee1c82-a89c-4eef-bd45-aeb87a6e2342",
   "metadata": {},
   "outputs": [
    {
     "data": {
      "text/plain": [
       "Parameter containing:\n",
       "tensor([[-0.0472, -0.6625, -1.6090],\n",
       "        [-1.0055, -0.3181,  0.3021],\n",
       "        [-1.3506, -0.2246,  0.0834]], requires_grad=True)"
      ]
     },
     "execution_count": 424,
     "metadata": {},
     "output_type": "execute_result"
    }
   ],
   "source": [
    "model.emb_items.weight"
   ]
  },
  {
   "cell_type": "code",
   "execution_count": 426,
   "id": "e47abca3-efcb-4f82-934a-8f589759a3b9",
   "metadata": {},
   "outputs": [
    {
     "data": {
      "text/plain": [
       "Parameter containing:\n",
       "tensor([[-0.6879, -0.8433, -0.8194],\n",
       "        [-0.4003, -0.5644, -0.3253],\n",
       "        [ 0.2171,  1.1246, -0.5839],\n",
       "        [ 0.2056, -0.1933,  1.1499],\n",
       "        [ 0.7632,  0.2388,  0.7887]], requires_grad=True)"
      ]
     },
     "execution_count": 426,
     "metadata": {},
     "output_type": "execute_result"
    }
   ],
   "source": [
    "model.emb_users.weight"
   ]
  },
  {
   "cell_type": "code",
   "execution_count": 428,
   "id": "87ed98e5-900d-408a-9c58-7dbc0be145d1",
   "metadata": {},
   "outputs": [
    {
     "data": {
      "text/plain": [
       "[tensor([[-0.6879, -0.8433, -0.8194],\n",
       "         [-0.4003, -0.5644, -0.3253],\n",
       "         [ 0.2171,  1.1246, -0.5839],\n",
       "         [ 0.2056, -0.1933,  1.1499],\n",
       "         [ 0.7632,  0.2388,  0.7887],\n",
       "         [-0.0472, -0.6625, -1.6090],\n",
       "         [-1.0055, -0.3181,  0.3021],\n",
       "         [-1.3506, -0.2246,  0.0834]], grad_fn=<CatBackward0>),\n",
       " tensor([[-0.3251, -1.1688, -0.3561],\n",
       "         [-0.6655, -0.4764, -0.5787],\n",
       "         [ 0.0977, -0.2375,  0.2100],\n",
       "         [ 0.2056, -0.1933,  1.1499],\n",
       "         [ 0.7632,  0.2388,  0.7887],\n",
       "         [ 0.0000,  0.0000,  0.0000],\n",
       "         [ 0.0000,  0.0000,  0.0000],\n",
       "         [ 0.0000,  0.0000,  0.0000]], grad_fn=<ScatterAddBackward0>)]"
      ]
     },
     "execution_count": 428,
     "metadata": {},
     "output_type": "execute_result"
    }
   ],
   "source": [
    "embs"
   ]
  },
  {
   "cell_type": "code",
   "execution_count": 429,
   "id": "ca19dfb2-81b6-4ab9-8235-e608d7667572",
   "metadata": {},
   "outputs": [],
   "source": [
    "embs = torch.stack(embs, dim=1)"
   ]
  },
  {
   "cell_type": "code",
   "execution_count": 430,
   "id": "a50568eb-73a5-422a-8d8e-0573ae7c4d64",
   "metadata": {},
   "outputs": [
    {
     "data": {
      "text/plain": [
       "torch.Size([8, 2, 3])"
      ]
     },
     "execution_count": 430,
     "metadata": {},
     "output_type": "execute_result"
    }
   ],
   "source": [
    "embs.shape"
   ]
  },
  {
   "cell_type": "code",
   "execution_count": 431,
   "id": "aaf1846d-8c40-4ec2-85f7-c99c601d5df9",
   "metadata": {},
   "outputs": [],
   "source": [
    "emb_final = torch.mean(embs, dim=1)"
   ]
  },
  {
   "cell_type": "code",
   "execution_count": 432,
   "id": "b27bb9f8-afd0-4db7-ac50-af7a09d8901e",
   "metadata": {},
   "outputs": [
    {
     "data": {
      "text/plain": [
       "tensor([[-0.5065, -1.0060, -0.5878],\n",
       "        [-0.5329, -0.5204, -0.4520],\n",
       "        [ 0.1574,  0.4436, -0.1869],\n",
       "        [ 0.2056, -0.1933,  1.1499],\n",
       "        [ 0.7632,  0.2388,  0.7887],\n",
       "        [-0.0236, -0.3312, -0.8045],\n",
       "        [-0.5027, -0.1590,  0.1511],\n",
       "        [-0.6753, -0.1123,  0.0417]], grad_fn=<MeanBackward1>)"
      ]
     },
     "execution_count": 432,
     "metadata": {},
     "output_type": "execute_result"
    }
   ],
   "source": [
    "emb_final"
   ]
  },
  {
   "cell_type": "code",
   "execution_count": 433,
   "id": "dc98895a-a6bc-4085-9afc-3d142dcba278",
   "metadata": {},
   "outputs": [],
   "source": [
    "users_emb_final, items_emb_final = torch.split(emb_final, [nu, ni]) # splits into e_u^K and e_i^K"
   ]
  },
  {
   "cell_type": "code",
   "execution_count": 434,
   "id": "5d205f32-702d-465e-aeb6-b6af499bd417",
   "metadata": {},
   "outputs": [
    {
     "data": {
      "text/plain": [
       "tensor([[-0.5065, -1.0060, -0.5878],\n",
       "        [-0.5329, -0.5204, -0.4520],\n",
       "        [ 0.1574,  0.4436, -0.1869],\n",
       "        [ 0.2056, -0.1933,  1.1499],\n",
       "        [ 0.7632,  0.2388,  0.7887]], grad_fn=<SplitWithSizesBackward0>)"
      ]
     },
     "execution_count": 434,
     "metadata": {},
     "output_type": "execute_result"
    }
   ],
   "source": [
    "users_emb_final"
   ]
  },
  {
   "cell_type": "code",
   "execution_count": 435,
   "id": "6c601b36-e974-440f-9b12-d89ef9b85cdf",
   "metadata": {},
   "outputs": [
    {
     "data": {
      "text/plain": [
       "tensor([[-0.0236, -0.3312, -0.8045],\n",
       "        [-0.5027, -0.1590,  0.1511],\n",
       "        [-0.6753, -0.1123,  0.0417]], grad_fn=<SplitWithSizesBackward0>)"
      ]
     },
     "execution_count": 435,
     "metadata": {},
     "output_type": "execute_result"
    }
   ],
   "source": [
    "items_emb_final"
   ]
  },
  {
   "cell_type": "markdown",
   "id": "dfe67312-b622-43a4-959c-6b583e724a51",
   "metadata": {},
   "source": [
    "### Toy example\n",
    "\n",
    "YouTube: https://www.youtube.com/watch?v=LPfCmwEOsds&list=PLcLdsfpLufYCJ_eg7VWuI7ROQT7SxUDGj&ab_channel=MachineLearningAlchemy"
   ]
  }
 ],
 "metadata": {
  "kernelspec": {
   "display_name": "vault_pytorch_lightgcn",
   "language": "python",
   "name": "vault_pytorch_lightgcn"
  },
  "language_info": {
   "codemirror_mode": {
    "name": "ipython",
    "version": 3
   },
   "file_extension": ".py",
   "mimetype": "text/x-python",
   "name": "python",
   "nbconvert_exporter": "python",
   "pygments_lexer": "ipython3",
   "version": "3.9.18"
  }
 },
 "nbformat": 4,
 "nbformat_minor": 5
}
